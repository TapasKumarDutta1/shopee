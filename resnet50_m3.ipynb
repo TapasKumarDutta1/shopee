{
  "nbformat": 4,
  "nbformat_minor": 0,
  "metadata": {
    "accelerator": "GPU",
    "colab": {
      "name": "resnet50_m3.ipynb",
      "provenance": [],
      "machine_shape": "hm",
      "include_colab_link": true
    },
    "kernelspec": {
      "display_name": "Python 3",
      "name": "python3"
    }
  },
  "cells": [
    {
      "cell_type": "markdown",
      "metadata": {
        "id": "view-in-github",
        "colab_type": "text"
      },
      "source": [
        "<a href=\"https://colab.research.google.com/github/greyhound101/shopee/blob/main/resnet50_m3.ipynb\" target=\"_parent\"><img src=\"https://colab.research.google.com/assets/colab-badge.svg\" alt=\"Open In Colab\"/></a>"
      ]
    },
    {
      "cell_type": "code",
      "metadata": {
        "colab": {
          "base_uri": "https://localhost:8080/"
        },
        "id": "eQqlrXIJej1l",
        "outputId": "b8322a8b-942e-4fba-acc3-ba851b9a086a"
      },
      "source": [
        "from google.colab import drive\n",
        "drive.mount('/content/gdrive')\n",
        "drive.mount(\"/content/gdrive\", force_remount=True)"
      ],
      "execution_count": 1,
      "outputs": [
        {
          "output_type": "stream",
          "text": [
            "Drive already mounted at /content/gdrive; to attempt to forcibly remount, call drive.mount(\"/content/gdrive\", force_remount=True).\n",
            "Mounted at /content/gdrive\n"
          ],
          "name": "stdout"
        }
      ]
    },
    {
      "cell_type": "code",
      "metadata": {
        "colab": {
          "base_uri": "https://localhost:8080/",
          "height": 36
        },
        "id": "wpc_I11x_6Y0",
        "outputId": "a40ad6b8-837f-4c0b-84dd-5e4944b0fc78"
      },
      "source": [
        "import shutil\n",
        "shutil.copy( '/content/gdrive/My Drive/shopee/train_images.zip','/content/')"
      ],
      "execution_count": 13,
      "outputs": [
        {
          "output_type": "execute_result",
          "data": {
            "application/vnd.google.colaboratory.intrinsic+json": {
              "type": "string"
            },
            "text/plain": [
              "'/content/train_images.zip'"
            ]
          },
          "metadata": {
            "tags": []
          },
          "execution_count": 13
        }
      ]
    },
    {
      "cell_type": "code",
      "metadata": {
        "id": "rhrs7HucA_Qq"
      },
      "source": [
        "import os\n",
        "os.mkdir('/content/train images')"
      ],
      "execution_count": 14,
      "outputs": []
    },
    {
      "cell_type": "code",
      "metadata": {
        "colab": {
          "base_uri": "https://localhost:8080/"
        },
        "id": "E0RIYpToA1MU",
        "outputId": "e5a1da89-a1ad-42ba-8b45-028c783cdcc7"
      },
      "source": [
        "import zipfile\n",
        "a=zipfile.ZipFile('/content/train_images.zip', 'r')\n",
        "from tqdm import tqdm\n",
        "while True:\n",
        "  present=os.listdir('/content/train images')\n",
        "  \n",
        "  for file in tqdm(a.namelist()):\n",
        "    if file not in present:\n",
        "      a.extract(file,'/content/train images')\n",
        "  if len(set(present)-set(a.namelist()))==0:\n",
        "      break"
      ],
      "execution_count": 20,
      "outputs": [
        {
          "output_type": "stream",
          "text": [
            "\n",
            "  0%|          | 0/32412 [00:00<?, ?it/s]\u001b[A\n",
            "  1%|          | 336/32412 [00:00<00:09, 3359.99it/s]\u001b[A\n",
            "  2%|▏         | 664/32412 [00:00<00:09, 3335.10it/s]\u001b[A\n",
            "  3%|▎         | 1005/32412 [00:00<00:09, 3352.94it/s]\u001b[A\n",
            "  4%|▍         | 1311/32412 [00:00<00:09, 3255.55it/s]\u001b[A\n",
            "  5%|▌         | 1622/32412 [00:00<00:09, 3209.36it/s]\u001b[A\n",
            "  6%|▌         | 1911/32412 [00:00<00:09, 3105.74it/s]\u001b[A\n",
            "  7%|▋         | 2230/32412 [00:00<00:09, 3128.58it/s]\u001b[A\n",
            "  8%|▊         | 2554/32412 [00:00<00:09, 3160.65it/s]\u001b[A\n",
            "  9%|▉         | 2868/32412 [00:00<00:09, 3149.94it/s]\u001b[A\n",
            " 10%|▉         | 3183/32412 [00:01<00:09, 3148.30it/s]\u001b[A\n",
            " 11%|█         | 3497/32412 [00:01<00:09, 3144.18it/s]\u001b[A\n",
            " 12%|█▏        | 3806/32412 [00:01<00:09, 3075.39it/s]\u001b[A\n",
            " 13%|█▎        | 4110/32412 [00:01<00:09, 3029.99it/s]\u001b[A\n",
            " 14%|█▎        | 4411/32412 [00:01<00:09, 3021.29it/s]\u001b[A\n",
            " 15%|█▍        | 4719/32412 [00:01<00:09, 3037.12it/s]\u001b[A\n",
            " 15%|█▌        | 5022/32412 [00:01<00:09, 2960.30it/s]\u001b[A\n",
            " 16%|█▋        | 5337/32412 [00:01<00:08, 3012.87it/s]\u001b[A\n",
            " 17%|█▋        | 5664/32412 [00:01<00:08, 3084.37it/s]\u001b[A\n",
            " 18%|█▊        | 5982/32412 [00:01<00:08, 3112.14it/s]\u001b[A\n",
            " 19%|█▉        | 6302/32412 [00:02<00:08, 3137.85it/s]\u001b[A\n",
            " 20%|██        | 6617/32412 [00:02<00:08, 3139.58it/s]\u001b[A\n",
            " 21%|██▏       | 6932/32412 [00:02<00:08, 3138.79it/s]\u001b[A\n",
            " 22%|██▏       | 7248/32412 [00:02<00:08, 3144.53it/s]\u001b[A\n",
            " 23%|██▎       | 7576/32412 [00:02<00:07, 3180.75it/s]\u001b[A\n",
            " 24%|██▍       | 7895/32412 [00:02<00:07, 3158.28it/s]\u001b[A\n",
            " 25%|██▌       | 8213/32412 [00:02<00:07, 3164.52it/s]\u001b[A\n",
            " 26%|██▋       | 8530/32412 [00:02<00:07, 3123.66it/s]\u001b[A\n",
            " 27%|██▋       | 8843/32412 [00:02<00:07, 3040.63it/s]\u001b[A\n",
            " 28%|██▊       | 9163/32412 [00:02<00:07, 3085.16it/s]\u001b[A\n",
            " 29%|██▉       | 9473/32412 [00:03<00:07, 3075.15it/s]\u001b[A\n",
            " 30%|███       | 9781/32412 [00:03<00:07, 3063.52it/s]\u001b[A\n",
            " 31%|███       | 10088/32412 [00:03<00:07, 3044.44it/s]\u001b[A\n",
            " 32%|███▏      | 10397/32412 [00:03<00:07, 3055.79it/s]\u001b[A\n",
            " 33%|███▎      | 10703/32412 [00:03<00:07, 3024.20it/s]\u001b[A\n",
            " 34%|███▍      | 11016/32412 [00:03<00:07, 3048.02it/s]\u001b[A\n",
            " 35%|███▍      | 11340/32412 [00:03<00:06, 3102.53it/s]\u001b[A\n",
            " 36%|███▌      | 11659/32412 [00:03<00:06, 3124.24it/s]\u001b[A\n",
            " 37%|███▋      | 11972/32412 [00:03<00:06, 3119.52it/s]\u001b[A\n",
            " 38%|███▊      | 12294/32412 [00:03<00:06, 3148.71it/s]\u001b[A\n",
            " 39%|███▉      | 12610/32412 [00:04<00:06, 3079.20it/s]\u001b[A\n",
            " 40%|███▉      | 12919/32412 [00:04<00:06, 3056.58it/s]\u001b[A\n",
            " 41%|████      | 13226/32412 [00:04<00:06, 3051.21it/s]\u001b[A\n",
            " 42%|████▏     | 13532/32412 [00:04<00:06, 3038.93it/s]\u001b[A\n",
            " 43%|████▎     | 13858/32412 [00:04<00:05, 3099.63it/s]\u001b[A\n",
            " 44%|████▎     | 14169/32412 [00:04<00:05, 3057.01it/s]\u001b[A\n",
            " 45%|████▍     | 14476/32412 [00:04<00:05, 3006.17it/s]\u001b[A\n",
            " 46%|████▌     | 14790/32412 [00:04<00:05, 3045.02it/s]\u001b[A\n",
            " 47%|████▋     | 15100/32412 [00:04<00:05, 3060.66it/s]\u001b[A\n",
            " 48%|████▊     | 15407/32412 [00:04<00:05, 3006.44it/s]\u001b[A\n",
            " 48%|████▊     | 15717/32412 [00:05<00:05, 3032.13it/s]\u001b[A\n",
            " 50%|████▉     | 16048/32412 [00:05<00:05, 3106.52it/s]\u001b[A\n",
            " 50%|█████     | 16366/32412 [00:05<00:05, 3126.06it/s]\u001b[A\n",
            " 51%|█████▏    | 16680/32412 [00:05<00:05, 3100.13it/s]\u001b[A\n",
            " 52%|█████▏    | 16999/32412 [00:05<00:04, 3125.31it/s]\u001b[A\n",
            " 53%|█████▎    | 17312/32412 [00:05<00:04, 3073.24it/s]\u001b[A\n",
            " 54%|█████▍    | 17634/32412 [00:05<00:04, 3112.44it/s]\u001b[A\n",
            " 55%|█████▌    | 17948/32412 [00:05<00:04, 3118.27it/s]\u001b[A\n",
            " 56%|█████▋    | 18261/32412 [00:05<00:04, 3089.76it/s]\u001b[A\n",
            " 57%|█████▋    | 18571/32412 [00:05<00:04, 3076.44it/s]\u001b[A\n",
            " 58%|█████▊    | 18880/32412 [00:06<00:04, 3079.53it/s]\u001b[A\n",
            " 59%|█████▉    | 19194/32412 [00:06<00:04, 3093.36it/s]\u001b[A\n",
            " 60%|██████    | 19504/32412 [00:06<00:04, 3067.79it/s]\u001b[A\n",
            " 61%|██████    | 19818/32412 [00:06<00:04, 3082.75it/s]\u001b[A\n",
            " 62%|██████▏   | 20137/32412 [00:06<00:03, 3111.83it/s]\u001b[A\n",
            " 63%|██████▎   | 20449/32412 [00:06<00:03, 3099.96it/s]\u001b[A\n",
            " 64%|██████▍   | 20765/32412 [00:06<00:03, 3114.07it/s]\u001b[A\n",
            " 65%|██████▌   | 21087/32412 [00:06<00:03, 3143.65it/s]\u001b[A\n",
            " 66%|██████▌   | 21418/32412 [00:06<00:03, 3191.67it/s]\u001b[A\n",
            " 67%|██████▋   | 21738/32412 [00:07<00:03, 3117.20it/s]\u001b[A\n",
            " 68%|██████▊   | 22054/32412 [00:07<00:03, 3127.47it/s]\u001b[A\n",
            " 69%|██████▉   | 22369/32412 [00:07<00:03, 3132.38it/s]\u001b[A\n",
            " 70%|██████▉   | 22683/32412 [00:07<00:03, 3117.12it/s]\u001b[A\n",
            " 71%|███████   | 22995/32412 [00:07<00:03, 3043.87it/s]\u001b[A\n",
            " 72%|███████▏  | 23304/32412 [00:07<00:02, 3055.92it/s]\u001b[A\n",
            " 73%|███████▎  | 23610/32412 [00:07<00:02, 2983.61it/s]\u001b[A\n",
            " 74%|███████▍  | 23946/32412 [00:07<00:02, 3084.68it/s]\u001b[A\n",
            " 75%|███████▍  | 24261/32412 [00:07<00:02, 3102.92it/s]\u001b[A\n",
            " 76%|███████▌  | 24573/32412 [00:07<00:02, 3059.90it/s]\u001b[A\n",
            " 77%|███████▋  | 24885/32412 [00:08<00:02, 3074.68it/s]\u001b[A\n",
            " 78%|███████▊  | 25194/32412 [00:08<00:02, 3032.96it/s]\u001b[A\n",
            " 79%|███████▊  | 25498/32412 [00:08<00:02, 3009.18it/s]\u001b[A\n",
            " 80%|███████▉  | 25804/32412 [00:08<00:02, 3022.15it/s]\u001b[A\n",
            " 81%|████████  | 26118/32412 [00:08<00:02, 3054.47it/s]\u001b[A\n",
            " 82%|████████▏ | 26434/32412 [00:08<00:01, 3084.42it/s]\u001b[A\n",
            " 83%|████████▎ | 26752/32412 [00:08<00:01, 3111.25it/s]\u001b[A\n",
            " 83%|████████▎ | 27064/32412 [00:08<00:01, 3049.49it/s]\u001b[A\n",
            " 84%|████████▍ | 27384/32412 [00:08<00:01, 3092.88it/s]\u001b[A\n",
            " 85%|████████▌ | 27694/32412 [00:08<00:01, 3075.69it/s]\u001b[A\n",
            " 86%|████████▋ | 28022/32412 [00:09<00:01, 3130.04it/s]\u001b[A\n",
            " 87%|████████▋ | 28336/32412 [00:09<00:01, 3106.63it/s]\u001b[A\n",
            " 88%|████████▊ | 28648/32412 [00:09<00:01, 3086.83it/s]\u001b[A\n",
            " 89%|████████▉ | 28957/32412 [00:09<00:01, 3074.16it/s]\u001b[A\n",
            " 90%|█████████ | 29265/32412 [00:09<00:01, 3045.74it/s]\u001b[A\n",
            " 91%|█████████▏| 29597/32412 [00:09<00:00, 3122.28it/s]\u001b[A\n",
            " 92%|█████████▏| 29911/32412 [00:09<00:00, 3124.74it/s]\u001b[A\n",
            " 93%|█████████▎| 30231/32412 [00:09<00:00, 3144.24it/s]\u001b[A\n",
            " 94%|█████████▍| 30546/32412 [00:09<00:00, 3129.02it/s]\u001b[A\n",
            " 95%|█████████▌| 30860/32412 [00:09<00:00, 3129.88it/s]\u001b[A\n",
            " 96%|█████████▌| 31174/32412 [00:10<00:00, 3122.19it/s]\u001b[A\n",
            " 97%|█████████▋| 31487/32412 [00:10<00:00, 3019.37it/s]\u001b[A\n",
            " 98%|█████████▊| 31790/32412 [00:10<00:00, 2983.53it/s]\u001b[A\n",
            "100%|██████████| 32412/32412 [00:10<00:00, 3091.74it/s]\n"
          ],
          "name": "stderr"
        }
      ]
    },
    {
      "cell_type": "code",
      "metadata": {
        "id": "_WXDyhihenRg"
      },
      "source": [
        "from __future__ import print_function\n",
        "from __future__ import division\n",
        "import torch\n",
        "import torch.nn as nn\n",
        "import torch.nn.functional as F\n",
        "from torch.nn import Parameter\n",
        "import math\n",
        "from torch.nn.parameter import Parameter\n",
        "import torchvision.models as models\n",
        "from torch.autograd import Variable\n",
        "import torch\n",
        "import torch.nn.functional as F\n",
        "import math\n",
        "from torch import nn\n",
        "from torch.nn.parameter import *\n",
        "\n",
        "\n",
        "NUMBER_OF_CLASSES = 11014\n",
        "\n",
        "\n",
        "class ArcFaceLoss(nn.modules.Module):\n",
        "    def __init__(self,device, s=45.0, m=0.3, crit=\"bce\", weight=None, reduction=\"mean\"):\n",
        "        super().__init__()\n",
        "\n",
        "        self.weight = weight\n",
        "        self.reduction = reduction\n",
        "        \n",
        "        self.crit = nn.CrossEntropyLoss(reduction=\"none\")   \n",
        "\n",
        "        self.s = s\n",
        "\n",
        "        self.cos_m = math.cos(m)\n",
        "        self.sin_m = math.sin(m)\n",
        "        self.th = math.cos(math.pi - m)\n",
        "        self.mm = math.sin(math.pi - m) * m\n",
        "        self.device=device\n",
        "    def forward(self, logits, labels):\n",
        "\n",
        "        logits = logits.float()\n",
        "        cosine = logits\n",
        "        sine = torch.sqrt(1.0 - torch.pow(cosine, 2))\n",
        "        phi = cosine * self.cos_m - sine * self.sin_m\n",
        "        phi = torch.where(cosine > self.th, phi, cosine - self.mm)\n",
        "        \n",
        "        labels2 = torch.zeros_like(cosine)\n",
        "        labels2.scatter_(1, labels.view(-1, 1).long(), 1)\n",
        "        output = (labels2 * phi) + ((1.0 - labels2) * cosine)\n",
        "        self.s = torch.nn.Parameter(torch.tensor([45.], requires_grad=False)).to(self.device)\n",
        "\n",
        "        output = output * self.s\n",
        "        loss = self.crit(output, labels)\n",
        "        \n",
        "        w = self.weight.to(logits.device)\n",
        "        \n",
        "        loss = loss * w\n",
        "        loss = loss.sum() / w.sum()\n",
        "        return loss\n",
        "          \n",
        "class ArcMarginProduct(nn.Module):\n",
        "    def __init__(self, in_features, out_features):\n",
        "        super().__init__()\n",
        "        self.weight = nn.Parameter(torch.Tensor(out_features, in_features))\n",
        "        self.reset_parameters()\n",
        "\n",
        "    def reset_parameters(self):\n",
        "        nn.init.xavier_uniform_(self.weight)\n",
        "\n",
        "    def forward(self, features):\n",
        "        cosine = F.linear(F.normalize(features), F.normalize(self.weight))\n",
        "        return cosine\n",
        "\n",
        "def gem(x, p=3, eps=1e-6):\n",
        "    return F.avg_pool2d(x.clamp(min=eps).pow(p), (x.size(-2), x.size(-1))).pow(1./p)\n",
        "\n",
        "class GeM(nn.Module):\n",
        "    def __init__(self, p=3, eps=1e-6, p_trainable=True):\n",
        "        super(GeM,self).__init__()\n",
        "        if p_trainable:\n",
        "            self.p = Parameter(torch.ones(1)*p)\n",
        "        else:\n",
        "            self.p = p\n",
        "        self.eps = eps\n",
        "\n",
        "    def forward(self, x):\n",
        "        return gem(x, p=self.p, eps=self.eps)       \n",
        "   \n",
        "class Backbone(nn.Module):\n",
        "\n",
        "    \n",
        "    def __init__(self, name='resnet50', pretrained=True):\n",
        "        super(Backbone, self).__init__()\n",
        "        self.net = nn.Sequential(*list( models.resnet50().children())[:-2])\n",
        "        self.out_features = 2048\n",
        "    def forward(self, x):\n",
        "        x = self.net(x)\n",
        "\n",
        "        return x\n",
        "\n",
        "    \n",
        "class Net(nn.Module):\n",
        "    def __init__(self, pretrained=True):\n",
        "        super(Net, self).__init__()\n",
        "        \n",
        "        self.backbone = Backbone()\n",
        "        \n",
        "        self.global_pool = GeM(p_trainable=3)\n",
        "        self.embedding_size = 256      \n",
        "        \n",
        "        self.neck = nn.Sequential(\n",
        "                nn.Linear(self.backbone.out_features, self.embedding_size, bias=True),\n",
        "                nn.BatchNorm1d(self.embedding_size),\n",
        "                torch.nn.PReLU()\n",
        "            )\n",
        "            \n",
        "        self.head = ArcMarginProduct(self.embedding_size, NUMBER_OF_CLASSES)\n",
        "        \n",
        "        \n",
        "    def forward(self, x):\n",
        "\n",
        "        x = self.backbone(x)\n",
        "        x = self.global_pool(x)\n",
        "        x = x[:,:,0,0]\n",
        "        \n",
        "        x = self.neck(x)\n",
        "\n",
        "        logits = self.head(x)\n",
        "        \n",
        "        return logits"
      ],
      "execution_count": 21,
      "outputs": []
    },
    {
      "cell_type": "code",
      "metadata": {
        "id": "KQ_0F8Zfep7F"
      },
      "source": [
        "import numpy as np\n",
        "import torch\n",
        "import albumentations as A\n",
        "from PIL import Image, ImageFile\n",
        "class DatasetRetriever:\n",
        "    def __init__(self, X,counts, y):\n",
        "        self.X=X\n",
        "        self.counts=counts\n",
        "        self.root='/content/train images/'\n",
        "        self.y = y\n",
        "        self.aug = A.Compose(\n",
        "                [\n",
        "                    A.Resize(512,512),\n",
        "                    A.RandomCrop(448,448),\n",
        "                    A.Normalize()\n",
        "                ]\n",
        "            )\n",
        "\n",
        "\n",
        "    def __len__(self):\n",
        "        return self.X.shape[0]\n",
        "        \n",
        "    def __getitem__(self,idx):\n",
        "        path = self.X[idx]\n",
        "        target=self.y[idx]\n",
        "        counts=self.counts[idx]\n",
        "        image_path = self.root+path\n",
        "        image = Image.open(image_path)\n",
        "        target = self.y[idx]\n",
        "\n",
        "        image = np.array(image)\n",
        "        augmented = self.aug(image=image)\n",
        "        image = augmented[\"image\"]\n",
        "        image = np.transpose(image, (2, 0, 1)).astype(np.float32)\n",
        "\n",
        "        return image, torch.tensor(target, dtype=torch.long),counts"
      ],
      "execution_count": 22,
      "outputs": []
    },
    {
      "cell_type": "code",
      "metadata": {
        "colab": {
          "base_uri": "https://localhost:8080/",
          "height": 258
        },
        "id": "FEyzz8P5-dvX",
        "outputId": "e4b50e5d-a441-4849-ba55-7b911b383f7b"
      },
      "source": [
        "\n",
        "import pandas as pd\n",
        "df=pd.read_csv('/content/gdrive/MyDrive/shopee/train.csv.zip')\n",
        "df.head()\n",
        "\n"
      ],
      "execution_count": 23,
      "outputs": [
        {
          "output_type": "execute_result",
          "data": {
            "text/html": [
              "<div>\n",
              "<style scoped>\n",
              "    .dataframe tbody tr th:only-of-type {\n",
              "        vertical-align: middle;\n",
              "    }\n",
              "\n",
              "    .dataframe tbody tr th {\n",
              "        vertical-align: top;\n",
              "    }\n",
              "\n",
              "    .dataframe thead th {\n",
              "        text-align: right;\n",
              "    }\n",
              "</style>\n",
              "<table border=\"1\" class=\"dataframe\">\n",
              "  <thead>\n",
              "    <tr style=\"text-align: right;\">\n",
              "      <th></th>\n",
              "      <th>posting_id</th>\n",
              "      <th>image</th>\n",
              "      <th>image_phash</th>\n",
              "      <th>title</th>\n",
              "      <th>label_group</th>\n",
              "    </tr>\n",
              "  </thead>\n",
              "  <tbody>\n",
              "    <tr>\n",
              "      <th>0</th>\n",
              "      <td>train_129225211</td>\n",
              "      <td>0000a68812bc7e98c42888dfb1c07da0.jpg</td>\n",
              "      <td>94974f937d4c2433</td>\n",
              "      <td>Paper Bag Victoria Secret</td>\n",
              "      <td>249114794</td>\n",
              "    </tr>\n",
              "    <tr>\n",
              "      <th>1</th>\n",
              "      <td>train_3386243561</td>\n",
              "      <td>00039780dfc94d01db8676fe789ecd05.jpg</td>\n",
              "      <td>af3f9460c2838f0f</td>\n",
              "      <td>Double Tape 3M VHB 12 mm x 4,5 m ORIGINAL / DO...</td>\n",
              "      <td>2937985045</td>\n",
              "    </tr>\n",
              "    <tr>\n",
              "      <th>2</th>\n",
              "      <td>train_2288590299</td>\n",
              "      <td>000a190fdd715a2a36faed16e2c65df7.jpg</td>\n",
              "      <td>b94cb00ed3e50f78</td>\n",
              "      <td>Maling TTS Canned Pork Luncheon Meat 397 gr</td>\n",
              "      <td>2395904891</td>\n",
              "    </tr>\n",
              "    <tr>\n",
              "      <th>3</th>\n",
              "      <td>train_2406599165</td>\n",
              "      <td>00117e4fc239b1b641ff08340b429633.jpg</td>\n",
              "      <td>8514fc58eafea283</td>\n",
              "      <td>Daster Batik Lengan pendek - Motif Acak / Camp...</td>\n",
              "      <td>4093212188</td>\n",
              "    </tr>\n",
              "    <tr>\n",
              "      <th>4</th>\n",
              "      <td>train_3369186413</td>\n",
              "      <td>00136d1cf4edede0203f32f05f660588.jpg</td>\n",
              "      <td>a6f319f924ad708c</td>\n",
              "      <td>Nescafe \\xc3\\x89clair Latte 220ml</td>\n",
              "      <td>3648931069</td>\n",
              "    </tr>\n",
              "  </tbody>\n",
              "</table>\n",
              "</div>"
            ],
            "text/plain": [
              "         posting_id  ... label_group\n",
              "0   train_129225211  ...   249114794\n",
              "1  train_3386243561  ...  2937985045\n",
              "2  train_2288590299  ...  2395904891\n",
              "3  train_2406599165  ...  4093212188\n",
              "4  train_3369186413  ...  3648931069\n",
              "\n",
              "[5 rows x 5 columns]"
            ]
          },
          "metadata": {
            "tags": []
          },
          "execution_count": 23
        }
      ]
    },
    {
      "cell_type": "code",
      "metadata": {
        "id": "OauHZNZMerDG",
        "colab": {
          "base_uri": "https://localhost:8080/",
          "height": 310
        },
        "outputId": "4a013d83-f726-43e5-bdb6-451fba0c12d6"
      },
      "source": [
        "\n",
        "\n",
        "import pandas as pd\n",
        "from sklearn.preprocessing import LabelEncoder\n",
        "df['counts']=df['label_group'].map(df['label_group'].value_counts())\n",
        "df['counts'] = 1/np.log1p(df['counts'])\n",
        "df['counts'] = (df['counts'] / df['counts'].sum()) * df['label_group'].nunique()\n",
        "le=LabelEncoder()\n",
        "df['label_group']=le.fit_transform(df['label_group'])\n",
        "df.head()\n",
        "\n"
      ],
      "execution_count": 24,
      "outputs": [
        {
          "output_type": "execute_result",
          "data": {
            "text/html": [
              "<div>\n",
              "<style scoped>\n",
              "    .dataframe tbody tr th:only-of-type {\n",
              "        vertical-align: middle;\n",
              "    }\n",
              "\n",
              "    .dataframe tbody tr th {\n",
              "        vertical-align: top;\n",
              "    }\n",
              "\n",
              "    .dataframe thead th {\n",
              "        text-align: right;\n",
              "    }\n",
              "</style>\n",
              "<table border=\"1\" class=\"dataframe\">\n",
              "  <thead>\n",
              "    <tr style=\"text-align: right;\">\n",
              "      <th></th>\n",
              "      <th>posting_id</th>\n",
              "      <th>image</th>\n",
              "      <th>image_phash</th>\n",
              "      <th>title</th>\n",
              "      <th>label_group</th>\n",
              "      <th>counts</th>\n",
              "    </tr>\n",
              "  </thead>\n",
              "  <tbody>\n",
              "    <tr>\n",
              "      <th>0</th>\n",
              "      <td>train_129225211</td>\n",
              "      <td>0000a68812bc7e98c42888dfb1c07da0.jpg</td>\n",
              "      <td>94974f937d4c2433</td>\n",
              "      <td>Paper Bag Victoria Secret</td>\n",
              "      <td>666</td>\n",
              "      <td>0.421731</td>\n",
              "    </tr>\n",
              "    <tr>\n",
              "      <th>1</th>\n",
              "      <td>train_3386243561</td>\n",
              "      <td>00039780dfc94d01db8676fe789ecd05.jpg</td>\n",
              "      <td>af3f9460c2838f0f</td>\n",
              "      <td>Double Tape 3M VHB 12 mm x 4,5 m ORIGINAL / DO...</td>\n",
              "      <td>7572</td>\n",
              "      <td>0.421731</td>\n",
              "    </tr>\n",
              "    <tr>\n",
              "      <th>2</th>\n",
              "      <td>train_2288590299</td>\n",
              "      <td>000a190fdd715a2a36faed16e2c65df7.jpg</td>\n",
              "      <td>b94cb00ed3e50f78</td>\n",
              "      <td>Maling TTS Canned Pork Luncheon Meat 397 gr</td>\n",
              "      <td>6172</td>\n",
              "      <td>0.421731</td>\n",
              "    </tr>\n",
              "    <tr>\n",
              "      <th>3</th>\n",
              "      <td>train_2406599165</td>\n",
              "      <td>00117e4fc239b1b641ff08340b429633.jpg</td>\n",
              "      <td>8514fc58eafea283</td>\n",
              "      <td>Daster Batik Lengan pendek - Motif Acak / Camp...</td>\n",
              "      <td>10509</td>\n",
              "      <td>0.421731</td>\n",
              "    </tr>\n",
              "    <tr>\n",
              "      <th>4</th>\n",
              "      <td>train_3369186413</td>\n",
              "      <td>00136d1cf4edede0203f32f05f660588.jpg</td>\n",
              "      <td>a6f319f924ad708c</td>\n",
              "      <td>Nescafe \\xc3\\x89clair Latte 220ml</td>\n",
              "      <td>9425</td>\n",
              "      <td>0.421731</td>\n",
              "    </tr>\n",
              "  </tbody>\n",
              "</table>\n",
              "</div>"
            ],
            "text/plain": [
              "         posting_id  ...    counts\n",
              "0   train_129225211  ...  0.421731\n",
              "1  train_3386243561  ...  0.421731\n",
              "2  train_2288590299  ...  0.421731\n",
              "3  train_2406599165  ...  0.421731\n",
              "4  train_3369186413  ...  0.421731\n",
              "\n",
              "[5 rows x 6 columns]"
            ]
          },
          "metadata": {
            "tags": []
          },
          "execution_count": 24
        }
      ]
    },
    {
      "cell_type": "code",
      "metadata": {
        "id": "Mja2yCpAINM4"
      },
      "source": [
        "def train(train_loader,valid_loader, model, device, optimizer):\n",
        "    model.train()\n",
        "    t = tqdm(train_loader)\n",
        "    total_loss=[]\n",
        "    for step, d in enumerate(t):\n",
        "#         if step<2:\n",
        "         image = d[0].to(device)\n",
        "         target = d[1].to(device)\n",
        "         counts = d[2].to(device)\n",
        "         model.zero_grad()\n",
        "         logits = model(image)\n",
        "         loss = ArcFaceLoss(device=device,weight=counts)(logits,target)\n",
        "         t.set_description(str(loss.item()))\n",
        "         total_loss.append(loss.item())\n",
        "         loss.backward()\n",
        "         optimizer.step()\n",
        "#         else:\n",
        "#             break\n",
        "    val_loss=[]\n",
        "    t = tqdm(valid_loader)    \n",
        "    for step, d in enumerate(t):\n",
        "#         if step<2:\n",
        "         image = d[0].to(device)\n",
        "         target = d[1].to(device)\n",
        "         counts = d[2].to(device)\n",
        "         logits = model(image)\n",
        "         loss = ArcFaceLoss(device=device,weight=counts)(logits,target)\n",
        "         val_loss.append(loss.item())\n",
        "#         else:\n",
        "#             break\n",
        "         \n",
        "    return total_loss,val_loss"
      ],
      "execution_count": 25,
      "outputs": []
    },
    {
      "cell_type": "code",
      "metadata": {
        "id": "Uo9D7_Mt01Qq"
      },
      "source": [
        "from sklearn.model_selection import train_test_split\n",
        "trn,val=train_test_split(df,test_size=0.35, random_state=42,stratify = df['label_group'])"
      ],
      "execution_count": 26,
      "outputs": []
    },
    {
      "cell_type": "code",
      "metadata": {
        "id": "ES4W36q1Kz7Y",
        "colab": {
          "base_uri": "https://localhost:8080/"
        },
        "outputId": "349c2465-d0c8-4385-b603-86842ff9fc99"
      },
      "source": [
        "rem=list(set(val['label_group'].unique())-set(trn['label_group'].unique()))\n",
        "rem=val.loc[val['label_group'].isin(rem)]\n",
        "val=val.loc[~(val['label_group'].isin(rem))]\n",
        "trn=pd.concat([trn,rem],0)\n",
        "print(trn.shape,val.shape,len(list(set(val['label_group'].unique())-set(trn['label_group'].unique()))))"
      ],
      "execution_count": 27,
      "outputs": [
        {
          "output_type": "stream",
          "text": [
            "(22262, 6) (11988, 6) 0\n"
          ],
          "name": "stdout"
        }
      ]
    },
    {
      "cell_type": "code",
      "metadata": {
        "id": "ArRiZ5lS0F9u"
      },
      "source": [
        "from tqdm import tqdm\n",
        "from statistics import *\n",
        "model=Net()\n",
        "optimizer = torch.optim.Adam(model.parameters(), \n",
        "                            lr=5e-4)\n",
        "train_dataset = DatasetRetriever(\n",
        "        X = trn['image'].values,counts=trn['counts'].values,\n",
        "        y = trn['label_group'].values)\n",
        "train_loader = torch.utils.data.DataLoader(train_dataset,batch_size=16,\n",
        "            drop_last=True\n",
        "        )\n",
        "\n",
        "valid_dataset = DatasetRetriever(\n",
        "        X = val['image'].values,counts=val['counts'].values,\n",
        "        y = val['label_group'].values)\n",
        "valid_loader = torch.utils.data.DataLoader(valid_dataset,batch_size=16,\n",
        "            drop_last=True\n",
        "        )\n",
        "\n",
        "\n",
        "device = torch.device('cuda' if torch.cuda.is_available() else 'cpu')"
      ],
      "execution_count": 28,
      "outputs": []
    },
    {
      "cell_type": "code",
      "metadata": {
        "id": "eq6gnpm4CjDC",
        "colab": {
          "base_uri": "https://localhost:8080/"
        },
        "outputId": "6a7acb8f-37de-42c0-dbfb-eb8bbed58d98"
      },
      "source": [
        "model.to(device)\n",
        "trn_loss=[]\n",
        "val_loss=[]\n",
        "\n",
        "for i in range(20):\n",
        "    t,v=train(train_loader,valid_loader, model, device, optimizer)\n",
        "    trn_loss.append(mean(t))\n",
        "    val_loss.append(mean(v))"
      ],
      "execution_count": null,
      "outputs": [
        {
          "output_type": "stream",
          "text": [
            "\n",
            "  0%|          | 0/1391 [00:00<?, ?it/s]\u001b[A\n",
            "25.62216715776963:   0%|          | 0/1391 [00:00<?, ?it/s]\u001b[A\n",
            "25.62216715776963:   0%|          | 1/1391 [00:00<18:43,  1.24it/s]\u001b[A\n",
            "27.602922452942963:   0%|          | 1/1391 [00:01<18:43,  1.24it/s]\u001b[A\n",
            "27.602922452942963:   0%|          | 2/1391 [00:01<17:07,  1.35it/s]\u001b[A\n",
            "26.19248300582465:   0%|          | 2/1391 [00:01<17:07,  1.35it/s] \u001b[A\n",
            "26.19248300582465:   0%|          | 3/1391 [00:01<15:55,  1.45it/s]\u001b[A\n",
            "25.731839959435852:   0%|          | 3/1391 [00:02<15:55,  1.45it/s]\u001b[A\n",
            "25.731839959435852:   0%|          | 4/1391 [00:02<15:14,  1.52it/s]\u001b[A\n",
            "24.931441229935633:   0%|          | 4/1391 [00:02<15:14,  1.52it/s]\u001b[A\n",
            "24.931441229935633:   0%|          | 5/1391 [00:03<14:26,  1.60it/s]\u001b[A\n",
            "24.68389924820213:   0%|          | 5/1391 [00:03<14:26,  1.60it/s] \u001b[A\n",
            "24.68389924820213:   0%|          | 6/1391 [00:03<13:50,  1.67it/s]\u001b[A\n",
            "23.649589671522136:   0%|          | 6/1391 [00:03<13:50,  1.67it/s]\u001b[A\n",
            "23.649589671522136:   1%|          | 7/1391 [00:04<13:41,  1.68it/s]\u001b[A\n",
            "25.076679015877886:   1%|          | 7/1391 [00:04<13:41,  1.68it/s]\u001b[A\n",
            "25.076679015877886:   1%|          | 8/1391 [00:04<13:31,  1.70it/s]\u001b[A\n",
            "24.457474100746445:   1%|          | 8/1391 [00:05<13:31,  1.70it/s]\u001b[A\n",
            "24.457474100746445:   1%|          | 9/1391 [00:05<13:37,  1.69it/s]\u001b[A\n",
            "24.020776024297742:   1%|          | 9/1391 [00:05<13:37,  1.69it/s]\u001b[A\n",
            "24.020776024297742:   1%|          | 10/1391 [00:05<13:26,  1.71it/s]\u001b[A\n",
            "25.221922171059262:   1%|          | 10/1391 [00:06<13:26,  1.71it/s]\u001b[A\n",
            "25.221922171059262:   1%|          | 11/1391 [00:06<13:05,  1.76it/s]\u001b[A\n",
            "23.981194452755698:   1%|          | 11/1391 [00:06<13:05,  1.76it/s]\u001b[A\n",
            "23.981194452755698:   1%|          | 12/1391 [00:07<13:09,  1.75it/s]\u001b[A\n",
            "26.481805942506888:   1%|          | 12/1391 [00:07<13:09,  1.75it/s]\u001b[A\n",
            "26.481805942506888:   1%|          | 13/1391 [00:07<12:57,  1.77it/s]\u001b[A\n",
            "25.516220474630085:   1%|          | 13/1391 [00:07<12:57,  1.77it/s]\u001b[A\n",
            "25.516220474630085:   1%|          | 14/1391 [00:08<12:52,  1.78it/s]\u001b[A\n",
            "24.765542391024898:   1%|          | 14/1391 [00:08<12:52,  1.78it/s]\u001b[A\n",
            "24.765542391024898:   1%|          | 15/1391 [00:08<12:50,  1.78it/s]\u001b[A\n",
            "25.855657311343162:   1%|          | 15/1391 [00:09<12:50,  1.78it/s]\u001b[A\n",
            "25.855657311343162:   1%|          | 16/1391 [00:09<12:45,  1.80it/s]\u001b[A\n",
            "25.594629059775762:   1%|          | 16/1391 [00:09<12:45,  1.80it/s]\u001b[A\n",
            "25.594629059775762:   1%|          | 17/1391 [00:09<12:47,  1.79it/s]\u001b[A\n",
            "26.623704872543907:   1%|          | 17/1391 [00:10<12:47,  1.79it/s]\u001b[A\n",
            "26.623704872543907:   1%|▏         | 18/1391 [00:10<12:49,  1.79it/s]\u001b[A\n",
            "25.277668546888858:   1%|▏         | 18/1391 [00:10<12:49,  1.79it/s]\u001b[A\n",
            "25.277668546888858:   1%|▏         | 19/1391 [00:10<12:51,  1.78it/s]\u001b[A"
          ],
          "name": "stderr"
        }
      ]
    },
    {
      "cell_type": "code",
      "metadata": {
        "id": "cVk9YO8elt-M"
      },
      "source": [
        "from matplotlib import pyplot as plt\n",
        "plt.plot(trn_loss)"
      ],
      "execution_count": null,
      "outputs": []
    },
    {
      "cell_type": "code",
      "metadata": {
        "id": "ykeXpxh_lu8L"
      },
      "source": [
        "plt.plot(val_loss)"
      ],
      "execution_count": null,
      "outputs": []
    },
    {
      "cell_type": "code",
      "metadata": {
        "id": "dW_cCm5qClpb"
      },
      "source": [
        "torch.save(model.state_dict(), '/content/gdrive/MyDrive/shopee/resnet50m3.hdf5')"
      ],
      "execution_count": null,
      "outputs": []
    },
    {
      "cell_type": "code",
      "metadata": {
        "id": "YOdQm2sOWzCv"
      },
      "source": [
        ""
      ],
      "execution_count": null,
      "outputs": []
    }
  ]
}