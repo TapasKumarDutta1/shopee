{
  "nbformat": 4,
  "nbformat_minor": 0,
  "metadata": {
    "accelerator": "GPU",
    "colab": {
      "name": "resnet50_m3.ipynb",
      "provenance": [],
      "machine_shape": "hm",
      "include_colab_link": true
    },
    "kernelspec": {
      "display_name": "Python 3",
      "name": "python3"
    }
  },
  "cells": [
    {
      "cell_type": "markdown",
      "metadata": {
        "id": "view-in-github",
        "colab_type": "text"
      },
      "source": [
        "<a href=\"https://colab.research.google.com/github/greyhound101/shopee/blob/main/resnet50_m3.ipynb\" target=\"_parent\"><img src=\"https://colab.research.google.com/assets/colab-badge.svg\" alt=\"Open In Colab\"/></a>"
      ]
    },
    {
      "cell_type": "code",
      "metadata": {
        "colab": {
          "base_uri": "https://localhost:8080/"
        },
        "id": "eQqlrXIJej1l",
        "outputId": "48799f69-1ceb-428d-a174-ced8881bce5c"
      },
      "source": [
        "from google.colab import drive\n",
        "drive.mount('/content/gdrive')\n",
        "drive.mount(\"/content/gdrive\", force_remount=True)"
      ],
      "execution_count": 1,
      "outputs": [
        {
          "output_type": "stream",
          "text": [
            "Drive already mounted at /content/gdrive; to attempt to forcibly remount, call drive.mount(\"/content/gdrive\", force_remount=True).\n",
            "Mounted at /content/gdrive\n"
          ],
          "name": "stdout"
        }
      ]
    },
    {
      "cell_type": "code",
      "metadata": {
        "colab": {
          "base_uri": "https://localhost:8080/",
          "height": 36
        },
        "id": "wpc_I11x_6Y0",
        "outputId": "29445c0d-f934-4a95-c07f-896298027e6d"
      },
      "source": [
        "import shutil\n",
        "shutil.copy( '/content/gdrive/My Drive/shopee/train_images.zip','/content/')"
      ],
      "execution_count": 2,
      "outputs": [
        {
          "output_type": "execute_result",
          "data": {
            "application/vnd.google.colaboratory.intrinsic+json": {
              "type": "string"
            },
            "text/plain": [
              "'/content/train_images.zip'"
            ]
          },
          "metadata": {
            "tags": []
          },
          "execution_count": 2
        }
      ]
    },
    {
      "cell_type": "code",
      "metadata": {
        "id": "rhrs7HucA_Qq"
      },
      "source": [
        "import os\n",
        "try:\n",
        "  os.mkdir('/content/train images')\n",
        "except:\n",
        "  pass"
      ],
      "execution_count": 4,
      "outputs": []
    },
    {
      "cell_type": "code",
      "metadata": {
        "colab": {
          "base_uri": "https://localhost:8080/"
        },
        "id": "E0RIYpToA1MU",
        "outputId": "a8189bb2-5342-46b6-ee7a-9f11dc058893"
      },
      "source": [
        "import zipfile\n",
        "a=zipfile.ZipFile('/content/train_images.zip', 'r')\n",
        "from tqdm import tqdm\n",
        "while True:\n",
        "  present=os.listdir('/content/train images')\n",
        "  \n",
        "  for file in tqdm(a.namelist()):\n",
        "    if file not in present:\n",
        "      a.extract(file,'/content/train images')\n",
        "  if len(set(present)-set(a.namelist()))==0:\n",
        "      break"
      ],
      "execution_count": 5,
      "outputs": [
        {
          "output_type": "stream",
          "text": [
            "100%|██████████| 32412/32412 [00:09<00:00, 3273.97it/s]\n"
          ],
          "name": "stderr"
        }
      ]
    },
    {
      "cell_type": "code",
      "metadata": {
        "id": "_WXDyhihenRg"
      },
      "source": [
        "from __future__ import print_function\n",
        "from __future__ import division\n",
        "import torch\n",
        "import torch.nn as nn\n",
        "import torch.nn.functional as F\n",
        "from torch.nn import Parameter\n",
        "import math\n",
        "from torch.nn.parameter import Parameter\n",
        "import torchvision.models as models\n",
        "from torch.autograd import Variable\n",
        "import torch\n",
        "import torch.nn.functional as F\n",
        "import math\n",
        "from torch import nn\n",
        "from torch.nn.parameter import *\n",
        "\n",
        "\n",
        "NUMBER_OF_CLASSES = 11014\n",
        "\n",
        "\n",
        "class ArcFaceLoss(nn.modules.Module):\n",
        "    def __init__(self,device, s=45.0, m=0.3, crit=\"bce\", weight=None, reduction=\"mean\"):\n",
        "        super().__init__()\n",
        "\n",
        "        self.weight = weight\n",
        "        self.reduction = reduction\n",
        "        \n",
        "        self.crit = nn.CrossEntropyLoss(reduction=\"none\")   \n",
        "\n",
        "        self.s = s\n",
        "\n",
        "        self.cos_m = math.cos(m)\n",
        "        self.sin_m = math.sin(m)\n",
        "        self.th = math.cos(math.pi - m)\n",
        "        self.mm = math.sin(math.pi - m) * m\n",
        "        self.device=device\n",
        "    def forward(self, logits, labels):\n",
        "\n",
        "        logits = logits.float()\n",
        "        cosine = logits\n",
        "        sine = torch.sqrt(1.0 - torch.pow(cosine, 2))\n",
        "        phi = cosine * self.cos_m - sine * self.sin_m\n",
        "        phi = torch.where(cosine > self.th, phi, cosine - self.mm)\n",
        "        \n",
        "        labels2 = torch.zeros_like(cosine)\n",
        "        labels2.scatter_(1, labels.view(-1, 1).long(), 1)\n",
        "        output = (labels2 * phi) + ((1.0 - labels2) * cosine)\n",
        "        self.s = torch.nn.Parameter(torch.tensor([45.], requires_grad=False)).to(self.device)\n",
        "\n",
        "        output = output * self.s\n",
        "        loss = self.crit(output, labels)\n",
        "        \n",
        "        w = self.weight.to(logits.device)\n",
        "        \n",
        "        loss = loss * w\n",
        "        loss = loss.sum() / w.sum()\n",
        "        return loss\n",
        "          \n",
        "class ArcMarginProduct(nn.Module):\n",
        "    def __init__(self, in_features, out_features):\n",
        "        super().__init__()\n",
        "        self.weight = nn.Parameter(torch.Tensor(out_features, in_features))\n",
        "        self.reset_parameters()\n",
        "\n",
        "    def reset_parameters(self):\n",
        "        nn.init.xavier_uniform_(self.weight)\n",
        "\n",
        "    def forward(self, features):\n",
        "        cosine = F.linear(F.normalize(features), F.normalize(self.weight))\n",
        "        return cosine\n",
        "\n",
        "def gem(x, p=3, eps=1e-6):\n",
        "    return F.avg_pool2d(x.clamp(min=eps).pow(p), (x.size(-2), x.size(-1))).pow(1./p)\n",
        "\n",
        "class GeM(nn.Module):\n",
        "    def __init__(self, p=3, eps=1e-6, p_trainable=True):\n",
        "        super(GeM,self).__init__()\n",
        "        if p_trainable:\n",
        "            self.p = Parameter(torch.ones(1)*p)\n",
        "        else:\n",
        "            self.p = p\n",
        "        self.eps = eps\n",
        "\n",
        "    def forward(self, x):\n",
        "        return gem(x, p=self.p, eps=self.eps)       \n",
        "   \n",
        "class Backbone(nn.Module):\n",
        "\n",
        "    \n",
        "    def __init__(self, name='resnet50', pretrained=True):\n",
        "        super(Backbone, self).__init__()\n",
        "        self.net = nn.Sequential(*list( models.resnet50().children())[:-2])\n",
        "        self.out_features = 2048\n",
        "    def forward(self, x):\n",
        "        x = self.net(x)\n",
        "\n",
        "        return x\n",
        "\n",
        "    \n",
        "class Net(nn.Module):\n",
        "    def __init__(self, pretrained=True):\n",
        "        super(Net, self).__init__()\n",
        "        \n",
        "        self.backbone = Backbone()\n",
        "        \n",
        "        self.global_pool = GeM(p_trainable=3)\n",
        "        self.embedding_size = 256      \n",
        "        \n",
        "        self.neck = nn.Sequential(\n",
        "                nn.Linear(self.backbone.out_features, self.embedding_size, bias=True),\n",
        "                nn.BatchNorm1d(self.embedding_size),\n",
        "                torch.nn.PReLU()\n",
        "            )\n",
        "            \n",
        "        self.head = ArcMarginProduct(self.embedding_size, NUMBER_OF_CLASSES)\n",
        "        \n",
        "        \n",
        "    def forward(self, x):\n",
        "\n",
        "        x = self.backbone(x)\n",
        "        x = self.global_pool(x)\n",
        "        x = x[:,:,0,0]\n",
        "        \n",
        "        x = self.neck(x)\n",
        "\n",
        "        logits = self.head(x)\n",
        "        \n",
        "        return logits"
      ],
      "execution_count": 6,
      "outputs": []
    },
    {
      "cell_type": "code",
      "metadata": {
        "id": "KQ_0F8Zfep7F"
      },
      "source": [
        "import numpy as np\n",
        "import torch\n",
        "import albumentations as A\n",
        "from PIL import Image, ImageFile\n",
        "class DatasetRetriever:\n",
        "    def __init__(self, X,counts, y):\n",
        "        self.X=X\n",
        "        self.counts=counts\n",
        "        self.root='/content/train images/'\n",
        "        self.y = y\n",
        "        self.aug = A.Compose(\n",
        "                [\n",
        "                    A.Resize(512,512),\n",
        "                    A.RandomCrop(448,448),\n",
        "                    A.Normalize()\n",
        "                ]\n",
        "            )\n",
        "\n",
        "\n",
        "    def __len__(self):\n",
        "        return self.X.shape[0]\n",
        "        \n",
        "    def __getitem__(self,idx):\n",
        "        path = self.X[idx]\n",
        "        target=self.y[idx]\n",
        "        counts=self.counts[idx]\n",
        "        image_path = self.root+path\n",
        "        image = Image.open(image_path)\n",
        "        target = self.y[idx]\n",
        "\n",
        "        image = np.array(image)\n",
        "        augmented = self.aug(image=image)\n",
        "        image = augmented[\"image\"]\n",
        "        image = np.transpose(image, (2, 0, 1)).astype(np.float32)\n",
        "\n",
        "        return image, torch.tensor(target, dtype=torch.long),counts"
      ],
      "execution_count": 7,
      "outputs": []
    },
    {
      "cell_type": "code",
      "metadata": {
        "colab": {
          "base_uri": "https://localhost:8080/",
          "height": 258
        },
        "id": "FEyzz8P5-dvX",
        "outputId": "ef504120-7133-4fa6-c279-f4c1ebd7eb72"
      },
      "source": [
        "\n",
        "import pandas as pd\n",
        "df=pd.read_csv('/content/gdrive/MyDrive/shopee/train.csv.zip')\n",
        "df.head()\n",
        "\n"
      ],
      "execution_count": 8,
      "outputs": [
        {
          "output_type": "execute_result",
          "data": {
            "text/html": [
              "<div>\n",
              "<style scoped>\n",
              "    .dataframe tbody tr th:only-of-type {\n",
              "        vertical-align: middle;\n",
              "    }\n",
              "\n",
              "    .dataframe tbody tr th {\n",
              "        vertical-align: top;\n",
              "    }\n",
              "\n",
              "    .dataframe thead th {\n",
              "        text-align: right;\n",
              "    }\n",
              "</style>\n",
              "<table border=\"1\" class=\"dataframe\">\n",
              "  <thead>\n",
              "    <tr style=\"text-align: right;\">\n",
              "      <th></th>\n",
              "      <th>posting_id</th>\n",
              "      <th>image</th>\n",
              "      <th>image_phash</th>\n",
              "      <th>title</th>\n",
              "      <th>label_group</th>\n",
              "    </tr>\n",
              "  </thead>\n",
              "  <tbody>\n",
              "    <tr>\n",
              "      <th>0</th>\n",
              "      <td>train_129225211</td>\n",
              "      <td>0000a68812bc7e98c42888dfb1c07da0.jpg</td>\n",
              "      <td>94974f937d4c2433</td>\n",
              "      <td>Paper Bag Victoria Secret</td>\n",
              "      <td>249114794</td>\n",
              "    </tr>\n",
              "    <tr>\n",
              "      <th>1</th>\n",
              "      <td>train_3386243561</td>\n",
              "      <td>00039780dfc94d01db8676fe789ecd05.jpg</td>\n",
              "      <td>af3f9460c2838f0f</td>\n",
              "      <td>Double Tape 3M VHB 12 mm x 4,5 m ORIGINAL / DO...</td>\n",
              "      <td>2937985045</td>\n",
              "    </tr>\n",
              "    <tr>\n",
              "      <th>2</th>\n",
              "      <td>train_2288590299</td>\n",
              "      <td>000a190fdd715a2a36faed16e2c65df7.jpg</td>\n",
              "      <td>b94cb00ed3e50f78</td>\n",
              "      <td>Maling TTS Canned Pork Luncheon Meat 397 gr</td>\n",
              "      <td>2395904891</td>\n",
              "    </tr>\n",
              "    <tr>\n",
              "      <th>3</th>\n",
              "      <td>train_2406599165</td>\n",
              "      <td>00117e4fc239b1b641ff08340b429633.jpg</td>\n",
              "      <td>8514fc58eafea283</td>\n",
              "      <td>Daster Batik Lengan pendek - Motif Acak / Camp...</td>\n",
              "      <td>4093212188</td>\n",
              "    </tr>\n",
              "    <tr>\n",
              "      <th>4</th>\n",
              "      <td>train_3369186413</td>\n",
              "      <td>00136d1cf4edede0203f32f05f660588.jpg</td>\n",
              "      <td>a6f319f924ad708c</td>\n",
              "      <td>Nescafe \\xc3\\x89clair Latte 220ml</td>\n",
              "      <td>3648931069</td>\n",
              "    </tr>\n",
              "  </tbody>\n",
              "</table>\n",
              "</div>"
            ],
            "text/plain": [
              "         posting_id  ... label_group\n",
              "0   train_129225211  ...   249114794\n",
              "1  train_3386243561  ...  2937985045\n",
              "2  train_2288590299  ...  2395904891\n",
              "3  train_2406599165  ...  4093212188\n",
              "4  train_3369186413  ...  3648931069\n",
              "\n",
              "[5 rows x 5 columns]"
            ]
          },
          "metadata": {
            "tags": []
          },
          "execution_count": 8
        }
      ]
    },
    {
      "cell_type": "code",
      "metadata": {
        "id": "OauHZNZMerDG",
        "colab": {
          "base_uri": "https://localhost:8080/",
          "height": 310
        },
        "outputId": "d6786637-715b-4618-a080-f580942fed36"
      },
      "source": [
        "\n",
        "\n",
        "import pandas as pd\n",
        "from sklearn.preprocessing import LabelEncoder\n",
        "df['counts']=df['label_group'].map(df['label_group'].value_counts())\n",
        "df['counts'] = 1/np.log1p(df['counts'])\n",
        "df['counts'] = (df['counts'] / df['counts'].sum()) * df['label_group'].nunique()\n",
        "le=LabelEncoder()\n",
        "df['label_group']=le.fit_transform(df['label_group'])\n",
        "df.head()\n",
        "\n"
      ],
      "execution_count": 9,
      "outputs": [
        {
          "output_type": "execute_result",
          "data": {
            "text/html": [
              "<div>\n",
              "<style scoped>\n",
              "    .dataframe tbody tr th:only-of-type {\n",
              "        vertical-align: middle;\n",
              "    }\n",
              "\n",
              "    .dataframe tbody tr th {\n",
              "        vertical-align: top;\n",
              "    }\n",
              "\n",
              "    .dataframe thead th {\n",
              "        text-align: right;\n",
              "    }\n",
              "</style>\n",
              "<table border=\"1\" class=\"dataframe\">\n",
              "  <thead>\n",
              "    <tr style=\"text-align: right;\">\n",
              "      <th></th>\n",
              "      <th>posting_id</th>\n",
              "      <th>image</th>\n",
              "      <th>image_phash</th>\n",
              "      <th>title</th>\n",
              "      <th>label_group</th>\n",
              "      <th>counts</th>\n",
              "    </tr>\n",
              "  </thead>\n",
              "  <tbody>\n",
              "    <tr>\n",
              "      <th>0</th>\n",
              "      <td>train_129225211</td>\n",
              "      <td>0000a68812bc7e98c42888dfb1c07da0.jpg</td>\n",
              "      <td>94974f937d4c2433</td>\n",
              "      <td>Paper Bag Victoria Secret</td>\n",
              "      <td>666</td>\n",
              "      <td>0.421731</td>\n",
              "    </tr>\n",
              "    <tr>\n",
              "      <th>1</th>\n",
              "      <td>train_3386243561</td>\n",
              "      <td>00039780dfc94d01db8676fe789ecd05.jpg</td>\n",
              "      <td>af3f9460c2838f0f</td>\n",
              "      <td>Double Tape 3M VHB 12 mm x 4,5 m ORIGINAL / DO...</td>\n",
              "      <td>7572</td>\n",
              "      <td>0.421731</td>\n",
              "    </tr>\n",
              "    <tr>\n",
              "      <th>2</th>\n",
              "      <td>train_2288590299</td>\n",
              "      <td>000a190fdd715a2a36faed16e2c65df7.jpg</td>\n",
              "      <td>b94cb00ed3e50f78</td>\n",
              "      <td>Maling TTS Canned Pork Luncheon Meat 397 gr</td>\n",
              "      <td>6172</td>\n",
              "      <td>0.421731</td>\n",
              "    </tr>\n",
              "    <tr>\n",
              "      <th>3</th>\n",
              "      <td>train_2406599165</td>\n",
              "      <td>00117e4fc239b1b641ff08340b429633.jpg</td>\n",
              "      <td>8514fc58eafea283</td>\n",
              "      <td>Daster Batik Lengan pendek - Motif Acak / Camp...</td>\n",
              "      <td>10509</td>\n",
              "      <td>0.421731</td>\n",
              "    </tr>\n",
              "    <tr>\n",
              "      <th>4</th>\n",
              "      <td>train_3369186413</td>\n",
              "      <td>00136d1cf4edede0203f32f05f660588.jpg</td>\n",
              "      <td>a6f319f924ad708c</td>\n",
              "      <td>Nescafe \\xc3\\x89clair Latte 220ml</td>\n",
              "      <td>9425</td>\n",
              "      <td>0.421731</td>\n",
              "    </tr>\n",
              "  </tbody>\n",
              "</table>\n",
              "</div>"
            ],
            "text/plain": [
              "         posting_id  ...    counts\n",
              "0   train_129225211  ...  0.421731\n",
              "1  train_3386243561  ...  0.421731\n",
              "2  train_2288590299  ...  0.421731\n",
              "3  train_2406599165  ...  0.421731\n",
              "4  train_3369186413  ...  0.421731\n",
              "\n",
              "[5 rows x 6 columns]"
            ]
          },
          "metadata": {
            "tags": []
          },
          "execution_count": 9
        }
      ]
    },
    {
      "cell_type": "code",
      "metadata": {
        "id": "Mja2yCpAINM4"
      },
      "source": [
        "def train(train_loader,valid_loader, model, device, optimizer):\n",
        "    model.train()\n",
        "    t = tqdm(train_loader, position=0, leave=True)\n",
        "    total_loss=[]\n",
        "    for step, d in enumerate(t):\n",
        "#         if step<2:\n",
        "         image = d[0].to(device)\n",
        "         target = d[1].to(device)\n",
        "         counts = d[2].to(device)\n",
        "         model.zero_grad()\n",
        "         logits = model(image)\n",
        "         loss = ArcFaceLoss(device=device,weight=counts)(logits,target)\n",
        "         t.set_description(str(loss.item()))\n",
        "         total_loss.append(loss.item())\n",
        "         loss.backward()\n",
        "         optimizer.step()\n",
        "#         else:\n",
        "#             break\n",
        "    val_loss=[]\n",
        "    t = tqdm(valid_loader)    \n",
        "    for step, d in enumerate(t):\n",
        "#         if step<2:\n",
        "         image = d[0].to(device)\n",
        "         target = d[1].to(device)\n",
        "         counts = d[2].to(device)\n",
        "         logits = model(image)\n",
        "         loss = ArcFaceLoss(device=device,weight=counts)(logits,target)\n",
        "         val_loss.append(loss.item())\n",
        "#         else:\n",
        "#             break\n",
        "         \n",
        "    return total_loss,val_loss"
      ],
      "execution_count": 15,
      "outputs": []
    },
    {
      "cell_type": "code",
      "metadata": {
        "id": "Uo9D7_Mt01Qq"
      },
      "source": [
        "from sklearn.model_selection import train_test_split\n",
        "trn,val=train_test_split(df,test_size=0.35, random_state=42,stratify = df['label_group'])"
      ],
      "execution_count": 16,
      "outputs": []
    },
    {
      "cell_type": "code",
      "metadata": {
        "id": "ES4W36q1Kz7Y",
        "colab": {
          "base_uri": "https://localhost:8080/"
        },
        "outputId": "6dc6d957-771b-44ab-bc32-b2743f2524cf"
      },
      "source": [
        "rem=list(set(val['label_group'].unique())-set(trn['label_group'].unique()))\n",
        "rem=val.loc[val['label_group'].isin(rem)]\n",
        "val=val.loc[~(val['label_group'].isin(rem))]\n",
        "trn=pd.concat([trn,rem],0)\n",
        "print(trn.shape,val.shape,len(list(set(val['label_group'].unique())-set(trn['label_group'].unique()))))"
      ],
      "execution_count": 17,
      "outputs": [
        {
          "output_type": "stream",
          "text": [
            "(22262, 6) (11988, 6) 0\n"
          ],
          "name": "stdout"
        }
      ]
    },
    {
      "cell_type": "code",
      "metadata": {
        "id": "ArRiZ5lS0F9u"
      },
      "source": [
        "from tqdm import tqdm\n",
        "from statistics import *\n",
        "model=Net()\n",
        "optimizer = torch.optim.Adam(model.parameters(), \n",
        "                            lr=5e-4)\n",
        "train_dataset = DatasetRetriever(\n",
        "        X = trn['image'].values,counts=trn['counts'].values,\n",
        "        y = trn['label_group'].values)\n",
        "train_loader = torch.utils.data.DataLoader(train_dataset,batch_size=16,\n",
        "            drop_last=True\n",
        "        )\n",
        "\n",
        "valid_dataset = DatasetRetriever(\n",
        "        X = val['image'].values,counts=val['counts'].values,\n",
        "        y = val['label_group'].values)\n",
        "valid_loader = torch.utils.data.DataLoader(valid_dataset,batch_size=16,\n",
        "            drop_last=True\n",
        "        )\n",
        "\n",
        "\n",
        "device = torch.device('cuda' if torch.cuda.is_available() else 'cpu')"
      ],
      "execution_count": 18,
      "outputs": []
    },
    {
      "cell_type": "code",
      "metadata": {
        "id": "eq6gnpm4CjDC",
        "colab": {
          "base_uri": "https://localhost:8080/"
        },
        "outputId": "03c20b2a-bb5a-4f0f-9280-976053d58418"
      },
      "source": [
        "model.to(device)\n",
        "trn_loss=[]\n",
        "val_loss=[]\n",
        "\n",
        "for i in range(20):\n",
        "    t,v=train(train_loader,valid_loader, model, device, optimizer)\n",
        "    trn_loss.append(mean(t))\n",
        "    val_loss.append(mean(v))"
      ],
      "execution_count": null,
      "outputs": [
        {
          "output_type": "stream",
          "text": [
            "23.920726783209613:  14%|█▎        | 188/1391 [01:43<10:59,  1.82it/s]"
          ],
          "name": "stderr"
        }
      ]
    },
    {
      "cell_type": "code",
      "metadata": {
        "id": "cVk9YO8elt-M"
      },
      "source": [
        "from matplotlib import pyplot as plt\n",
        "plt.plot(trn_loss)"
      ],
      "execution_count": null,
      "outputs": []
    },
    {
      "cell_type": "code",
      "metadata": {
        "id": "ykeXpxh_lu8L"
      },
      "source": [
        "plt.plot(val_loss)"
      ],
      "execution_count": null,
      "outputs": []
    },
    {
      "cell_type": "code",
      "metadata": {
        "id": "dW_cCm5qClpb"
      },
      "source": [
        "torch.save(model.state_dict(), '/content/gdrive/MyDrive/shopee/resnet50m3.hdf5')"
      ],
      "execution_count": null,
      "outputs": []
    },
    {
      "cell_type": "code",
      "metadata": {
        "id": "YOdQm2sOWzCv"
      },
      "source": [
        ""
      ],
      "execution_count": null,
      "outputs": []
    }
  ]
}