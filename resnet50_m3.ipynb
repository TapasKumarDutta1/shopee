{
  "nbformat": 4,
  "nbformat_minor": 0,
  "metadata": {
    "colab": {
      "name": "resnet50_m3.ipynb",
      "provenance": [],
      "include_colab_link": true
    },
    "kernelspec": {
      "name": "python3",
      "display_name": "Python 3"
    },
    "accelerator": "GPU"
  },
  "cells": [
    {
      "cell_type": "markdown",
      "metadata": {
        "id": "view-in-github",
        "colab_type": "text"
      },
      "source": [
        "<a href=\"https://colab.research.google.com/github/greyhound101/shopee/blob/main/resnet50_m3.ipynb\" target=\"_parent\"><img src=\"https://colab.research.google.com/assets/colab-badge.svg\" alt=\"Open In Colab\"/></a>"
      ]
    },
    {
      "cell_type": "code",
      "metadata": {
        "id": "U_MnVlbjV4FO",
        "colab": {
          "base_uri": "https://localhost:8080/"
        },
        "outputId": "7f14eeb7-a926-48a2-ba4d-9d5d35100eb4"
      },
      "source": [
        "from google.colab import drive\n",
        "drive.mount('/content/gdrive')\n",
        "drive.mount(\"/content/gdrive\", force_remount=True)"
      ],
      "execution_count": 1,
      "outputs": [
        {
          "output_type": "stream",
          "text": [
            "Mounted at /content/gdrive\n",
            "Mounted at /content/gdrive\n"
          ],
          "name": "stdout"
        }
      ]
    },
    {
      "cell_type": "code",
      "metadata": {
        "id": "i_o4IFz-WKws"
      },
      "source": [
        "\n",
        "\n",
        "import pandas as pd\n",
        "df=pd.read_csv('/content/gdrive/MyDrive/shopee/train.csv.zip')\n",
        "df.head()\n",
        "\n"
      ],
      "execution_count": null,
      "outputs": []
    },
    {
      "cell_type": "code",
      "metadata": {
        "id": "YBB8pO33WMQx"
      },
      "source": [
        "from __future__ import print_function\n",
        "from __future__ import division\n",
        "import torch\n",
        "import torch.nn as nn\n",
        "import torch.nn.functional as F\n",
        "from torch.nn import Parameter\n",
        "import math\n",
        "from torch.nn.parameter import Parameter\n",
        "import torchvision.models as models\n",
        "from torch.autograd import Variable\n",
        "import torch\n",
        "import torch.nn.functional as F\n",
        "import math\n",
        "from torch import nn\n",
        "from torch.nn.parameter import *\n",
        "\n",
        "\n",
        "NUMBER_OF_CLASSES = 11014\n",
        "\n",
        "\n",
        "class ArcFaceLoss(nn.modules.Module):\n",
        "    def __init__(self,device, s=45.0, m=0.3, crit=\"bce\", weight=None, reduction=\"mean\"):\n",
        "        super().__init__()\n",
        "\n",
        "        self.weight = weight\n",
        "        self.reduction = reduction\n",
        "        \n",
        "        self.crit = nn.CrossEntropyLoss(reduction=\"none\")   \n",
        "\n",
        "        self.s = s\n",
        "\n",
        "        self.cos_m = math.cos(m)\n",
        "        self.sin_m = math.sin(m)\n",
        "        self.th = math.cos(math.pi - m)\n",
        "        self.mm = math.sin(math.pi - m) * m\n",
        "        self.device=device\n",
        "    def forward(self, logits, labels):\n",
        "\n",
        "        logits = logits.float()\n",
        "        cosine = logits\n",
        "        sine = torch.sqrt(1.0 - torch.pow(cosine, 2))\n",
        "        phi = cosine * self.cos_m - sine * self.sin_m\n",
        "        phi = torch.where(cosine > self.th, phi, cosine - self.mm)\n",
        "        \n",
        "        labels2 = torch.zeros_like(cosine)\n",
        "        labels2.scatter_(1, labels.view(-1, 1).long(), 1)\n",
        "        output = (labels2 * phi) + ((1.0 - labels2) * cosine)\n",
        "        self.s = torch.nn.Parameter(torch.tensor([45.], requires_grad=False)).to(self.device)\n",
        "\n",
        "        output = output * self.s\n",
        "        loss = self.crit(output, labels)\n",
        "        \n",
        "        w = self.weight.to(logits.device)\n",
        "        \n",
        "        loss = loss * w\n",
        "        loss = loss.sum() / w.sum()\n",
        "        return loss\n",
        "          \n",
        "class ArcMarginProduct(nn.Module):\n",
        "    def __init__(self, in_features, out_features):\n",
        "        super().__init__()\n",
        "        self.weight = nn.Parameter(torch.Tensor(out_features, in_features))\n",
        "        self.reset_parameters()\n",
        "\n",
        "    def reset_parameters(self):\n",
        "        nn.init.xavier_uniform_(self.weight)\n",
        "\n",
        "    def forward(self, features):\n",
        "        cosine = F.linear(F.normalize(features), F.normalize(self.weight))\n",
        "        return cosine\n",
        "\n",
        "def gem(x, p=3, eps=1e-6):\n",
        "    return F.avg_pool2d(x.clamp(min=eps).pow(p), (x.size(-2), x.size(-1))).pow(1./p)\n",
        "\n",
        "class GeM(nn.Module):\n",
        "    def __init__(self, p=3, eps=1e-6, p_trainable=True):\n",
        "        super(GeM,self).__init__()\n",
        "        if p_trainable:\n",
        "            self.p = Parameter(torch.ones(1)*p)\n",
        "        else:\n",
        "            self.p = p\n",
        "        self.eps = eps\n",
        "\n",
        "    def forward(self, x):\n",
        "        return gem(x, p=self.p, eps=self.eps)       \n",
        "   \n",
        "class Backbone(nn.Module):\n",
        "\n",
        "    \n",
        "    def __init__(self, name='resnet50', pretrained=True):\n",
        "        super(Backbone, self).__init__()\n",
        "        self.net = nn.Sequential(*list( models.resnet50().children())[:-2])\n",
        "        self.out_features = 2048\n",
        "    def forward(self, x):\n",
        "        x = self.net(x)\n",
        "\n",
        "        return x\n",
        "\n",
        "    \n",
        "class Net(nn.Module):\n",
        "    def __init__(self, pretrained=True):\n",
        "        super(Net, self).__init__()\n",
        "        \n",
        "        self.backbone = Backbone()\n",
        "        \n",
        "        self.global_pool = GeM(p_trainable=3)\n",
        "        self.embedding_size = 256      \n",
        "        \n",
        "        self.neck = nn.Sequential(\n",
        "                nn.Linear(self.backbone.out_features, self.embedding_size, bias=True),\n",
        "                nn.BatchNorm1d(self.embedding_size),\n",
        "                torch.nn.PReLU()\n",
        "            )\n",
        "            \n",
        "        self.head = ArcMarginProduct(self.embedding_size, NUMBER_OF_CLASSES)\n",
        "        \n",
        "        \n",
        "    def forward(self, x):\n",
        "\n",
        "        x = self.backbone(x)\n",
        "        x = self.global_pool(x)\n",
        "        x = x[:,:,0,0]\n",
        "        \n",
        "        x = self.neck(x)\n",
        "\n",
        "        logits = self.head(x)\n",
        "        \n",
        "        return logits"
      ],
      "execution_count": null,
      "outputs": []
    },
    {
      "cell_type": "code",
      "metadata": {
        "id": "M1zjCDomWNak"
      },
      "source": [
        "import numpy as np\n",
        "import torch\n",
        "import albumentations as A\n",
        "from PIL import Image, ImageFile\n",
        "class DatasetRetriever:\n",
        "    def __init__(self, X,counts, y):\n",
        "        self.X=X\n",
        "        self.counts=counts\n",
        "        self.root='/content/gdrive/MyDrive/shopee/train images/'\n",
        "        self.y = y\n",
        "        self.aug = A.Compose(\n",
        "                [\n",
        "                    A.Resize(512,512),\n",
        "                    A.RandomCrop(448,448),\n",
        "                    A.Normalize()\n",
        "                ]\n",
        "            )\n",
        "\n",
        "\n",
        "    def __len__(self):\n",
        "        return self.X.shape[0]\n",
        "        \n",
        "    def __getitem__(self,idx):\n",
        "        path = self.X[idx]\n",
        "        target=self.y[idx]\n",
        "        counts=self.counts[idx]\n",
        "        image_path = self.root+path\n",
        "        image = Image.open(image_path)\n",
        "        target = self.y[idx]\n",
        "\n",
        "        image = np.array(image)\n",
        "        augmented = self.aug(image=image)\n",
        "        image = augmented[\"image\"]\n",
        "        image = np.transpose(image, (2, 0, 1)).astype(np.float32)\n",
        "\n",
        "        return image, torch.tensor(target, dtype=torch.long),counts\n",
        "    "
      ],
      "execution_count": null,
      "outputs": []
    },
    {
      "cell_type": "code",
      "metadata": {
        "id": "-iYs9WnRWPBb"
      },
      "source": [
        "import pandas as pd\n",
        "from sklearn.preprocessing import LabelEncoder\n",
        "df['counts']=df['label_group'].map(df['label_group'].value_counts())\n",
        "df['counts'] = 1/np.log1p(df['counts'])\n",
        "df['counts'] = (df['counts'] / df['counts'].sum()) * df['label_group'].nunique()\n",
        "le=LabelEncoder()\n",
        "df['label_group']=le.fit_transform(df['label_group'])\n",
        "df.head()"
      ],
      "execution_count": null,
      "outputs": []
    },
    {
      "cell_type": "code",
      "metadata": {
        "id": "SjYys7-YWP8U"
      },
      "source": [
        "def train(train_loader,valid_loader, model, device, optimizer):\n",
        "    model.train()\n",
        "    t = tqdm(train_loader)\n",
        "    total_loss=[]\n",
        "    for step, d in enumerate(t):\n",
        "#         if step<2:\n",
        "         image = d[0].to(device)\n",
        "         target = d[1].to(device)\n",
        "         counts = d[2].to(device)\n",
        "         model.zero_grad()\n",
        "         logits = model(image)\n",
        "         loss = ArcFaceLoss(device=device,weight=counts)(logits,target)\n",
        "         t.set_description(str(loss.item()))\n",
        "         total_loss.append(loss.item())\n",
        "         loss.backward()\n",
        "         optimizer.step()\n",
        "#         else:\n",
        "#             break\n",
        "    val_loss=[]\n",
        "    t = tqdm(valid_loader)    \n",
        "    for step, d in enumerate(t):\n",
        "#         if step<2:\n",
        "         image = d[0].to(device)\n",
        "         target = d[1].to(device)\n",
        "         counts = d[2].to(device)\n",
        "         logits = model(image)\n",
        "         loss = ArcFaceLoss(device=device,weight=counts)(logits,target)\n",
        "         val_loss.append(loss.item())\n",
        "#         else:\n",
        "#             break\n",
        "         \n",
        "    return total_loss,val_loss"
      ],
      "execution_count": null,
      "outputs": []
    },
    {
      "cell_type": "code",
      "metadata": {
        "id": "63ft5WHiWQ_S"
      },
      "source": [
        "from sklearn.model_selection import train_test_split\n",
        "trn,val=train_test_split(df,test_size=0.35, random_state=42,stratify = df['label_group'])"
      ],
      "execution_count": null,
      "outputs": []
    },
    {
      "cell_type": "code",
      "metadata": {
        "id": "vpzxwC6qWRtA"
      },
      "source": [
        "rem=list(set(val['label_group'].unique())-set(trn['label_group'].unique()))\n",
        "rem=val.loc[val['label_group'].isin(rem)]\n",
        "val=val.loc[~(val['label_group'].isin(rem))]\n",
        "trn=pd.concat([trn,rem],0)\n",
        "print(trn.shape,val.shape,len(list(set(val['label_group'].unique())-set(trn['label_group'].unique()))))"
      ],
      "execution_count": null,
      "outputs": []
    },
    {
      "cell_type": "code",
      "metadata": {
        "id": "uciXUXl0WSs8"
      },
      "source": [
        "from tqdm import tqdm\n",
        "from statistics import *\n",
        "model=Net()\n",
        "optimizer = torch.optim.Adam(model.parameters(), \n",
        "                            lr=5e-4)\n",
        "train_dataset = DatasetRetriever(\n",
        "        X = trn['image'].values,counts=trn['counts'].values,\n",
        "        y = trn['label_group'].values)\n",
        "train_loader = torch.utils.data.DataLoader(train_dataset,batch_size=16,\n",
        "            drop_last=True\n",
        "        )\n",
        "\n",
        "valid_dataset = DatasetRetriever(\n",
        "        X = val['image'].values,counts=val['counts'].values,\n",
        "        y = val['label_group'].values)\n",
        "valid_loader = torch.utils.data.DataLoader(valid_dataset,batch_size=16,\n",
        "            drop_last=True\n",
        "        )\n",
        "\n",
        "\n",
        "device = torch.device('cuda' if torch.cuda.is_available() else 'cpu')"
      ],
      "execution_count": null,
      "outputs": []
    },
    {
      "cell_type": "code",
      "metadata": {
        "id": "jZqo0XX4WTp1"
      },
      "source": [
        "model.to(device)\n",
        "trn_loss=[]\n",
        "val_loss=[]\n",
        "\n",
        "for i in range(20):\n",
        "    t,v=train(train_loader,valid_loader, model, device, optimizer)\n",
        "    trn_loss.append(mean(t))\n",
        "    val_loss.append(mean(v))\n",
        "    "
      ],
      "execution_count": null,
      "outputs": []
    },
    {
      "cell_type": "code",
      "metadata": {
        "id": "KDQ3i7IeWUlj"
      },
      "source": [
        "from matplotlib import pyplot as plt\n",
        "plt.plot(trn_loss)"
      ],
      "execution_count": null,
      "outputs": []
    },
    {
      "cell_type": "code",
      "metadata": {
        "id": "CPnC8zqEWVmB"
      },
      "source": [
        "plt.plot(val_loss)"
      ],
      "execution_count": null,
      "outputs": []
    },
    {
      "cell_type": "code",
      "metadata": {
        "id": "CprrLL0aWWmH"
      },
      "source": [
        "torch.save(model.state_dict(), '/content/gdrive/MyDrive/shopee/resnet50m3.hdf5')"
      ],
      "execution_count": null,
      "outputs": []
    },
    {
      "cell_type": "code",
      "metadata": {
        "id": "ff_vh1ZZ2GHC"
      },
      "source": [
        ""
      ],
      "execution_count": null,
      "outputs": []
    }
  ]
}