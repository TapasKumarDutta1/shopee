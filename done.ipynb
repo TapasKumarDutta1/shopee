{
  "nbformat": 4,
  "nbformat_minor": 0,
  "metadata": {
    "colab": {
      "name": "done.ipynb",
      "provenance": [],
      "authorship_tag": "ABX9TyMWfKZ5ygPU6FQa2dw3s5ay",
      "include_colab_link": true
    },
    "kernelspec": {
      "name": "python3",
      "display_name": "Python 3"
    },
    "language_info": {
      "name": "python"
    }
  },
  "cells": [
    {
      "cell_type": "markdown",
      "metadata": {
        "id": "view-in-github",
        "colab_type": "text"
      },
      "source": [
        "<a href=\"https://colab.research.google.com/github/greyhound101/shopee/blob/main/done.ipynb\" target=\"_parent\"><img src=\"https://colab.research.google.com/assets/colab-badge.svg\" alt=\"Open In Colab\"/></a>"
      ]
    },
    {
      "cell_type": "code",
      "metadata": {
        "colab": {
          "base_uri": "https://localhost:8080/"
        },
        "id": "iClJYdiPqCWe",
        "outputId": "8cb7b15c-c7fb-464e-bc57-e7d24422ecc4"
      },
      "source": [
        "\n",
        "from google.colab import drive\n",
        "drive.mount('/content/gdrive')\n",
        "drive.mount(\"/content/gdrive\", force_remount=True)"
      ],
      "execution_count": 1,
      "outputs": [
        {
          "output_type": "stream",
          "text": [
            "Mounted at /content/gdrive\n",
            "Mounted at /content/gdrive\n"
          ],
          "name": "stdout"
        }
      ]
    },
    {
      "cell_type": "code",
      "metadata": {
        "id": "H3MEv7Hvqkkh"
      },
      "source": [
        "import glob\n",
        "present=glob.glob('/content/gdrive/My Drive/shopee/*.jpg')"
      ],
      "execution_count": 4,
      "outputs": []
    },
    {
      "cell_type": "code",
      "metadata": {
        "colab": {
          "base_uri": "https://localhost:8080/"
        },
        "id": "-aJ3WNHpvOn3",
        "outputId": "28e2c811-d75a-4018-cfa7-2ed3358b7150"
      },
      "source": [
        "len(list(set(present)))"
      ],
      "execution_count": 5,
      "outputs": [
        {
          "output_type": "execute_result",
          "data": {
            "text/plain": [
              "33452"
            ]
          },
          "metadata": {
            "tags": []
          },
          "execution_count": 5
        }
      ]
    },
    {
      "cell_type": "code",
      "metadata": {
        "id": "M27jJ_-KqueP"
      },
      "source": [
        "total=[]\n",
        "for img in present:\n",
        "  total.append(img.split('/')[-1])"
      ],
      "execution_count": 6,
      "outputs": []
    },
    {
      "cell_type": "code",
      "metadata": {
        "colab": {
          "base_uri": "https://localhost:8080/"
        },
        "id": "mwyzsHGLqvSt",
        "outputId": "709b6dba-7af7-451a-e307-d4d3c165e575"
      },
      "source": [
        "import shutil\n",
        "import zipfile\n",
        "from tqdm import tqdm\n",
        "with zipfile.ZipFile( '/content/gdrive/My Drive/shopee/train_images.zip') as z:\n",
        "    for image in tqdm(z.namelist()):\n",
        "      if image not in total:\n",
        "        z.extract(image, path='/content/gdrive/My Drive/shopee/'+image)"
      ],
      "execution_count": 7,
      "outputs": [
        {
          "output_type": "stream",
          "text": [
            "100%|██████████| 32412/32412 [01:05<00:00, 491.34it/s]\n"
          ],
          "name": "stderr"
        }
      ]
    },
    {
      "cell_type": "code",
      "metadata": {
        "id": "di9L85fFqwDD",
        "colab": {
          "base_uri": "https://localhost:8080/"
        },
        "outputId": "8228473c-121f-496f-a932-5865bd8bca76"
      },
      "source": [
        "len(present)"
      ],
      "execution_count": 8,
      "outputs": [
        {
          "output_type": "execute_result",
          "data": {
            "text/plain": [
              "31143"
            ]
          },
          "metadata": {
            "tags": []
          },
          "execution_count": 8
        }
      ]
    },
    {
      "cell_type": "code",
      "metadata": {
        "id": "K8XPDR6frPtF"
      },
      "source": [
        ""
      ],
      "execution_count": null,
      "outputs": []
    }
  ]
}