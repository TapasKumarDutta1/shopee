{
  "nbformat": 4,
  "nbformat_minor": 0,
  "metadata": {
    "accelerator": "GPU",
    "colab": {
      "name": "resnet50_m3d5_dynamic.ipynb",
      "provenance": [],
      "machine_shape": "hm",
      "include_colab_link": true
    },
    "kernelspec": {
      "display_name": "Python 3",
      "name": "python3"
    }
  },
  "cells": [
    {
      "cell_type": "markdown",
      "metadata": {
        "id": "view-in-github",
        "colab_type": "text"
      },
      "source": [
        "<a href=\"https://colab.research.google.com/github/greyhound101/shopee/blob/main/resnet50_m3d5_dynamic.ipynb\" target=\"_parent\"><img src=\"https://colab.research.google.com/assets/colab-badge.svg\" alt=\"Open In Colab\"/></a>"
      ]
    },
    {
      "cell_type": "code",
      "metadata": {
        "colab": {
          "base_uri": "https://localhost:8080/"
        },
        "id": "eQqlrXIJej1l",
        "outputId": "9c8135ac-a69a-4273-cf3e-6a2f4b38c160"
      },
      "source": [
        "from google.colab import drive\n",
        "drive.mount('/content/gdrive')\n",
        "drive.mount(\"/content/gdrive\", force_remount=True)"
      ],
      "execution_count": 3,
      "outputs": [
        {
          "output_type": "stream",
          "text": [
            "Drive already mounted at /content/gdrive; to attempt to forcibly remount, call drive.mount(\"/content/gdrive\", force_remount=True).\n",
            "Mounted at /content/gdrive\n"
          ],
          "name": "stdout"
        }
      ]
    },
    {
      "cell_type": "code",
      "metadata": {
        "colab": {
          "base_uri": "https://localhost:8080/",
          "height": 36
        },
        "id": "wpc_I11x_6Y0",
        "outputId": "7a102bee-515b-4410-d5b3-59f79a3d93ea"
      },
      "source": [
        "import shutil\n",
        "shutil.copy( '/content/gdrive/My Drive/shopee/train_images.zip','/content/')"
      ],
      "execution_count": 4,
      "outputs": [
        {
          "output_type": "execute_result",
          "data": {
            "application/vnd.google.colaboratory.intrinsic+json": {
              "type": "string"
            },
            "text/plain": [
              "'/content/train_images.zip'"
            ]
          },
          "metadata": {
            "tags": []
          },
          "execution_count": 4
        }
      ]
    },
    {
      "cell_type": "code",
      "metadata": {
        "id": "rhrs7HucA_Qq"
      },
      "source": [
        "import os\n",
        "try:\n",
        "  os.mkdir('/content/train images')\n",
        "except:\n",
        "  pass"
      ],
      "execution_count": 5,
      "outputs": []
    },
    {
      "cell_type": "code",
      "metadata": {
        "colab": {
          "base_uri": "https://localhost:8080/"
        },
        "id": "E0RIYpToA1MU",
        "outputId": "154f45c2-0ddf-4621-e4b9-b601028f9cc2"
      },
      "source": [
        "import zipfile\n",
        "a=zipfile.ZipFile('/content/train_images.zip', 'r')\n",
        "from tqdm import tqdm\n",
        "while True:\n",
        "  present=os.listdir('/content/train images')\n",
        "  \n",
        "  for file in tqdm(a.namelist()):\n",
        "    if file not in present:\n",
        "      a.extract(file,'/content/train images')\n",
        "  if len(set(present)-set(a.namelist()))==0:\n",
        "      break"
      ],
      "execution_count": 6,
      "outputs": [
        {
          "output_type": "stream",
          "text": [
            "100%|██████████| 32412/32412 [00:45<00:00, 706.38it/s]\n"
          ],
          "name": "stderr"
        }
      ]
    },
    {
      "cell_type": "code",
      "metadata": {
        "id": "_WXDyhihenRg"
      },
      "source": [
        "from __future__ import print_function\n",
        "from __future__ import division\n",
        "import torch\n",
        "import torch.nn as nn\n",
        "import torch.nn.functional as F\n",
        "from torch.nn import Parameter\n",
        "import math\n",
        "from torch.nn.parameter import Parameter\n",
        "import torchvision.models as models\n",
        "from torch.autograd import Variable\n",
        "import torch\n",
        "import torch.nn.functional as F\n",
        "import math\n",
        "from torch import nn\n",
        "from torch.nn.parameter import *\n",
        "\n",
        "\n",
        "NUMBER_OF_CLASSES = 11014\n",
        "\n",
        "\n",
        "class ArcFaceLoss(nn.modules.Module):\n",
        "    def __init__(self,device, s=45.0, crit=\"bce\", reduction=\"mean\"):\n",
        "        super().__init__()\n",
        "\n",
        "        self.reduction = reduction\n",
        "        \n",
        "        self.crit = nn.CrossEntropyLoss(reduction=\"mean\")   \n",
        "\n",
        "        self.s = s\n",
        "\n",
        "    def forward(self,m, logits, labels):\n",
        "        \n",
        "        self.cos_m = torch.cos(m)\n",
        "        self.sin_m = torch.sin(m)\n",
        "        self.th = torch.cos(math.pi - m)\n",
        "        self.mm = torch.sin(math.pi - m) * m\n",
        "        self.device=device\n",
        "        logits = logits.float()\n",
        "        cosine = logits\n",
        "        sine = torch.sqrt(1.0 - torch.pow(cosine, 2))\n",
        "        phi = cosine * self.cos_m - sine * self.sin_m\n",
        "        phi = torch.where(cosine > self.th, phi, cosine - self.mm)\n",
        "        \n",
        "        labels2 = torch.zeros_like(cosine)\n",
        "        labels2.scatter_(1, labels.view(-1, 1).long(), 1)\n",
        "        output = (labels2 * phi) + ((1.0 - labels2) * cosine)\n",
        "        self.s = torch.nn.Parameter(torch.tensor([45.], requires_grad=False)).to(self.device)\n",
        "\n",
        "        output = output * self.s\n",
        "        loss = self.crit(output, labels)\n",
        "        \n",
        "        return loss\n",
        "          \n",
        "class ArcMarginProduct(nn.Module):\n",
        "    def __init__(self, in_features, out_features):\n",
        "        super().__init__()\n",
        "        self.weight = nn.Parameter(torch.Tensor(out_features, in_features))\n",
        "        self.reset_parameters()\n",
        "\n",
        "    def reset_parameters(self):\n",
        "        nn.init.xavier_uniform_(self.weight)\n",
        "\n",
        "    def forward(self, features):\n",
        "        cosine = F.linear(F.normalize(features), F.normalize(self.weight))\n",
        "        return cosine\n",
        "\n",
        "def gem(x, p=3, eps=1e-6):\n",
        "    return F.avg_pool2d(x.clamp(min=eps).pow(p), (x.size(-2), x.size(-1))).pow(1./p)\n",
        "\n",
        "class GeM(nn.Module):\n",
        "    def __init__(self, p=3, eps=1e-6, p_trainable=True):\n",
        "        super(GeM,self).__init__()\n",
        "        if p_trainable:\n",
        "            self.p = Parameter(torch.ones(1)*p)\n",
        "        else:\n",
        "            self.p = p\n",
        "        self.eps = eps\n",
        "\n",
        "    def forward(self, x):\n",
        "        return gem(x, p=self.p, eps=self.eps)       \n",
        "   \n",
        "class Backbone(nn.Module):\n",
        "\n",
        "    \n",
        "    def __init__(self, name='resnet50', pretrained=True):\n",
        "        super(Backbone, self).__init__()\n",
        "        self.net = nn.Sequential(*list( models.resnet50().children())[:-2])\n",
        "        self.out_features = 2048\n",
        "    def forward(self, x):\n",
        "        x = self.net(x)\n",
        "\n",
        "        return x\n",
        "\n",
        "    \n",
        "class Net(nn.Module):\n",
        "    def __init__(self, pretrained=True):\n",
        "        super(Net, self).__init__()\n",
        "        \n",
        "        self.backbone = Backbone()\n",
        "        \n",
        "        self.global_pool = GeM(p_trainable=3)\n",
        "        self.embedding_size = 256      \n",
        "        \n",
        "        self.neck = nn.Sequential(\n",
        "                nn.Linear(self.backbone.out_features, self.embedding_size, bias=True),\n",
        "                nn.BatchNorm1d(self.embedding_size),\n",
        "                torch.nn.PReLU()\n",
        "            )\n",
        "            \n",
        "        self.head = ArcMarginProduct(self.embedding_size, NUMBER_OF_CLASSES)\n",
        "        \n",
        "        \n",
        "    def forward(self, x):\n",
        "\n",
        "        x = self.backbone(x)\n",
        "        x = self.global_pool(x)\n",
        "        x = x[:,:,0,0]\n",
        "        \n",
        "        x = self.neck(x)\n",
        "\n",
        "        logits = self.head(x)\n",
        "        \n",
        "        return logits"
      ],
      "execution_count": 7,
      "outputs": []
    },
    {
      "cell_type": "code",
      "metadata": {
        "id": "KQ_0F8Zfep7F"
      },
      "source": [
        "import numpy as np\n",
        "import torch\n",
        "import albumentations as A\n",
        "from PIL import Image, ImageFile\n",
        "class DatasetRetriever:\n",
        "    def __init__(self, X,margin, y):\n",
        "        self.X=X\n",
        "        self.margin=margin\n",
        "        self.root='/content/train images/'\n",
        "        self.y = y\n",
        "        self.aug = A.Compose(\n",
        "                [\n",
        "                    A.Resize(512,512),\n",
        "                    A.RandomCrop(448,448),\n",
        "                    A.Normalize()\n",
        "                ]\n",
        "            )\n",
        "\n",
        "\n",
        "    def __len__(self):\n",
        "        return self.X.shape[0]\n",
        "        \n",
        "    def __getitem__(self,idx):\n",
        "        path = self.X[idx]\n",
        "        target=self.y[idx]\n",
        "        margin=self.margin[idx]\n",
        "        image_path = self.root+path\n",
        "        image = Image.open(image_path)\n",
        "        target = self.y[idx]\n",
        "\n",
        "        image = np.array(image)\n",
        "        augmented = self.aug(image=image)\n",
        "        image = augmented[\"image\"]\n",
        "        image = np.transpose(image, (2, 0, 1)).astype(np.float32)\n",
        "\n",
        "        return image, torch.tensor(target, dtype=torch.long),margin"
      ],
      "execution_count": 20,
      "outputs": []
    },
    {
      "cell_type": "code",
      "metadata": {
        "colab": {
          "base_uri": "https://localhost:8080/",
          "height": 206
        },
        "id": "FEyzz8P5-dvX",
        "outputId": "75487c53-bc1f-4e75-b14e-b935dd84fca0"
      },
      "source": [
        "import pandas as pd\n",
        "from sklearn.preprocessing import LabelEncoder\n",
        "df=pd.read_csv('/content/gdrive/MyDrive/shopee/train.csv.zip')\n",
        "df['counts']=df['label_group'].map(df['label_group'].value_counts())\n",
        "df['counts'] = np.sqrt(1 / np.sqrt(df['counts'].values))\n",
        "df['margin'] = (df['counts'] - min(df['counts'])) / (max(df['counts']) - min(df['counts'])) * 0.45 + 0.05\n",
        "le=LabelEncoder()\n",
        "df['label_group']=le.fit_transform(df['label_group'])\n",
        "df.head()"
      ],
      "execution_count": 22,
      "outputs": [
        {
          "output_type": "execute_result",
          "data": {
            "text/html": [
              "<div>\n",
              "<style scoped>\n",
              "    .dataframe tbody tr th:only-of-type {\n",
              "        vertical-align: middle;\n",
              "    }\n",
              "\n",
              "    .dataframe tbody tr th {\n",
              "        vertical-align: top;\n",
              "    }\n",
              "\n",
              "    .dataframe thead th {\n",
              "        text-align: right;\n",
              "    }\n",
              "</style>\n",
              "<table border=\"1\" class=\"dataframe\">\n",
              "  <thead>\n",
              "    <tr style=\"text-align: right;\">\n",
              "      <th></th>\n",
              "      <th>posting_id</th>\n",
              "      <th>image</th>\n",
              "      <th>image_phash</th>\n",
              "      <th>title</th>\n",
              "      <th>label_group</th>\n",
              "      <th>counts</th>\n",
              "      <th>margin</th>\n",
              "    </tr>\n",
              "  </thead>\n",
              "  <tbody>\n",
              "    <tr>\n",
              "      <th>0</th>\n",
              "      <td>train_129225211</td>\n",
              "      <td>0000a68812bc7e98c42888dfb1c07da0.jpg</td>\n",
              "      <td>94974f937d4c2433</td>\n",
              "      <td>Paper Bag Victoria Secret</td>\n",
              "      <td>666</td>\n",
              "      <td>0.840896</td>\n",
              "      <td>0.5</td>\n",
              "    </tr>\n",
              "    <tr>\n",
              "      <th>1</th>\n",
              "      <td>train_3386243561</td>\n",
              "      <td>00039780dfc94d01db8676fe789ecd05.jpg</td>\n",
              "      <td>af3f9460c2838f0f</td>\n",
              "      <td>Double Tape 3M VHB 12 mm x 4,5 m ORIGINAL / DO...</td>\n",
              "      <td>7572</td>\n",
              "      <td>0.840896</td>\n",
              "      <td>0.5</td>\n",
              "    </tr>\n",
              "    <tr>\n",
              "      <th>2</th>\n",
              "      <td>train_2288590299</td>\n",
              "      <td>000a190fdd715a2a36faed16e2c65df7.jpg</td>\n",
              "      <td>b94cb00ed3e50f78</td>\n",
              "      <td>Maling TTS Canned Pork Luncheon Meat 397 gr</td>\n",
              "      <td>6172</td>\n",
              "      <td>0.840896</td>\n",
              "      <td>0.5</td>\n",
              "    </tr>\n",
              "    <tr>\n",
              "      <th>3</th>\n",
              "      <td>train_2406599165</td>\n",
              "      <td>00117e4fc239b1b641ff08340b429633.jpg</td>\n",
              "      <td>8514fc58eafea283</td>\n",
              "      <td>Daster Batik Lengan pendek - Motif Acak / Camp...</td>\n",
              "      <td>10509</td>\n",
              "      <td>0.840896</td>\n",
              "      <td>0.5</td>\n",
              "    </tr>\n",
              "    <tr>\n",
              "      <th>4</th>\n",
              "      <td>train_3369186413</td>\n",
              "      <td>00136d1cf4edede0203f32f05f660588.jpg</td>\n",
              "      <td>a6f319f924ad708c</td>\n",
              "      <td>Nescafe \\xc3\\x89clair Latte 220ml</td>\n",
              "      <td>9425</td>\n",
              "      <td>0.840896</td>\n",
              "      <td>0.5</td>\n",
              "    </tr>\n",
              "  </tbody>\n",
              "</table>\n",
              "</div>"
            ],
            "text/plain": [
              "         posting_id                                 image  ...    counts margin\n",
              "0   train_129225211  0000a68812bc7e98c42888dfb1c07da0.jpg  ...  0.840896    0.5\n",
              "1  train_3386243561  00039780dfc94d01db8676fe789ecd05.jpg  ...  0.840896    0.5\n",
              "2  train_2288590299  000a190fdd715a2a36faed16e2c65df7.jpg  ...  0.840896    0.5\n",
              "3  train_2406599165  00117e4fc239b1b641ff08340b429633.jpg  ...  0.840896    0.5\n",
              "4  train_3369186413  00136d1cf4edede0203f32f05f660588.jpg  ...  0.840896    0.5\n",
              "\n",
              "[5 rows x 7 columns]"
            ]
          },
          "metadata": {
            "tags": []
          },
          "execution_count": 22
        }
      ]
    },
    {
      "cell_type": "code",
      "metadata": {
        "id": "OauHZNZMerDG"
      },
      "source": [
        "def train(train_loader,valid_loader, model, device, optimizer):\n",
        "    model.train()\n",
        "    t = tqdm(train_loader, position=0, leave=True)\n",
        "    total_loss=[]\n",
        "    for step, d in enumerate(t):\n",
        "#         if step<2:\n",
        "         image = d[0].to(device)\n",
        "         target = d[1].to(device)\n",
        "         margin = d[2].view(-1,1).to(device)\n",
        "         model.zero_grad()\n",
        "         logits = model(image)\n",
        "         loss = ArcFaceLoss(device=device)(logits=logits, labels=target,m=margin)\n",
        "         t.set_description(str(loss.item()))\n",
        "         total_loss.append(loss.item())\n",
        "         loss.backward()\n",
        "         optimizer.step()\n",
        "#         else:\n",
        "#             break\n",
        "    val_loss=[]\n",
        "    t = tqdm(valid_loader, position=0, leave=True)   \n",
        "    for step, d in enumerate(t):\n",
        "#         if step<2:\n",
        "         image = d[0].to(device)\n",
        "         target = d[1].to(device)\n",
        "         margin = d[2].view(-1,1).to(device)\n",
        "         logits = model(image)\n",
        "         loss = ArcFaceLoss(device=device)(logits=logits, labels=target,m=margin)\n",
        "         val_loss.append(loss.item())\n",
        "#         else:\n",
        "#             break\n",
        "         \n",
        "    return total_loss,val_loss"
      ],
      "execution_count": 23,
      "outputs": []
    },
    {
      "cell_type": "code",
      "metadata": {
        "id": "Uo9D7_Mt01Qq"
      },
      "source": [
        "from sklearn.model_selection import train_test_split\n",
        "trn,val=train_test_split(df,test_size=0.35, random_state=42,stratify = df['label_group'])"
      ],
      "execution_count": 24,
      "outputs": []
    },
    {
      "cell_type": "code",
      "metadata": {
        "id": "ES4W36q1Kz7Y",
        "colab": {
          "base_uri": "https://localhost:8080/"
        },
        "outputId": "38106481-edbd-4d70-aa1e-5b19928eabb0"
      },
      "source": [
        "rem=list(set(val['label_group'].unique())-set(trn['label_group'].unique()))\n",
        "rem=val.loc[val['label_group'].isin(rem)]\n",
        "val=val.loc[~(val['label_group'].isin(rem))]\n",
        "trn=pd.concat([trn,rem],0)\n",
        "print(trn.shape,val.shape,len(list(set(val['label_group'].unique())-set(trn['label_group'].unique()))))"
      ],
      "execution_count": 25,
      "outputs": [
        {
          "output_type": "stream",
          "text": [
            "(22262, 7) (11988, 7) 0\n"
          ],
          "name": "stdout"
        }
      ]
    },
    {
      "cell_type": "code",
      "metadata": {
        "id": "ArRiZ5lS0F9u"
      },
      "source": [
        "from tqdm import tqdm\n",
        "from statistics import *\n",
        "model=Net()\n",
        "optimizer = torch.optim.Adam(model.parameters(), \n",
        "                            lr=5e-4,weight_decay =1e-5)\n",
        "train_dataset = DatasetRetriever(\n",
        "        X = trn['image'].values,margin=trn['margin'].values,\n",
        "        y = trn['label_group'].values)\n",
        "train_loader = torch.utils.data.DataLoader(train_dataset,batch_size=16,\n",
        "            drop_last=True\n",
        "        )\n",
        "\n",
        "valid_dataset = DatasetRetriever(\n",
        "        X = val['image'].values,margin=val['margin'].values,\n",
        "        y = val['label_group'].values)\n",
        "valid_loader = torch.utils.data.DataLoader(valid_dataset,batch_size=16,\n",
        "            drop_last=True\n",
        "        )\n",
        "\n",
        "\n",
        "device = torch.device('cuda' if torch.cuda.is_available() else 'cpu')"
      ],
      "execution_count": 26,
      "outputs": []
    },
    {
      "cell_type": "code",
      "metadata": {
        "id": "eq6gnpm4CjDC",
        "colab": {
          "base_uri": "https://localhost:8080/"
        },
        "outputId": "8f83c227-0a85-49b4-fc77-81a87f177ea9"
      },
      "source": [
        "\n",
        "\n",
        "model.to(device)\n",
        "trn_loss=[]\n",
        "val_loss=[]\n",
        "\n",
        "for i in range(20):\n",
        "    t,v=train(train_loader,valid_loader, model, device, optimizer)\n",
        "    trn_loss.append(mean(t))\n",
        "    val_loss.append(mean(v))\n",
        "    \n",
        "\n"
      ],
      "execution_count": null,
      "outputs": [
        {
          "output_type": "stream",
          "text": [
            "28.64346385671967:   7%|▋         | 101/1391 [00:58<12:08,  1.77it/s] "
          ],
          "name": "stderr"
        }
      ]
    },
    {
      "cell_type": "code",
      "metadata": {
        "id": "cVk9YO8elt-M"
      },
      "source": [
        "from matplotlib import pyplot as plt\n",
        "plt.plot(trn_loss)"
      ],
      "execution_count": null,
      "outputs": []
    },
    {
      "cell_type": "code",
      "metadata": {
        "id": "ykeXpxh_lu8L"
      },
      "source": [
        "plt.plot(val_loss)"
      ],
      "execution_count": null,
      "outputs": []
    },
    {
      "cell_type": "code",
      "metadata": {
        "id": "dW_cCm5qClpb"
      },
      "source": [
        "torch.save(model.state_dict(), '/content/gdrive/MyDrive/shopee/resnet50dm5.hdf5')"
      ],
      "execution_count": null,
      "outputs": []
    },
    {
      "cell_type": "code",
      "metadata": {
        "id": "YOdQm2sOWzCv"
      },
      "source": [
        ""
      ],
      "execution_count": null,
      "outputs": []
    }
  ]
}