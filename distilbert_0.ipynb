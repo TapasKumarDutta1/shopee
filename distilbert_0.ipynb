{
  "nbformat": 4,
  "nbformat_minor": 0,
  "metadata": {
    "colab": {
      "name": "distilbert_0.ipynb",
      "provenance": [],
      "include_colab_link": true
    },
    "kernelspec": {
      "name": "python3",
      "display_name": "Python 3"
    },
    "language_info": {
      "name": "python"
    },
    "accelerator": "GPU",
    "widgets": {
      "application/vnd.jupyter.widget-state+json": {
        "f626a380ed974a72916f7fbe445ae8f8": {
          "model_module": "@jupyter-widgets/controls",
          "model_name": "HBoxModel",
          "state": {
            "_view_name": "HBoxView",
            "_dom_classes": [],
            "_model_name": "HBoxModel",
            "_view_module": "@jupyter-widgets/controls",
            "_model_module_version": "1.5.0",
            "_view_count": null,
            "_view_module_version": "1.5.0",
            "box_style": "",
            "layout": "IPY_MODEL_659185fd2e0a4d5d8618adda01fa73ca",
            "_model_module": "@jupyter-widgets/controls",
            "children": [
              "IPY_MODEL_03d49bf57ad744aca286d983de350831",
              "IPY_MODEL_79ef61e7873343f2a63c901aae85f386"
            ]
          }
        },
        "659185fd2e0a4d5d8618adda01fa73ca": {
          "model_module": "@jupyter-widgets/base",
          "model_name": "LayoutModel",
          "state": {
            "_view_name": "LayoutView",
            "grid_template_rows": null,
            "right": null,
            "justify_content": null,
            "_view_module": "@jupyter-widgets/base",
            "overflow": null,
            "_model_module_version": "1.2.0",
            "_view_count": null,
            "flex_flow": null,
            "width": null,
            "min_width": null,
            "border": null,
            "align_items": null,
            "bottom": null,
            "_model_module": "@jupyter-widgets/base",
            "top": null,
            "grid_column": null,
            "overflow_y": null,
            "overflow_x": null,
            "grid_auto_flow": null,
            "grid_area": null,
            "grid_template_columns": null,
            "flex": null,
            "_model_name": "LayoutModel",
            "justify_items": null,
            "grid_row": null,
            "max_height": null,
            "align_content": null,
            "visibility": null,
            "align_self": null,
            "height": null,
            "min_height": null,
            "padding": null,
            "grid_auto_rows": null,
            "grid_gap": null,
            "max_width": null,
            "order": null,
            "_view_module_version": "1.2.0",
            "grid_template_areas": null,
            "object_position": null,
            "object_fit": null,
            "grid_auto_columns": null,
            "margin": null,
            "display": null,
            "left": null
          }
        },
        "03d49bf57ad744aca286d983de350831": {
          "model_module": "@jupyter-widgets/controls",
          "model_name": "FloatProgressModel",
          "state": {
            "_view_name": "ProgressView",
            "style": "IPY_MODEL_1fedabb452cb42d6848ab663db198c91",
            "_dom_classes": [],
            "description": "Downloading: 100%",
            "_model_name": "FloatProgressModel",
            "bar_style": "success",
            "max": 229513,
            "_view_module": "@jupyter-widgets/controls",
            "_model_module_version": "1.5.0",
            "value": 229513,
            "_view_count": null,
            "_view_module_version": "1.5.0",
            "orientation": "horizontal",
            "min": 0,
            "description_tooltip": null,
            "_model_module": "@jupyter-widgets/controls",
            "layout": "IPY_MODEL_a1405b536e9f4fe7a580db9be8e6001e"
          }
        },
        "79ef61e7873343f2a63c901aae85f386": {
          "model_module": "@jupyter-widgets/controls",
          "model_name": "HTMLModel",
          "state": {
            "_view_name": "HTMLView",
            "style": "IPY_MODEL_431a1757cad045bc94b8c13527d62dac",
            "_dom_classes": [],
            "description": "",
            "_model_name": "HTMLModel",
            "placeholder": "​",
            "_view_module": "@jupyter-widgets/controls",
            "_model_module_version": "1.5.0",
            "value": " 230k/230k [00:01&lt;00:00, 132kB/s]",
            "_view_count": null,
            "_view_module_version": "1.5.0",
            "description_tooltip": null,
            "_model_module": "@jupyter-widgets/controls",
            "layout": "IPY_MODEL_e9075ffbd3f844d68c7535fcb7aebcc6"
          }
        },
        "1fedabb452cb42d6848ab663db198c91": {
          "model_module": "@jupyter-widgets/controls",
          "model_name": "ProgressStyleModel",
          "state": {
            "_view_name": "StyleView",
            "_model_name": "ProgressStyleModel",
            "description_width": "initial",
            "_view_module": "@jupyter-widgets/base",
            "_model_module_version": "1.5.0",
            "_view_count": null,
            "_view_module_version": "1.2.0",
            "bar_color": null,
            "_model_module": "@jupyter-widgets/controls"
          }
        },
        "a1405b536e9f4fe7a580db9be8e6001e": {
          "model_module": "@jupyter-widgets/base",
          "model_name": "LayoutModel",
          "state": {
            "_view_name": "LayoutView",
            "grid_template_rows": null,
            "right": null,
            "justify_content": null,
            "_view_module": "@jupyter-widgets/base",
            "overflow": null,
            "_model_module_version": "1.2.0",
            "_view_count": null,
            "flex_flow": null,
            "width": null,
            "min_width": null,
            "border": null,
            "align_items": null,
            "bottom": null,
            "_model_module": "@jupyter-widgets/base",
            "top": null,
            "grid_column": null,
            "overflow_y": null,
            "overflow_x": null,
            "grid_auto_flow": null,
            "grid_area": null,
            "grid_template_columns": null,
            "flex": null,
            "_model_name": "LayoutModel",
            "justify_items": null,
            "grid_row": null,
            "max_height": null,
            "align_content": null,
            "visibility": null,
            "align_self": null,
            "height": null,
            "min_height": null,
            "padding": null,
            "grid_auto_rows": null,
            "grid_gap": null,
            "max_width": null,
            "order": null,
            "_view_module_version": "1.2.0",
            "grid_template_areas": null,
            "object_position": null,
            "object_fit": null,
            "grid_auto_columns": null,
            "margin": null,
            "display": null,
            "left": null
          }
        },
        "431a1757cad045bc94b8c13527d62dac": {
          "model_module": "@jupyter-widgets/controls",
          "model_name": "DescriptionStyleModel",
          "state": {
            "_view_name": "StyleView",
            "_model_name": "DescriptionStyleModel",
            "description_width": "",
            "_view_module": "@jupyter-widgets/base",
            "_model_module_version": "1.5.0",
            "_view_count": null,
            "_view_module_version": "1.2.0",
            "_model_module": "@jupyter-widgets/controls"
          }
        },
        "e9075ffbd3f844d68c7535fcb7aebcc6": {
          "model_module": "@jupyter-widgets/base",
          "model_name": "LayoutModel",
          "state": {
            "_view_name": "LayoutView",
            "grid_template_rows": null,
            "right": null,
            "justify_content": null,
            "_view_module": "@jupyter-widgets/base",
            "overflow": null,
            "_model_module_version": "1.2.0",
            "_view_count": null,
            "flex_flow": null,
            "width": null,
            "min_width": null,
            "border": null,
            "align_items": null,
            "bottom": null,
            "_model_module": "@jupyter-widgets/base",
            "top": null,
            "grid_column": null,
            "overflow_y": null,
            "overflow_x": null,
            "grid_auto_flow": null,
            "grid_area": null,
            "grid_template_columns": null,
            "flex": null,
            "_model_name": "LayoutModel",
            "justify_items": null,
            "grid_row": null,
            "max_height": null,
            "align_content": null,
            "visibility": null,
            "align_self": null,
            "height": null,
            "min_height": null,
            "padding": null,
            "grid_auto_rows": null,
            "grid_gap": null,
            "max_width": null,
            "order": null,
            "_view_module_version": "1.2.0",
            "grid_template_areas": null,
            "object_position": null,
            "object_fit": null,
            "grid_auto_columns": null,
            "margin": null,
            "display": null,
            "left": null
          }
        },
        "79030f794c1e4ed2b4f1f8de819fe1c9": {
          "model_module": "@jupyter-widgets/controls",
          "model_name": "HBoxModel",
          "state": {
            "_view_name": "HBoxView",
            "_dom_classes": [],
            "_model_name": "HBoxModel",
            "_view_module": "@jupyter-widgets/controls",
            "_model_module_version": "1.5.0",
            "_view_count": null,
            "_view_module_version": "1.5.0",
            "box_style": "",
            "layout": "IPY_MODEL_1d6ec8feaf2048a78f082e611426ee2a",
            "_model_module": "@jupyter-widgets/controls",
            "children": [
              "IPY_MODEL_1237651c1c95484f9444618540cd19d0",
              "IPY_MODEL_fa314186e7944952ad9dd45aaed0f9fa"
            ]
          }
        },
        "1d6ec8feaf2048a78f082e611426ee2a": {
          "model_module": "@jupyter-widgets/base",
          "model_name": "LayoutModel",
          "state": {
            "_view_name": "LayoutView",
            "grid_template_rows": null,
            "right": null,
            "justify_content": null,
            "_view_module": "@jupyter-widgets/base",
            "overflow": null,
            "_model_module_version": "1.2.0",
            "_view_count": null,
            "flex_flow": null,
            "width": null,
            "min_width": null,
            "border": null,
            "align_items": null,
            "bottom": null,
            "_model_module": "@jupyter-widgets/base",
            "top": null,
            "grid_column": null,
            "overflow_y": null,
            "overflow_x": null,
            "grid_auto_flow": null,
            "grid_area": null,
            "grid_template_columns": null,
            "flex": null,
            "_model_name": "LayoutModel",
            "justify_items": null,
            "grid_row": null,
            "max_height": null,
            "align_content": null,
            "visibility": null,
            "align_self": null,
            "height": null,
            "min_height": null,
            "padding": null,
            "grid_auto_rows": null,
            "grid_gap": null,
            "max_width": null,
            "order": null,
            "_view_module_version": "1.2.0",
            "grid_template_areas": null,
            "object_position": null,
            "object_fit": null,
            "grid_auto_columns": null,
            "margin": null,
            "display": null,
            "left": null
          }
        },
        "1237651c1c95484f9444618540cd19d0": {
          "model_module": "@jupyter-widgets/controls",
          "model_name": "FloatProgressModel",
          "state": {
            "_view_name": "ProgressView",
            "style": "IPY_MODEL_b92c3c70dc704a8bb1396523a9100a32",
            "_dom_classes": [],
            "description": "Downloading: 100%",
            "_model_name": "FloatProgressModel",
            "bar_style": "success",
            "max": 112,
            "_view_module": "@jupyter-widgets/controls",
            "_model_module_version": "1.5.0",
            "value": 112,
            "_view_count": null,
            "_view_module_version": "1.5.0",
            "orientation": "horizontal",
            "min": 0,
            "description_tooltip": null,
            "_model_module": "@jupyter-widgets/controls",
            "layout": "IPY_MODEL_9b3c9f9bd61746d782a2a922f7ac38f1"
          }
        },
        "fa314186e7944952ad9dd45aaed0f9fa": {
          "model_module": "@jupyter-widgets/controls",
          "model_name": "HTMLModel",
          "state": {
            "_view_name": "HTMLView",
            "style": "IPY_MODEL_daa12c5775394f1394156f09237fa2f0",
            "_dom_classes": [],
            "description": "",
            "_model_name": "HTMLModel",
            "placeholder": "​",
            "_view_module": "@jupyter-widgets/controls",
            "_model_module_version": "1.5.0",
            "value": " 112/112 [00:00&lt;00:00, 180B/s]",
            "_view_count": null,
            "_view_module_version": "1.5.0",
            "description_tooltip": null,
            "_model_module": "@jupyter-widgets/controls",
            "layout": "IPY_MODEL_cd3547ddb8a34449968c14f8582a7e99"
          }
        },
        "b92c3c70dc704a8bb1396523a9100a32": {
          "model_module": "@jupyter-widgets/controls",
          "model_name": "ProgressStyleModel",
          "state": {
            "_view_name": "StyleView",
            "_model_name": "ProgressStyleModel",
            "description_width": "initial",
            "_view_module": "@jupyter-widgets/base",
            "_model_module_version": "1.5.0",
            "_view_count": null,
            "_view_module_version": "1.2.0",
            "bar_color": null,
            "_model_module": "@jupyter-widgets/controls"
          }
        },
        "9b3c9f9bd61746d782a2a922f7ac38f1": {
          "model_module": "@jupyter-widgets/base",
          "model_name": "LayoutModel",
          "state": {
            "_view_name": "LayoutView",
            "grid_template_rows": null,
            "right": null,
            "justify_content": null,
            "_view_module": "@jupyter-widgets/base",
            "overflow": null,
            "_model_module_version": "1.2.0",
            "_view_count": null,
            "flex_flow": null,
            "width": null,
            "min_width": null,
            "border": null,
            "align_items": null,
            "bottom": null,
            "_model_module": "@jupyter-widgets/base",
            "top": null,
            "grid_column": null,
            "overflow_y": null,
            "overflow_x": null,
            "grid_auto_flow": null,
            "grid_area": null,
            "grid_template_columns": null,
            "flex": null,
            "_model_name": "LayoutModel",
            "justify_items": null,
            "grid_row": null,
            "max_height": null,
            "align_content": null,
            "visibility": null,
            "align_self": null,
            "height": null,
            "min_height": null,
            "padding": null,
            "grid_auto_rows": null,
            "grid_gap": null,
            "max_width": null,
            "order": null,
            "_view_module_version": "1.2.0",
            "grid_template_areas": null,
            "object_position": null,
            "object_fit": null,
            "grid_auto_columns": null,
            "margin": null,
            "display": null,
            "left": null
          }
        },
        "daa12c5775394f1394156f09237fa2f0": {
          "model_module": "@jupyter-widgets/controls",
          "model_name": "DescriptionStyleModel",
          "state": {
            "_view_name": "StyleView",
            "_model_name": "DescriptionStyleModel",
            "description_width": "",
            "_view_module": "@jupyter-widgets/base",
            "_model_module_version": "1.5.0",
            "_view_count": null,
            "_view_module_version": "1.2.0",
            "_model_module": "@jupyter-widgets/controls"
          }
        },
        "cd3547ddb8a34449968c14f8582a7e99": {
          "model_module": "@jupyter-widgets/base",
          "model_name": "LayoutModel",
          "state": {
            "_view_name": "LayoutView",
            "grid_template_rows": null,
            "right": null,
            "justify_content": null,
            "_view_module": "@jupyter-widgets/base",
            "overflow": null,
            "_model_module_version": "1.2.0",
            "_view_count": null,
            "flex_flow": null,
            "width": null,
            "min_width": null,
            "border": null,
            "align_items": null,
            "bottom": null,
            "_model_module": "@jupyter-widgets/base",
            "top": null,
            "grid_column": null,
            "overflow_y": null,
            "overflow_x": null,
            "grid_auto_flow": null,
            "grid_area": null,
            "grid_template_columns": null,
            "flex": null,
            "_model_name": "LayoutModel",
            "justify_items": null,
            "grid_row": null,
            "max_height": null,
            "align_content": null,
            "visibility": null,
            "align_self": null,
            "height": null,
            "min_height": null,
            "padding": null,
            "grid_auto_rows": null,
            "grid_gap": null,
            "max_width": null,
            "order": null,
            "_view_module_version": "1.2.0",
            "grid_template_areas": null,
            "object_position": null,
            "object_fit": null,
            "grid_auto_columns": null,
            "margin": null,
            "display": null,
            "left": null
          }
        },
        "8474ccc8f20a4402b133c0fe0e6e00a4": {
          "model_module": "@jupyter-widgets/controls",
          "model_name": "HBoxModel",
          "state": {
            "_view_name": "HBoxView",
            "_dom_classes": [],
            "_model_name": "HBoxModel",
            "_view_module": "@jupyter-widgets/controls",
            "_model_module_version": "1.5.0",
            "_view_count": null,
            "_view_module_version": "1.5.0",
            "box_style": "",
            "layout": "IPY_MODEL_dcb1ff17367d48bdb6615fb4fecebe8d",
            "_model_module": "@jupyter-widgets/controls",
            "children": [
              "IPY_MODEL_861545ee48d54c83a9b3e967517c10f7",
              "IPY_MODEL_795c7518c40942939cbaff62fa03b374"
            ]
          }
        },
        "dcb1ff17367d48bdb6615fb4fecebe8d": {
          "model_module": "@jupyter-widgets/base",
          "model_name": "LayoutModel",
          "state": {
            "_view_name": "LayoutView",
            "grid_template_rows": null,
            "right": null,
            "justify_content": null,
            "_view_module": "@jupyter-widgets/base",
            "overflow": null,
            "_model_module_version": "1.2.0",
            "_view_count": null,
            "flex_flow": null,
            "width": null,
            "min_width": null,
            "border": null,
            "align_items": null,
            "bottom": null,
            "_model_module": "@jupyter-widgets/base",
            "top": null,
            "grid_column": null,
            "overflow_y": null,
            "overflow_x": null,
            "grid_auto_flow": null,
            "grid_area": null,
            "grid_template_columns": null,
            "flex": null,
            "_model_name": "LayoutModel",
            "justify_items": null,
            "grid_row": null,
            "max_height": null,
            "align_content": null,
            "visibility": null,
            "align_self": null,
            "height": null,
            "min_height": null,
            "padding": null,
            "grid_auto_rows": null,
            "grid_gap": null,
            "max_width": null,
            "order": null,
            "_view_module_version": "1.2.0",
            "grid_template_areas": null,
            "object_position": null,
            "object_fit": null,
            "grid_auto_columns": null,
            "margin": null,
            "display": null,
            "left": null
          }
        },
        "861545ee48d54c83a9b3e967517c10f7": {
          "model_module": "@jupyter-widgets/controls",
          "model_name": "FloatProgressModel",
          "state": {
            "_view_name": "ProgressView",
            "style": "IPY_MODEL_ae450592bce94dfcba0443118cdf1f59",
            "_dom_classes": [],
            "description": "Downloading: 100%",
            "_model_name": "FloatProgressModel",
            "bar_style": "success",
            "max": 62,
            "_view_module": "@jupyter-widgets/controls",
            "_model_module_version": "1.5.0",
            "value": 62,
            "_view_count": null,
            "_view_module_version": "1.5.0",
            "orientation": "horizontal",
            "min": 0,
            "description_tooltip": null,
            "_model_module": "@jupyter-widgets/controls",
            "layout": "IPY_MODEL_61dcfd02cac5463cb08a7dc2b9aee5d5"
          }
        },
        "795c7518c40942939cbaff62fa03b374": {
          "model_module": "@jupyter-widgets/controls",
          "model_name": "HTMLModel",
          "state": {
            "_view_name": "HTMLView",
            "style": "IPY_MODEL_d62e059aec0e418199146dcd26d06345",
            "_dom_classes": [],
            "description": "",
            "_model_name": "HTMLModel",
            "placeholder": "​",
            "_view_module": "@jupyter-widgets/controls",
            "_model_module_version": "1.5.0",
            "value": " 62.0/62.0 [00:00&lt;00:00, 239B/s]",
            "_view_count": null,
            "_view_module_version": "1.5.0",
            "description_tooltip": null,
            "_model_module": "@jupyter-widgets/controls",
            "layout": "IPY_MODEL_48581a9793864c3bb669e955f265d62d"
          }
        },
        "ae450592bce94dfcba0443118cdf1f59": {
          "model_module": "@jupyter-widgets/controls",
          "model_name": "ProgressStyleModel",
          "state": {
            "_view_name": "StyleView",
            "_model_name": "ProgressStyleModel",
            "description_width": "initial",
            "_view_module": "@jupyter-widgets/base",
            "_model_module_version": "1.5.0",
            "_view_count": null,
            "_view_module_version": "1.2.0",
            "bar_color": null,
            "_model_module": "@jupyter-widgets/controls"
          }
        },
        "61dcfd02cac5463cb08a7dc2b9aee5d5": {
          "model_module": "@jupyter-widgets/base",
          "model_name": "LayoutModel",
          "state": {
            "_view_name": "LayoutView",
            "grid_template_rows": null,
            "right": null,
            "justify_content": null,
            "_view_module": "@jupyter-widgets/base",
            "overflow": null,
            "_model_module_version": "1.2.0",
            "_view_count": null,
            "flex_flow": null,
            "width": null,
            "min_width": null,
            "border": null,
            "align_items": null,
            "bottom": null,
            "_model_module": "@jupyter-widgets/base",
            "top": null,
            "grid_column": null,
            "overflow_y": null,
            "overflow_x": null,
            "grid_auto_flow": null,
            "grid_area": null,
            "grid_template_columns": null,
            "flex": null,
            "_model_name": "LayoutModel",
            "justify_items": null,
            "grid_row": null,
            "max_height": null,
            "align_content": null,
            "visibility": null,
            "align_self": null,
            "height": null,
            "min_height": null,
            "padding": null,
            "grid_auto_rows": null,
            "grid_gap": null,
            "max_width": null,
            "order": null,
            "_view_module_version": "1.2.0",
            "grid_template_areas": null,
            "object_position": null,
            "object_fit": null,
            "grid_auto_columns": null,
            "margin": null,
            "display": null,
            "left": null
          }
        },
        "d62e059aec0e418199146dcd26d06345": {
          "model_module": "@jupyter-widgets/controls",
          "model_name": "DescriptionStyleModel",
          "state": {
            "_view_name": "StyleView",
            "_model_name": "DescriptionStyleModel",
            "description_width": "",
            "_view_module": "@jupyter-widgets/base",
            "_model_module_version": "1.5.0",
            "_view_count": null,
            "_view_module_version": "1.2.0",
            "_model_module": "@jupyter-widgets/controls"
          }
        },
        "48581a9793864c3bb669e955f265d62d": {
          "model_module": "@jupyter-widgets/base",
          "model_name": "LayoutModel",
          "state": {
            "_view_name": "LayoutView",
            "grid_template_rows": null,
            "right": null,
            "justify_content": null,
            "_view_module": "@jupyter-widgets/base",
            "overflow": null,
            "_model_module_version": "1.2.0",
            "_view_count": null,
            "flex_flow": null,
            "width": null,
            "min_width": null,
            "border": null,
            "align_items": null,
            "bottom": null,
            "_model_module": "@jupyter-widgets/base",
            "top": null,
            "grid_column": null,
            "overflow_y": null,
            "overflow_x": null,
            "grid_auto_flow": null,
            "grid_area": null,
            "grid_template_columns": null,
            "flex": null,
            "_model_name": "LayoutModel",
            "justify_items": null,
            "grid_row": null,
            "max_height": null,
            "align_content": null,
            "visibility": null,
            "align_self": null,
            "height": null,
            "min_height": null,
            "padding": null,
            "grid_auto_rows": null,
            "grid_gap": null,
            "max_width": null,
            "order": null,
            "_view_module_version": "1.2.0",
            "grid_template_areas": null,
            "object_position": null,
            "object_fit": null,
            "grid_auto_columns": null,
            "margin": null,
            "display": null,
            "left": null
          }
        },
        "bce4fd25788c4c7a986b9d5d84d89de8": {
          "model_module": "@jupyter-widgets/controls",
          "model_name": "HBoxModel",
          "state": {
            "_view_name": "HBoxView",
            "_dom_classes": [],
            "_model_name": "HBoxModel",
            "_view_module": "@jupyter-widgets/controls",
            "_model_module_version": "1.5.0",
            "_view_count": null,
            "_view_module_version": "1.5.0",
            "box_style": "",
            "layout": "IPY_MODEL_1eeb45b3be304c428eec774753a0b7b1",
            "_model_module": "@jupyter-widgets/controls",
            "children": [
              "IPY_MODEL_2fc23c1d9d0c44209a14c2e84048e808",
              "IPY_MODEL_80871a1dfa884ee984565f022ec39e39"
            ]
          }
        },
        "1eeb45b3be304c428eec774753a0b7b1": {
          "model_module": "@jupyter-widgets/base",
          "model_name": "LayoutModel",
          "state": {
            "_view_name": "LayoutView",
            "grid_template_rows": null,
            "right": null,
            "justify_content": null,
            "_view_module": "@jupyter-widgets/base",
            "overflow": null,
            "_model_module_version": "1.2.0",
            "_view_count": null,
            "flex_flow": null,
            "width": null,
            "min_width": null,
            "border": null,
            "align_items": null,
            "bottom": null,
            "_model_module": "@jupyter-widgets/base",
            "top": null,
            "grid_column": null,
            "overflow_y": null,
            "overflow_x": null,
            "grid_auto_flow": null,
            "grid_area": null,
            "grid_template_columns": null,
            "flex": null,
            "_model_name": "LayoutModel",
            "justify_items": null,
            "grid_row": null,
            "max_height": null,
            "align_content": null,
            "visibility": null,
            "align_self": null,
            "height": null,
            "min_height": null,
            "padding": null,
            "grid_auto_rows": null,
            "grid_gap": null,
            "max_width": null,
            "order": null,
            "_view_module_version": "1.2.0",
            "grid_template_areas": null,
            "object_position": null,
            "object_fit": null,
            "grid_auto_columns": null,
            "margin": null,
            "display": null,
            "left": null
          }
        },
        "2fc23c1d9d0c44209a14c2e84048e808": {
          "model_module": "@jupyter-widgets/controls",
          "model_name": "FloatProgressModel",
          "state": {
            "_view_name": "ProgressView",
            "style": "IPY_MODEL_17fba80b528b41808fa34650173422b5",
            "_dom_classes": [],
            "description": "Downloading: 100%",
            "_model_name": "FloatProgressModel",
            "bar_style": "success",
            "max": 473,
            "_view_module": "@jupyter-widgets/controls",
            "_model_module_version": "1.5.0",
            "value": 473,
            "_view_count": null,
            "_view_module_version": "1.5.0",
            "orientation": "horizontal",
            "min": 0,
            "description_tooltip": null,
            "_model_module": "@jupyter-widgets/controls",
            "layout": "IPY_MODEL_e649eb71ca264659a29f70d71aef4d62"
          }
        },
        "80871a1dfa884ee984565f022ec39e39": {
          "model_module": "@jupyter-widgets/controls",
          "model_name": "HTMLModel",
          "state": {
            "_view_name": "HTMLView",
            "style": "IPY_MODEL_512ed537c9a94109ac88c335aaf76c9e",
            "_dom_classes": [],
            "description": "",
            "_model_name": "HTMLModel",
            "placeholder": "​",
            "_view_module": "@jupyter-widgets/controls",
            "_model_module_version": "1.5.0",
            "value": " 473/473 [00:00&lt;00:00, 861B/s]",
            "_view_count": null,
            "_view_module_version": "1.5.0",
            "description_tooltip": null,
            "_model_module": "@jupyter-widgets/controls",
            "layout": "IPY_MODEL_185931b6f79a4827b98fab8c650fabb6"
          }
        },
        "17fba80b528b41808fa34650173422b5": {
          "model_module": "@jupyter-widgets/controls",
          "model_name": "ProgressStyleModel",
          "state": {
            "_view_name": "StyleView",
            "_model_name": "ProgressStyleModel",
            "description_width": "initial",
            "_view_module": "@jupyter-widgets/base",
            "_model_module_version": "1.5.0",
            "_view_count": null,
            "_view_module_version": "1.2.0",
            "bar_color": null,
            "_model_module": "@jupyter-widgets/controls"
          }
        },
        "e649eb71ca264659a29f70d71aef4d62": {
          "model_module": "@jupyter-widgets/base",
          "model_name": "LayoutModel",
          "state": {
            "_view_name": "LayoutView",
            "grid_template_rows": null,
            "right": null,
            "justify_content": null,
            "_view_module": "@jupyter-widgets/base",
            "overflow": null,
            "_model_module_version": "1.2.0",
            "_view_count": null,
            "flex_flow": null,
            "width": null,
            "min_width": null,
            "border": null,
            "align_items": null,
            "bottom": null,
            "_model_module": "@jupyter-widgets/base",
            "top": null,
            "grid_column": null,
            "overflow_y": null,
            "overflow_x": null,
            "grid_auto_flow": null,
            "grid_area": null,
            "grid_template_columns": null,
            "flex": null,
            "_model_name": "LayoutModel",
            "justify_items": null,
            "grid_row": null,
            "max_height": null,
            "align_content": null,
            "visibility": null,
            "align_self": null,
            "height": null,
            "min_height": null,
            "padding": null,
            "grid_auto_rows": null,
            "grid_gap": null,
            "max_width": null,
            "order": null,
            "_view_module_version": "1.2.0",
            "grid_template_areas": null,
            "object_position": null,
            "object_fit": null,
            "grid_auto_columns": null,
            "margin": null,
            "display": null,
            "left": null
          }
        },
        "512ed537c9a94109ac88c335aaf76c9e": {
          "model_module": "@jupyter-widgets/controls",
          "model_name": "DescriptionStyleModel",
          "state": {
            "_view_name": "StyleView",
            "_model_name": "DescriptionStyleModel",
            "description_width": "",
            "_view_module": "@jupyter-widgets/base",
            "_model_module_version": "1.5.0",
            "_view_count": null,
            "_view_module_version": "1.2.0",
            "_model_module": "@jupyter-widgets/controls"
          }
        },
        "185931b6f79a4827b98fab8c650fabb6": {
          "model_module": "@jupyter-widgets/base",
          "model_name": "LayoutModel",
          "state": {
            "_view_name": "LayoutView",
            "grid_template_rows": null,
            "right": null,
            "justify_content": null,
            "_view_module": "@jupyter-widgets/base",
            "overflow": null,
            "_model_module_version": "1.2.0",
            "_view_count": null,
            "flex_flow": null,
            "width": null,
            "min_width": null,
            "border": null,
            "align_items": null,
            "bottom": null,
            "_model_module": "@jupyter-widgets/base",
            "top": null,
            "grid_column": null,
            "overflow_y": null,
            "overflow_x": null,
            "grid_auto_flow": null,
            "grid_area": null,
            "grid_template_columns": null,
            "flex": null,
            "_model_name": "LayoutModel",
            "justify_items": null,
            "grid_row": null,
            "max_height": null,
            "align_content": null,
            "visibility": null,
            "align_self": null,
            "height": null,
            "min_height": null,
            "padding": null,
            "grid_auto_rows": null,
            "grid_gap": null,
            "max_width": null,
            "order": null,
            "_view_module_version": "1.2.0",
            "grid_template_areas": null,
            "object_position": null,
            "object_fit": null,
            "grid_auto_columns": null,
            "margin": null,
            "display": null,
            "left": null
          }
        },
        "d394eeef99f24672814e5278ac5777a5": {
          "model_module": "@jupyter-widgets/controls",
          "model_name": "HBoxModel",
          "state": {
            "_view_name": "HBoxView",
            "_dom_classes": [],
            "_model_name": "HBoxModel",
            "_view_module": "@jupyter-widgets/controls",
            "_model_module_version": "1.5.0",
            "_view_count": null,
            "_view_module_version": "1.5.0",
            "box_style": "",
            "layout": "IPY_MODEL_3695ec54e40a49b49510521b4f516d71",
            "_model_module": "@jupyter-widgets/controls",
            "children": [
              "IPY_MODEL_76f04ad00975413ca6865513cb1cb5f4",
              "IPY_MODEL_ef74575186e447b1806baac85f60610e"
            ]
          }
        },
        "3695ec54e40a49b49510521b4f516d71": {
          "model_module": "@jupyter-widgets/base",
          "model_name": "LayoutModel",
          "state": {
            "_view_name": "LayoutView",
            "grid_template_rows": null,
            "right": null,
            "justify_content": null,
            "_view_module": "@jupyter-widgets/base",
            "overflow": null,
            "_model_module_version": "1.2.0",
            "_view_count": null,
            "flex_flow": null,
            "width": null,
            "min_width": null,
            "border": null,
            "align_items": null,
            "bottom": null,
            "_model_module": "@jupyter-widgets/base",
            "top": null,
            "grid_column": null,
            "overflow_y": null,
            "overflow_x": null,
            "grid_auto_flow": null,
            "grid_area": null,
            "grid_template_columns": null,
            "flex": null,
            "_model_name": "LayoutModel",
            "justify_items": null,
            "grid_row": null,
            "max_height": null,
            "align_content": null,
            "visibility": null,
            "align_self": null,
            "height": null,
            "min_height": null,
            "padding": null,
            "grid_auto_rows": null,
            "grid_gap": null,
            "max_width": null,
            "order": null,
            "_view_module_version": "1.2.0",
            "grid_template_areas": null,
            "object_position": null,
            "object_fit": null,
            "grid_auto_columns": null,
            "margin": null,
            "display": null,
            "left": null
          }
        },
        "76f04ad00975413ca6865513cb1cb5f4": {
          "model_module": "@jupyter-widgets/controls",
          "model_name": "FloatProgressModel",
          "state": {
            "_view_name": "ProgressView",
            "style": "IPY_MODEL_b26a6f19b5c946ada7610563586d3720",
            "_dom_classes": [],
            "description": "Downloading: 100%",
            "_model_name": "FloatProgressModel",
            "bar_style": "success",
            "max": 272513919,
            "_view_module": "@jupyter-widgets/controls",
            "_model_module_version": "1.5.0",
            "value": 272513919,
            "_view_count": null,
            "_view_module_version": "1.5.0",
            "orientation": "horizontal",
            "min": 0,
            "description_tooltip": null,
            "_model_module": "@jupyter-widgets/controls",
            "layout": "IPY_MODEL_b06e729833ff401bb1d105ddc6eed2e4"
          }
        },
        "ef74575186e447b1806baac85f60610e": {
          "model_module": "@jupyter-widgets/controls",
          "model_name": "HTMLModel",
          "state": {
            "_view_name": "HTMLView",
            "style": "IPY_MODEL_28aa9041e35c48678636bf2993ef673d",
            "_dom_classes": [],
            "description": "",
            "_model_name": "HTMLModel",
            "placeholder": "​",
            "_view_module": "@jupyter-widgets/controls",
            "_model_module_version": "1.5.0",
            "value": " 273M/273M [00:20&lt;00:00, 13.4MB/s]",
            "_view_count": null,
            "_view_module_version": "1.5.0",
            "description_tooltip": null,
            "_model_module": "@jupyter-widgets/controls",
            "layout": "IPY_MODEL_e43826ebcb8b4f35a768a5bc1a61aaf8"
          }
        },
        "b26a6f19b5c946ada7610563586d3720": {
          "model_module": "@jupyter-widgets/controls",
          "model_name": "ProgressStyleModel",
          "state": {
            "_view_name": "StyleView",
            "_model_name": "ProgressStyleModel",
            "description_width": "initial",
            "_view_module": "@jupyter-widgets/base",
            "_model_module_version": "1.5.0",
            "_view_count": null,
            "_view_module_version": "1.2.0",
            "bar_color": null,
            "_model_module": "@jupyter-widgets/controls"
          }
        },
        "b06e729833ff401bb1d105ddc6eed2e4": {
          "model_module": "@jupyter-widgets/base",
          "model_name": "LayoutModel",
          "state": {
            "_view_name": "LayoutView",
            "grid_template_rows": null,
            "right": null,
            "justify_content": null,
            "_view_module": "@jupyter-widgets/base",
            "overflow": null,
            "_model_module_version": "1.2.0",
            "_view_count": null,
            "flex_flow": null,
            "width": null,
            "min_width": null,
            "border": null,
            "align_items": null,
            "bottom": null,
            "_model_module": "@jupyter-widgets/base",
            "top": null,
            "grid_column": null,
            "overflow_y": null,
            "overflow_x": null,
            "grid_auto_flow": null,
            "grid_area": null,
            "grid_template_columns": null,
            "flex": null,
            "_model_name": "LayoutModel",
            "justify_items": null,
            "grid_row": null,
            "max_height": null,
            "align_content": null,
            "visibility": null,
            "align_self": null,
            "height": null,
            "min_height": null,
            "padding": null,
            "grid_auto_rows": null,
            "grid_gap": null,
            "max_width": null,
            "order": null,
            "_view_module_version": "1.2.0",
            "grid_template_areas": null,
            "object_position": null,
            "object_fit": null,
            "grid_auto_columns": null,
            "margin": null,
            "display": null,
            "left": null
          }
        },
        "28aa9041e35c48678636bf2993ef673d": {
          "model_module": "@jupyter-widgets/controls",
          "model_name": "DescriptionStyleModel",
          "state": {
            "_view_name": "StyleView",
            "_model_name": "DescriptionStyleModel",
            "description_width": "",
            "_view_module": "@jupyter-widgets/base",
            "_model_module_version": "1.5.0",
            "_view_count": null,
            "_view_module_version": "1.2.0",
            "_model_module": "@jupyter-widgets/controls"
          }
        },
        "e43826ebcb8b4f35a768a5bc1a61aaf8": {
          "model_module": "@jupyter-widgets/base",
          "model_name": "LayoutModel",
          "state": {
            "_view_name": "LayoutView",
            "grid_template_rows": null,
            "right": null,
            "justify_content": null,
            "_view_module": "@jupyter-widgets/base",
            "overflow": null,
            "_model_module_version": "1.2.0",
            "_view_count": null,
            "flex_flow": null,
            "width": null,
            "min_width": null,
            "border": null,
            "align_items": null,
            "bottom": null,
            "_model_module": "@jupyter-widgets/base",
            "top": null,
            "grid_column": null,
            "overflow_y": null,
            "overflow_x": null,
            "grid_auto_flow": null,
            "grid_area": null,
            "grid_template_columns": null,
            "flex": null,
            "_model_name": "LayoutModel",
            "justify_items": null,
            "grid_row": null,
            "max_height": null,
            "align_content": null,
            "visibility": null,
            "align_self": null,
            "height": null,
            "min_height": null,
            "padding": null,
            "grid_auto_rows": null,
            "grid_gap": null,
            "max_width": null,
            "order": null,
            "_view_module_version": "1.2.0",
            "grid_template_areas": null,
            "object_position": null,
            "object_fit": null,
            "grid_auto_columns": null,
            "margin": null,
            "display": null,
            "left": null
          }
        },
        "93443aff151a43e78484b52db2bedd9e": {
          "model_module": "@jupyter-widgets/controls",
          "model_name": "HBoxModel",
          "state": {
            "_view_name": "HBoxView",
            "_dom_classes": [],
            "_model_name": "HBoxModel",
            "_view_module": "@jupyter-widgets/controls",
            "_model_module_version": "1.5.0",
            "_view_count": null,
            "_view_module_version": "1.5.0",
            "box_style": "",
            "layout": "IPY_MODEL_c8956981ee1a4955a9e545c2ddd7cdb2",
            "_model_module": "@jupyter-widgets/controls",
            "children": [
              "IPY_MODEL_23510497a05846d89b1d07cffc35f830",
              "IPY_MODEL_6314fb94efe34018bd94bf47b754c981"
            ]
          }
        },
        "c8956981ee1a4955a9e545c2ddd7cdb2": {
          "model_module": "@jupyter-widgets/base",
          "model_name": "LayoutModel",
          "state": {
            "_view_name": "LayoutView",
            "grid_template_rows": null,
            "right": null,
            "justify_content": null,
            "_view_module": "@jupyter-widgets/base",
            "overflow": null,
            "_model_module_version": "1.2.0",
            "_view_count": null,
            "flex_flow": null,
            "width": null,
            "min_width": null,
            "border": null,
            "align_items": null,
            "bottom": null,
            "_model_module": "@jupyter-widgets/base",
            "top": null,
            "grid_column": null,
            "overflow_y": null,
            "overflow_x": null,
            "grid_auto_flow": null,
            "grid_area": null,
            "grid_template_columns": null,
            "flex": null,
            "_model_name": "LayoutModel",
            "justify_items": null,
            "grid_row": null,
            "max_height": null,
            "align_content": null,
            "visibility": null,
            "align_self": null,
            "height": null,
            "min_height": null,
            "padding": null,
            "grid_auto_rows": null,
            "grid_gap": null,
            "max_width": null,
            "order": null,
            "_view_module_version": "1.2.0",
            "grid_template_areas": null,
            "object_position": null,
            "object_fit": null,
            "grid_auto_columns": null,
            "margin": null,
            "display": null,
            "left": null
          }
        },
        "23510497a05846d89b1d07cffc35f830": {
          "model_module": "@jupyter-widgets/controls",
          "model_name": "FloatProgressModel",
          "state": {
            "_view_name": "ProgressView",
            "style": "IPY_MODEL_979e4b85340e4bd5bef65656e65aad18",
            "_dom_classes": [],
            "description": "100%",
            "_model_name": "FloatProgressModel",
            "bar_style": "success",
            "max": 421,
            "_view_module": "@jupyter-widgets/controls",
            "_model_module_version": "1.5.0",
            "value": 421,
            "_view_count": null,
            "_view_module_version": "1.5.0",
            "orientation": "horizontal",
            "min": 0,
            "description_tooltip": null,
            "_model_module": "@jupyter-widgets/controls",
            "layout": "IPY_MODEL_e07df277f6ac4cdc8f957f7dd3fd1ef4"
          }
        },
        "6314fb94efe34018bd94bf47b754c981": {
          "model_module": "@jupyter-widgets/controls",
          "model_name": "HTMLModel",
          "state": {
            "_view_name": "HTMLView",
            "style": "IPY_MODEL_57b61d54ce384b76bcb617166af4b1b7",
            "_dom_classes": [],
            "description": "",
            "_model_name": "HTMLModel",
            "placeholder": "​",
            "_view_module": "@jupyter-widgets/controls",
            "_model_module_version": "1.5.0",
            "value": " 421/421 [01:13&lt;00:00,  5.71it/s, accuracy=0, lr=1e-5, train_loss=29.3]",
            "_view_count": null,
            "_view_module_version": "1.5.0",
            "description_tooltip": null,
            "_model_module": "@jupyter-widgets/controls",
            "layout": "IPY_MODEL_cc90f43e070b43e4b133e59087719c24"
          }
        },
        "979e4b85340e4bd5bef65656e65aad18": {
          "model_module": "@jupyter-widgets/controls",
          "model_name": "ProgressStyleModel",
          "state": {
            "_view_name": "StyleView",
            "_model_name": "ProgressStyleModel",
            "description_width": "initial",
            "_view_module": "@jupyter-widgets/base",
            "_model_module_version": "1.5.0",
            "_view_count": null,
            "_view_module_version": "1.2.0",
            "bar_color": null,
            "_model_module": "@jupyter-widgets/controls"
          }
        },
        "e07df277f6ac4cdc8f957f7dd3fd1ef4": {
          "model_module": "@jupyter-widgets/base",
          "model_name": "LayoutModel",
          "state": {
            "_view_name": "LayoutView",
            "grid_template_rows": null,
            "right": null,
            "justify_content": null,
            "_view_module": "@jupyter-widgets/base",
            "overflow": null,
            "_model_module_version": "1.2.0",
            "_view_count": null,
            "flex_flow": null,
            "width": null,
            "min_width": null,
            "border": null,
            "align_items": null,
            "bottom": null,
            "_model_module": "@jupyter-widgets/base",
            "top": null,
            "grid_column": null,
            "overflow_y": null,
            "overflow_x": null,
            "grid_auto_flow": null,
            "grid_area": null,
            "grid_template_columns": null,
            "flex": null,
            "_model_name": "LayoutModel",
            "justify_items": null,
            "grid_row": null,
            "max_height": null,
            "align_content": null,
            "visibility": null,
            "align_self": null,
            "height": null,
            "min_height": null,
            "padding": null,
            "grid_auto_rows": null,
            "grid_gap": null,
            "max_width": null,
            "order": null,
            "_view_module_version": "1.2.0",
            "grid_template_areas": null,
            "object_position": null,
            "object_fit": null,
            "grid_auto_columns": null,
            "margin": null,
            "display": null,
            "left": null
          }
        },
        "57b61d54ce384b76bcb617166af4b1b7": {
          "model_module": "@jupyter-widgets/controls",
          "model_name": "DescriptionStyleModel",
          "state": {
            "_view_name": "StyleView",
            "_model_name": "DescriptionStyleModel",
            "description_width": "",
            "_view_module": "@jupyter-widgets/base",
            "_model_module_version": "1.5.0",
            "_view_count": null,
            "_view_module_version": "1.2.0",
            "_model_module": "@jupyter-widgets/controls"
          }
        },
        "cc90f43e070b43e4b133e59087719c24": {
          "model_module": "@jupyter-widgets/base",
          "model_name": "LayoutModel",
          "state": {
            "_view_name": "LayoutView",
            "grid_template_rows": null,
            "right": null,
            "justify_content": null,
            "_view_module": "@jupyter-widgets/base",
            "overflow": null,
            "_model_module_version": "1.2.0",
            "_view_count": null,
            "flex_flow": null,
            "width": null,
            "min_width": null,
            "border": null,
            "align_items": null,
            "bottom": null,
            "_model_module": "@jupyter-widgets/base",
            "top": null,
            "grid_column": null,
            "overflow_y": null,
            "overflow_x": null,
            "grid_auto_flow": null,
            "grid_area": null,
            "grid_template_columns": null,
            "flex": null,
            "_model_name": "LayoutModel",
            "justify_items": null,
            "grid_row": null,
            "max_height": null,
            "align_content": null,
            "visibility": null,
            "align_self": null,
            "height": null,
            "min_height": null,
            "padding": null,
            "grid_auto_rows": null,
            "grid_gap": null,
            "max_width": null,
            "order": null,
            "_view_module_version": "1.2.0",
            "grid_template_areas": null,
            "object_position": null,
            "object_fit": null,
            "grid_auto_columns": null,
            "margin": null,
            "display": null,
            "left": null
          }
        },
        "36f96c96bd6748dfacf4543d6c9d4272": {
          "model_module": "@jupyter-widgets/controls",
          "model_name": "HBoxModel",
          "state": {
            "_view_name": "HBoxView",
            "_dom_classes": [],
            "_model_name": "HBoxModel",
            "_view_module": "@jupyter-widgets/controls",
            "_model_module_version": "1.5.0",
            "_view_count": null,
            "_view_module_version": "1.5.0",
            "box_style": "",
            "layout": "IPY_MODEL_f29f1cd6e80a4eb391d731e685dd4077",
            "_model_module": "@jupyter-widgets/controls",
            "children": [
              "IPY_MODEL_aa09d532569942939c25f38ab4f06614",
              "IPY_MODEL_9a64c2e0887c45f08ce2ddbc3f597c2f"
            ]
          }
        },
        "f29f1cd6e80a4eb391d731e685dd4077": {
          "model_module": "@jupyter-widgets/base",
          "model_name": "LayoutModel",
          "state": {
            "_view_name": "LayoutView",
            "grid_template_rows": null,
            "right": null,
            "justify_content": null,
            "_view_module": "@jupyter-widgets/base",
            "overflow": null,
            "_model_module_version": "1.2.0",
            "_view_count": null,
            "flex_flow": null,
            "width": null,
            "min_width": null,
            "border": null,
            "align_items": null,
            "bottom": null,
            "_model_module": "@jupyter-widgets/base",
            "top": null,
            "grid_column": null,
            "overflow_y": null,
            "overflow_x": null,
            "grid_auto_flow": null,
            "grid_area": null,
            "grid_template_columns": null,
            "flex": null,
            "_model_name": "LayoutModel",
            "justify_items": null,
            "grid_row": null,
            "max_height": null,
            "align_content": null,
            "visibility": null,
            "align_self": null,
            "height": null,
            "min_height": null,
            "padding": null,
            "grid_auto_rows": null,
            "grid_gap": null,
            "max_width": null,
            "order": null,
            "_view_module_version": "1.2.0",
            "grid_template_areas": null,
            "object_position": null,
            "object_fit": null,
            "grid_auto_columns": null,
            "margin": null,
            "display": null,
            "left": null
          }
        },
        "aa09d532569942939c25f38ab4f06614": {
          "model_module": "@jupyter-widgets/controls",
          "model_name": "FloatProgressModel",
          "state": {
            "_view_name": "ProgressView",
            "style": "IPY_MODEL_e61569b33a41464d81d928d0e39d1c56",
            "_dom_classes": [],
            "description": "  6%",
            "_model_name": "FloatProgressModel",
            "bar_style": "",
            "max": 421,
            "_view_module": "@jupyter-widgets/controls",
            "_model_module_version": "1.5.0",
            "value": 27,
            "_view_count": null,
            "_view_module_version": "1.5.0",
            "orientation": "horizontal",
            "min": 0,
            "description_tooltip": null,
            "_model_module": "@jupyter-widgets/controls",
            "layout": "IPY_MODEL_9db701204fc4441993a09ce96b402697"
          }
        },
        "9a64c2e0887c45f08ce2ddbc3f597c2f": {
          "model_module": "@jupyter-widgets/controls",
          "model_name": "HTMLModel",
          "state": {
            "_view_name": "HTMLView",
            "style": "IPY_MODEL_2ae6be39ce794822b2cb3de767a4a28a",
            "_dom_classes": [],
            "description": "",
            "_model_name": "HTMLModel",
            "placeholder": "​",
            "_view_module": "@jupyter-widgets/controls",
            "_model_module_version": "1.5.0",
            "value": " 27/421 [00:05&lt;01:10,  5.57it/s, accuracy=0, lr=1e-5, train_loss=28.8]",
            "_view_count": null,
            "_view_module_version": "1.5.0",
            "description_tooltip": null,
            "_model_module": "@jupyter-widgets/controls",
            "layout": "IPY_MODEL_752e0d37cf75441c8c733ab816805369"
          }
        },
        "e61569b33a41464d81d928d0e39d1c56": {
          "model_module": "@jupyter-widgets/controls",
          "model_name": "ProgressStyleModel",
          "state": {
            "_view_name": "StyleView",
            "_model_name": "ProgressStyleModel",
            "description_width": "initial",
            "_view_module": "@jupyter-widgets/base",
            "_model_module_version": "1.5.0",
            "_view_count": null,
            "_view_module_version": "1.2.0",
            "bar_color": null,
            "_model_module": "@jupyter-widgets/controls"
          }
        },
        "9db701204fc4441993a09ce96b402697": {
          "model_module": "@jupyter-widgets/base",
          "model_name": "LayoutModel",
          "state": {
            "_view_name": "LayoutView",
            "grid_template_rows": null,
            "right": null,
            "justify_content": null,
            "_view_module": "@jupyter-widgets/base",
            "overflow": null,
            "_model_module_version": "1.2.0",
            "_view_count": null,
            "flex_flow": null,
            "width": null,
            "min_width": null,
            "border": null,
            "align_items": null,
            "bottom": null,
            "_model_module": "@jupyter-widgets/base",
            "top": null,
            "grid_column": null,
            "overflow_y": null,
            "overflow_x": null,
            "grid_auto_flow": null,
            "grid_area": null,
            "grid_template_columns": null,
            "flex": null,
            "_model_name": "LayoutModel",
            "justify_items": null,
            "grid_row": null,
            "max_height": null,
            "align_content": null,
            "visibility": null,
            "align_self": null,
            "height": null,
            "min_height": null,
            "padding": null,
            "grid_auto_rows": null,
            "grid_gap": null,
            "max_width": null,
            "order": null,
            "_view_module_version": "1.2.0",
            "grid_template_areas": null,
            "object_position": null,
            "object_fit": null,
            "grid_auto_columns": null,
            "margin": null,
            "display": null,
            "left": null
          }
        },
        "2ae6be39ce794822b2cb3de767a4a28a": {
          "model_module": "@jupyter-widgets/controls",
          "model_name": "DescriptionStyleModel",
          "state": {
            "_view_name": "StyleView",
            "_model_name": "DescriptionStyleModel",
            "description_width": "",
            "_view_module": "@jupyter-widgets/base",
            "_model_module_version": "1.5.0",
            "_view_count": null,
            "_view_module_version": "1.2.0",
            "_model_module": "@jupyter-widgets/controls"
          }
        },
        "752e0d37cf75441c8c733ab816805369": {
          "model_module": "@jupyter-widgets/base",
          "model_name": "LayoutModel",
          "state": {
            "_view_name": "LayoutView",
            "grid_template_rows": null,
            "right": null,
            "justify_content": null,
            "_view_module": "@jupyter-widgets/base",
            "overflow": null,
            "_model_module_version": "1.2.0",
            "_view_count": null,
            "flex_flow": null,
            "width": null,
            "min_width": null,
            "border": null,
            "align_items": null,
            "bottom": null,
            "_model_module": "@jupyter-widgets/base",
            "top": null,
            "grid_column": null,
            "overflow_y": null,
            "overflow_x": null,
            "grid_auto_flow": null,
            "grid_area": null,
            "grid_template_columns": null,
            "flex": null,
            "_model_name": "LayoutModel",
            "justify_items": null,
            "grid_row": null,
            "max_height": null,
            "align_content": null,
            "visibility": null,
            "align_self": null,
            "height": null,
            "min_height": null,
            "padding": null,
            "grid_auto_rows": null,
            "grid_gap": null,
            "max_width": null,
            "order": null,
            "_view_module_version": "1.2.0",
            "grid_template_areas": null,
            "object_position": null,
            "object_fit": null,
            "grid_auto_columns": null,
            "margin": null,
            "display": null,
            "left": null
          }
        }
      }
    }
  },
  "cells": [
    {
      "cell_type": "markdown",
      "metadata": {
        "id": "view-in-github",
        "colab_type": "text"
      },
      "source": [
        "<a href=\"https://colab.research.google.com/github/greyhound101/shopee/blob/main/distilbert_0.ipynb\" target=\"_parent\"><img src=\"https://colab.research.google.com/assets/colab-badge.svg\" alt=\"Open In Colab\"/></a>"
      ]
    },
    {
      "cell_type": "code",
      "metadata": {
        "id": "m7KfToCYGyYR",
        "colab": {
          "base_uri": "https://localhost:8080/"
        },
        "outputId": "f359a16d-28a1-4a41-ce25-f5d2d1c50e24"
      },
      "source": [
        "from google.colab import drive\n",
        "drive.mount('/content/gdrive')\n",
        "drive.mount(\"/content/gdrive\", force_remount=True)"
      ],
      "execution_count": null,
      "outputs": [
        {
          "output_type": "stream",
          "text": [
            "Drive already mounted at /content/gdrive; to attempt to forcibly remount, call drive.mount(\"/content/gdrive\", force_remount=True).\n",
            "Mounted at /content/gdrive\n"
          ],
          "name": "stdout"
        }
      ]
    },
    {
      "cell_type": "code",
      "metadata": {
        "id": "3hn1M7WuHwgb",
        "colab": {
          "base_uri": "https://localhost:8080/",
          "height": 399
        },
        "outputId": "33ca078a-92cd-4490-bc0d-cbe37110c1bf"
      },
      "source": [
        ""
      ],
      "execution_count": null,
      "outputs": [
        {
          "output_type": "error",
          "ename": "ModuleNotFoundError",
          "evalue": "ignored",
          "traceback": [
            "\u001b[0;31m---------------------------------------------------------------------------\u001b[0m",
            "\u001b[0;31mModuleNotFoundError\u001b[0m                       Traceback (most recent call last)",
            "\u001b[0;32m<ipython-input-6-92eb4ef51459>\u001b[0m in \u001b[0;36m<module>\u001b[0;34m()\u001b[0m\n\u001b[1;32m     15\u001b[0m \u001b[0;32mfrom\u001b[0m \u001b[0msklearn\u001b[0m\u001b[0;34m.\u001b[0m\u001b[0mmodel_selection\u001b[0m \u001b[0;32mimport\u001b[0m \u001b[0mtrain_test_split\u001b[0m\u001b[0;34m\u001b[0m\u001b[0;34m\u001b[0m\u001b[0m\n\u001b[1;32m     16\u001b[0m \u001b[0;34m\u001b[0m\u001b[0m\n\u001b[0;32m---> 17\u001b[0;31m \u001b[0;32mimport\u001b[0m \u001b[0mtransformers\u001b[0m\u001b[0;34m\u001b[0m\u001b[0;34m\u001b[0m\u001b[0m\n\u001b[0m\u001b[1;32m     18\u001b[0m from transformers import (BertTokenizer, BertModel,\n\u001b[1;32m     19\u001b[0m                           DistilBertTokenizer, DistilBertModel)\n",
            "\u001b[0;31mModuleNotFoundError\u001b[0m: No module named 'transformers'",
            "",
            "\u001b[0;31m---------------------------------------------------------------------------\u001b[0;32m\nNOTE: If your import is failing due to a missing package, you can\nmanually install dependencies using either !pip or !apt.\n\nTo view examples of installing some common dependencies, click the\n\"Open Examples\" button below.\n\u001b[0;31m---------------------------------------------------------------------------\u001b[0m\n"
          ]
        }
      ]
    },
    {
      "cell_type": "code",
      "metadata": {
        "id": "6kCaPV9RHAP2"
      },
      "source": [
        "!wget --quiet https://raw.githubusercontent.com/tensorflow/models/master/official/nlp/bert/tokenization.py"
      ],
      "execution_count": null,
      "outputs": []
    },
    {
      "cell_type": "code",
      "metadata": {
        "colab": {
          "base_uri": "https://localhost:8080/"
        },
        "id": "po0WN3YiHNdH",
        "outputId": "f04dff6c-f3ea-40b5-93d5-0c6719fe6c6c"
      },
      "source": [
        "pip install sentencepiece"
      ],
      "execution_count": null,
      "outputs": [
        {
          "output_type": "stream",
          "text": [
            "Collecting sentencepiece\n",
            "\u001b[?25l  Downloading https://files.pythonhosted.org/packages/f5/99/e0808cb947ba10f575839c43e8fafc9cc44e4a7a2c8f79c60db48220a577/sentencepiece-0.1.95-cp37-cp37m-manylinux2014_x86_64.whl (1.2MB)\n",
            "\r\u001b[K     |▎                               | 10kB 20.9MB/s eta 0:00:01\r\u001b[K     |▌                               | 20kB 12.7MB/s eta 0:00:01\r\u001b[K     |▉                               | 30kB 9.3MB/s eta 0:00:01\r\u001b[K     |█                               | 40kB 4.9MB/s eta 0:00:01\r\u001b[K     |█▍                              | 51kB 6.0MB/s eta 0:00:01\r\u001b[K     |█▋                              | 61kB 7.1MB/s eta 0:00:01\r\u001b[K     |██                              | 71kB 7.0MB/s eta 0:00:01\r\u001b[K     |██▏                             | 81kB 7.8MB/s eta 0:00:01\r\u001b[K     |██▌                             | 92kB 7.7MB/s eta 0:00:01\r\u001b[K     |██▊                             | 102kB 7.7MB/s eta 0:00:01\r\u001b[K     |███                             | 112kB 7.7MB/s eta 0:00:01\r\u001b[K     |███▎                            | 122kB 7.7MB/s eta 0:00:01\r\u001b[K     |███▌                            | 133kB 7.7MB/s eta 0:00:01\r\u001b[K     |███▉                            | 143kB 7.7MB/s eta 0:00:01\r\u001b[K     |████                            | 153kB 7.7MB/s eta 0:00:01\r\u001b[K     |████▍                           | 163kB 7.7MB/s eta 0:00:01\r\u001b[K     |████▋                           | 174kB 7.7MB/s eta 0:00:01\r\u001b[K     |█████                           | 184kB 7.7MB/s eta 0:00:01\r\u001b[K     |█████▏                          | 194kB 7.7MB/s eta 0:00:01\r\u001b[K     |█████▌                          | 204kB 7.7MB/s eta 0:00:01\r\u001b[K     |█████▊                          | 215kB 7.7MB/s eta 0:00:01\r\u001b[K     |██████                          | 225kB 7.7MB/s eta 0:00:01\r\u001b[K     |██████▎                         | 235kB 7.7MB/s eta 0:00:01\r\u001b[K     |██████▌                         | 245kB 7.7MB/s eta 0:00:01\r\u001b[K     |██████▉                         | 256kB 7.7MB/s eta 0:00:01\r\u001b[K     |███████                         | 266kB 7.7MB/s eta 0:00:01\r\u001b[K     |███████▍                        | 276kB 7.7MB/s eta 0:00:01\r\u001b[K     |███████▋                        | 286kB 7.7MB/s eta 0:00:01\r\u001b[K     |████████                        | 296kB 7.7MB/s eta 0:00:01\r\u001b[K     |████████▏                       | 307kB 7.7MB/s eta 0:00:01\r\u001b[K     |████████▍                       | 317kB 7.7MB/s eta 0:00:01\r\u001b[K     |████████▊                       | 327kB 7.7MB/s eta 0:00:01\r\u001b[K     |█████████                       | 337kB 7.7MB/s eta 0:00:01\r\u001b[K     |█████████▎                      | 348kB 7.7MB/s eta 0:00:01\r\u001b[K     |█████████▌                      | 358kB 7.7MB/s eta 0:00:01\r\u001b[K     |█████████▉                      | 368kB 7.7MB/s eta 0:00:01\r\u001b[K     |██████████                      | 378kB 7.7MB/s eta 0:00:01\r\u001b[K     |██████████▍                     | 389kB 7.7MB/s eta 0:00:01\r\u001b[K     |██████████▋                     | 399kB 7.7MB/s eta 0:00:01\r\u001b[K     |███████████                     | 409kB 7.7MB/s eta 0:00:01\r\u001b[K     |███████████▏                    | 419kB 7.7MB/s eta 0:00:01\r\u001b[K     |███████████▍                    | 430kB 7.7MB/s eta 0:00:01\r\u001b[K     |███████████▊                    | 440kB 7.7MB/s eta 0:00:01\r\u001b[K     |████████████                    | 450kB 7.7MB/s eta 0:00:01\r\u001b[K     |████████████▎                   | 460kB 7.7MB/s eta 0:00:01\r\u001b[K     |████████████▌                   | 471kB 7.7MB/s eta 0:00:01\r\u001b[K     |████████████▉                   | 481kB 7.7MB/s eta 0:00:01\r\u001b[K     |█████████████                   | 491kB 7.7MB/s eta 0:00:01\r\u001b[K     |█████████████▍                  | 501kB 7.7MB/s eta 0:00:01\r\u001b[K     |█████████████▋                  | 512kB 7.7MB/s eta 0:00:01\r\u001b[K     |█████████████▉                  | 522kB 7.7MB/s eta 0:00:01\r\u001b[K     |██████████████▏                 | 532kB 7.7MB/s eta 0:00:01\r\u001b[K     |██████████████▍                 | 542kB 7.7MB/s eta 0:00:01\r\u001b[K     |██████████████▊                 | 552kB 7.7MB/s eta 0:00:01\r\u001b[K     |███████████████                 | 563kB 7.7MB/s eta 0:00:01\r\u001b[K     |███████████████▎                | 573kB 7.7MB/s eta 0:00:01\r\u001b[K     |███████████████▌                | 583kB 7.7MB/s eta 0:00:01\r\u001b[K     |███████████████▉                | 593kB 7.7MB/s eta 0:00:01\r\u001b[K     |████████████████                | 604kB 7.7MB/s eta 0:00:01\r\u001b[K     |████████████████▍               | 614kB 7.7MB/s eta 0:00:01\r\u001b[K     |████████████████▋               | 624kB 7.7MB/s eta 0:00:01\r\u001b[K     |████████████████▉               | 634kB 7.7MB/s eta 0:00:01\r\u001b[K     |█████████████████▏              | 645kB 7.7MB/s eta 0:00:01\r\u001b[K     |█████████████████▍              | 655kB 7.7MB/s eta 0:00:01\r\u001b[K     |█████████████████▊              | 665kB 7.7MB/s eta 0:00:01\r\u001b[K     |██████████████████              | 675kB 7.7MB/s eta 0:00:01\r\u001b[K     |██████████████████▎             | 686kB 7.7MB/s eta 0:00:01\r\u001b[K     |██████████████████▌             | 696kB 7.7MB/s eta 0:00:01\r\u001b[K     |██████████████████▉             | 706kB 7.7MB/s eta 0:00:01\r\u001b[K     |███████████████████             | 716kB 7.7MB/s eta 0:00:01\r\u001b[K     |███████████████████▎            | 727kB 7.7MB/s eta 0:00:01\r\u001b[K     |███████████████████▋            | 737kB 7.7MB/s eta 0:00:01\r\u001b[K     |███████████████████▉            | 747kB 7.7MB/s eta 0:00:01\r\u001b[K     |████████████████████▏           | 757kB 7.7MB/s eta 0:00:01\r\u001b[K     |████████████████████▍           | 768kB 7.7MB/s eta 0:00:01\r\u001b[K     |████████████████████▊           | 778kB 7.7MB/s eta 0:00:01\r\u001b[K     |█████████████████████           | 788kB 7.7MB/s eta 0:00:01\r\u001b[K     |█████████████████████▎          | 798kB 7.7MB/s eta 0:00:01\r\u001b[K     |█████████████████████▌          | 808kB 7.7MB/s eta 0:00:01\r\u001b[K     |█████████████████████▉          | 819kB 7.7MB/s eta 0:00:01\r\u001b[K     |██████████████████████          | 829kB 7.7MB/s eta 0:00:01\r\u001b[K     |██████████████████████▎         | 839kB 7.7MB/s eta 0:00:01\r\u001b[K     |██████████████████████▋         | 849kB 7.7MB/s eta 0:00:01\r\u001b[K     |██████████████████████▉         | 860kB 7.7MB/s eta 0:00:01\r\u001b[K     |███████████████████████▏        | 870kB 7.7MB/s eta 0:00:01\r\u001b[K     |███████████████████████▍        | 880kB 7.7MB/s eta 0:00:01\r\u001b[K     |███████████████████████▊        | 890kB 7.7MB/s eta 0:00:01\r\u001b[K     |████████████████████████        | 901kB 7.7MB/s eta 0:00:01\r\u001b[K     |████████████████████████▎       | 911kB 7.7MB/s eta 0:00:01\r\u001b[K     |████████████████████████▌       | 921kB 7.7MB/s eta 0:00:01\r\u001b[K     |████████████████████████▊       | 931kB 7.7MB/s eta 0:00:01\r\u001b[K     |█████████████████████████       | 942kB 7.7MB/s eta 0:00:01\r\u001b[K     |█████████████████████████▎      | 952kB 7.7MB/s eta 0:00:01\r\u001b[K     |█████████████████████████▋      | 962kB 7.7MB/s eta 0:00:01\r\u001b[K     |█████████████████████████▉      | 972kB 7.7MB/s eta 0:00:01\r\u001b[K     |██████████████████████████▏     | 983kB 7.7MB/s eta 0:00:01\r\u001b[K     |██████████████████████████▍     | 993kB 7.7MB/s eta 0:00:01\r\u001b[K     |██████████████████████████▊     | 1.0MB 7.7MB/s eta 0:00:01\r\u001b[K     |███████████████████████████     | 1.0MB 7.7MB/s eta 0:00:01\r\u001b[K     |███████████████████████████▎    | 1.0MB 7.7MB/s eta 0:00:01\r\u001b[K     |███████████████████████████▌    | 1.0MB 7.7MB/s eta 0:00:01\r\u001b[K     |███████████████████████████▊    | 1.0MB 7.7MB/s eta 0:00:01\r\u001b[K     |████████████████████████████    | 1.1MB 7.7MB/s eta 0:00:01\r\u001b[K     |████████████████████████████▎   | 1.1MB 7.7MB/s eta 0:00:01\r\u001b[K     |████████████████████████████▋   | 1.1MB 7.7MB/s eta 0:00:01\r\u001b[K     |████████████████████████████▉   | 1.1MB 7.7MB/s eta 0:00:01\r\u001b[K     |█████████████████████████████▏  | 1.1MB 7.7MB/s eta 0:00:01\r\u001b[K     |█████████████████████████████▍  | 1.1MB 7.7MB/s eta 0:00:01\r\u001b[K     |█████████████████████████████▊  | 1.1MB 7.7MB/s eta 0:00:01\r\u001b[K     |██████████████████████████████  | 1.1MB 7.7MB/s eta 0:00:01\r\u001b[K     |██████████████████████████████▏ | 1.1MB 7.7MB/s eta 0:00:01\r\u001b[K     |██████████████████████████████▌ | 1.1MB 7.7MB/s eta 0:00:01\r\u001b[K     |██████████████████████████████▊ | 1.2MB 7.7MB/s eta 0:00:01\r\u001b[K     |███████████████████████████████ | 1.2MB 7.7MB/s eta 0:00:01\r\u001b[K     |███████████████████████████████▎| 1.2MB 7.7MB/s eta 0:00:01\r\u001b[K     |███████████████████████████████▋| 1.2MB 7.7MB/s eta 0:00:01\r\u001b[K     |███████████████████████████████▉| 1.2MB 7.7MB/s eta 0:00:01\r\u001b[K     |████████████████████████████████| 1.2MB 7.7MB/s \n",
            "\u001b[?25hInstalling collected packages: sentencepiece\n",
            "Successfully installed sentencepiece-0.1.95\n"
          ],
          "name": "stdout"
        }
      ]
    },
    {
      "cell_type": "code",
      "metadata": {
        "colab": {
          "base_uri": "https://localhost:8080/"
        },
        "id": "gl9DbM0ii38I",
        "outputId": "20a87c74-2ca1-4cee-ddec-78c47bff0439"
      },
      "source": [
        "pip install transformers"
      ],
      "execution_count": null,
      "outputs": [
        {
          "output_type": "stream",
          "text": [
            "Collecting transformers\n",
            "\u001b[?25l  Downloading https://files.pythonhosted.org/packages/d8/b2/57495b5309f09fa501866e225c84532d1fd89536ea62406b2181933fb418/transformers-4.5.1-py3-none-any.whl (2.1MB)\n",
            "\u001b[K     |████████████████████████████████| 2.1MB 7.7MB/s \n",
            "\u001b[?25hRequirement already satisfied: tqdm>=4.27 in /usr/local/lib/python3.7/dist-packages (from transformers) (4.41.1)\n",
            "Collecting sacremoses\n",
            "\u001b[?25l  Downloading https://files.pythonhosted.org/packages/75/ee/67241dc87f266093c533a2d4d3d69438e57d7a90abb216fa076e7d475d4a/sacremoses-0.0.45-py3-none-any.whl (895kB)\n",
            "\u001b[K     |████████████████████████████████| 901kB 41.8MB/s \n",
            "\u001b[?25hRequirement already satisfied: importlib-metadata; python_version < \"3.8\" in /usr/local/lib/python3.7/dist-packages (from transformers) (3.10.1)\n",
            "Collecting tokenizers<0.11,>=0.10.1\n",
            "\u001b[?25l  Downloading https://files.pythonhosted.org/packages/ae/04/5b870f26a858552025a62f1649c20d29d2672c02ff3c3fb4c688ca46467a/tokenizers-0.10.2-cp37-cp37m-manylinux2010_x86_64.whl (3.3MB)\n",
            "\u001b[K     |████████████████████████████████| 3.3MB 51.3MB/s \n",
            "\u001b[?25hRequirement already satisfied: numpy>=1.17 in /usr/local/lib/python3.7/dist-packages (from transformers) (1.19.5)\n",
            "Requirement already satisfied: filelock in /usr/local/lib/python3.7/dist-packages (from transformers) (3.0.12)\n",
            "Requirement already satisfied: requests in /usr/local/lib/python3.7/dist-packages (from transformers) (2.23.0)\n",
            "Requirement already satisfied: regex!=2019.12.17 in /usr/local/lib/python3.7/dist-packages (from transformers) (2019.12.20)\n",
            "Requirement already satisfied: packaging in /usr/local/lib/python3.7/dist-packages (from transformers) (20.9)\n",
            "Requirement already satisfied: click in /usr/local/lib/python3.7/dist-packages (from sacremoses->transformers) (7.1.2)\n",
            "Requirement already satisfied: six in /usr/local/lib/python3.7/dist-packages (from sacremoses->transformers) (1.15.0)\n",
            "Requirement already satisfied: joblib in /usr/local/lib/python3.7/dist-packages (from sacremoses->transformers) (1.0.1)\n",
            "Requirement already satisfied: zipp>=0.5 in /usr/local/lib/python3.7/dist-packages (from importlib-metadata; python_version < \"3.8\"->transformers) (3.4.1)\n",
            "Requirement already satisfied: typing-extensions>=3.6.4; python_version < \"3.8\" in /usr/local/lib/python3.7/dist-packages (from importlib-metadata; python_version < \"3.8\"->transformers) (3.7.4.3)\n",
            "Requirement already satisfied: idna<3,>=2.5 in /usr/local/lib/python3.7/dist-packages (from requests->transformers) (2.10)\n",
            "Requirement already satisfied: certifi>=2017.4.17 in /usr/local/lib/python3.7/dist-packages (from requests->transformers) (2020.12.5)\n",
            "Requirement already satisfied: chardet<4,>=3.0.2 in /usr/local/lib/python3.7/dist-packages (from requests->transformers) (3.0.4)\n",
            "Requirement already satisfied: urllib3!=1.25.0,!=1.25.1,<1.26,>=1.21.1 in /usr/local/lib/python3.7/dist-packages (from requests->transformers) (1.24.3)\n",
            "Requirement already satisfied: pyparsing>=2.0.2 in /usr/local/lib/python3.7/dist-packages (from packaging->transformers) (2.4.7)\n",
            "Installing collected packages: sacremoses, tokenizers, transformers\n",
            "Successfully installed sacremoses-0.0.45 tokenizers-0.10.2 transformers-4.5.1\n"
          ],
          "name": "stdout"
        }
      ]
    },
    {
      "cell_type": "code",
      "metadata": {
        "id": "l-2z5qQLHISL"
      },
      "source": [
        "import tokenization"
      ],
      "execution_count": null,
      "outputs": []
    },
    {
      "cell_type": "code",
      "metadata": {
        "id": "UU6IGKX2i1ow"
      },
      "source": [
        "import os\n",
        "import copy\n",
        "import math\n",
        "import pandas as pd\n",
        "import numpy as np\n",
        "from tqdm.autonotebook import tqdm\n",
        "import matplotlib.pyplot as plt\n",
        "import gc\n",
        "import torch\n",
        "import torch.nn as nn\n",
        "import torch.nn.functional as F\n",
        "\n",
        "from sklearn.preprocessing import LabelEncoder\n",
        "from sklearn.model_selection import train_test_split\n",
        "\n",
        "import transformers\n",
        "from transformers import (BertTokenizer, BertModel,\n",
        "                          DistilBertTokenizer, DistilBertModel)"
      ],
      "execution_count": null,
      "outputs": []
    },
    {
      "cell_type": "code",
      "metadata": {
        "id": "kVa2qhnKHKkM"
      },
      "source": [
        "import tensorflow_hub as hub\n",
        "def seed_everything(seed):\n",
        "    random.seed(seed)\n",
        "    np.random.seed(seed)\n",
        "    os.environ['PYTHONHASHSEED'] = str(seed)\n",
        "    tf.random.set_seed(seed)\n",
        "    \n",
        "# def read_and_preprocess():\n",
        "#     df = pd.read_csv('/content/gdrive/My Drive/shopee/train.csv.zip')\n",
        "#     tmp = df.groupby(['label_group'])['posting_id'].unique().to_dict()\n",
        "#     df['matches'] = df['label_group'].map(tmp)\n",
        "#     df['matches'] = df['matches'].apply(lambda x: ' '.join(x))\n",
        "#     encoder = LabelEncoder()\n",
        "#     df['label_group'] = encoder.fit_transform(df['label_group'])\n",
        "#     N_CLASSES = df['label_group'].nunique()\n",
        "#     print(f'We have {N_CLASSES} classes')\n",
        "#     x_train, x_val, y_train, y_val = train_test_split(df[['title']], df['label_group'], shuffle = True, stratify = df['label_group'], random_state = SEED, test_size = 0.33)\n",
        "#     return df, N_CLASSES, x_train, x_val, y_train, y_val\n",
        "\n",
        "\n",
        "\n",
        "import numpy as np\n",
        "import pandas as pd\n",
        "from sklearn.preprocessing import *\n",
        "def fold(idx,train):\n",
        "    a=np.load( '/content/gdrive/My Drive/shopee/train_'+str(idx)+'.npy')\n",
        "    df=pd.read_csv('/content/gdrive/My Drive/shopee/train.csv')\n",
        "    le=LabelEncoder()\n",
        "    df['label_group']=le.fit_transform(df['label_group'])\n",
        "    train['label_group']=le.fit_transform(train['label_group'])\n",
        "    df=df.drop_duplicates('label_group').reset_index(drop=True)\n",
        "    return train.loc[train['label_group'].isin(list(df.loc[a]['label_group'].values))].reset_index(drop=True),train.loc[~train['label_group'].isin(list(df.loc[a]['label_group'].values))].reset_index(drop=True)\n",
        "df=pd.read_csv('/content/gdrive/My Drive/shopee/train.csv')\n",
        "train,test=fold(0,df)\n",
        "\n"
      ],
      "execution_count": null,
      "outputs": []
    },
    {
      "cell_type": "code",
      "metadata": {
        "id": "d5Vrm2UKji9B"
      },
      "source": [
        "class CFG:\n",
        "    DistilBERT = True # if set to False, BERT model will be used\n",
        "    bert_hidden_size = 768\n",
        "    \n",
        "    batch_size = 64\n",
        "    epochs = 30\n",
        "    num_workers = 2\n",
        "    learning_rate = 1e-5 #3e-5\n",
        "    scheduler = \"ReduceLROnPlateau\"\n",
        "    step = 'epoch'\n",
        "    patience = 2\n",
        "    factor = 0.8\n",
        "    dropout = 0.5\n",
        "    model_path = \"/kaggle/working\"\n",
        "    max_length = 30\n",
        "    model_save_name = \"model.pt\"\n",
        "    device = torch.device(\"cuda\" if torch.cuda.is_available() else 'cpu')"
      ],
      "execution_count": null,
      "outputs": []
    },
    {
      "cell_type": "code",
      "metadata": {
        "colab": {
          "base_uri": "https://localhost:8080/",
          "height": 270,
          "referenced_widgets": [
            "f626a380ed974a72916f7fbe445ae8f8",
            "659185fd2e0a4d5d8618adda01fa73ca",
            "03d49bf57ad744aca286d983de350831",
            "79ef61e7873343f2a63c901aae85f386",
            "1fedabb452cb42d6848ab663db198c91",
            "a1405b536e9f4fe7a580db9be8e6001e",
            "431a1757cad045bc94b8c13527d62dac",
            "e9075ffbd3f844d68c7535fcb7aebcc6",
            "79030f794c1e4ed2b4f1f8de819fe1c9",
            "1d6ec8feaf2048a78f082e611426ee2a",
            "1237651c1c95484f9444618540cd19d0",
            "fa314186e7944952ad9dd45aaed0f9fa",
            "b92c3c70dc704a8bb1396523a9100a32",
            "9b3c9f9bd61746d782a2a922f7ac38f1",
            "daa12c5775394f1394156f09237fa2f0",
            "cd3547ddb8a34449968c14f8582a7e99",
            "8474ccc8f20a4402b133c0fe0e6e00a4",
            "dcb1ff17367d48bdb6615fb4fecebe8d",
            "861545ee48d54c83a9b3e967517c10f7",
            "795c7518c40942939cbaff62fa03b374",
            "ae450592bce94dfcba0443118cdf1f59",
            "61dcfd02cac5463cb08a7dc2b9aee5d5",
            "d62e059aec0e418199146dcd26d06345",
            "48581a9793864c3bb669e955f265d62d",
            "bce4fd25788c4c7a986b9d5d84d89de8",
            "1eeb45b3be304c428eec774753a0b7b1",
            "2fc23c1d9d0c44209a14c2e84048e808",
            "80871a1dfa884ee984565f022ec39e39",
            "17fba80b528b41808fa34650173422b5",
            "e649eb71ca264659a29f70d71aef4d62",
            "512ed537c9a94109ac88c335aaf76c9e",
            "185931b6f79a4827b98fab8c650fabb6",
            "d394eeef99f24672814e5278ac5777a5",
            "3695ec54e40a49b49510521b4f516d71",
            "76f04ad00975413ca6865513cb1cb5f4",
            "ef74575186e447b1806baac85f60610e",
            "b26a6f19b5c946ada7610563586d3720",
            "b06e729833ff401bb1d105ddc6eed2e4",
            "28aa9041e35c48678636bf2993ef673d",
            "e43826ebcb8b4f35a768a5bc1a61aaf8"
          ]
        },
        "id": "Rh0SSXj2gxzk",
        "outputId": "14d72534-0e19-42c0-80de-24e827c5dedf"
      },
      "source": [
        "if CFG.DistilBERT:\n",
        "    model_name='cahya/distilbert-base-indonesian'\n",
        "    tokenizer = DistilBertTokenizer.from_pretrained(model_name)\n",
        "    bert_model = DistilBertModel.from_pretrained(model_name)\n",
        "else:\n",
        "    model_name='cahya/bert-base-indonesian-522M'\n",
        "    tokenizer = BertTokenizer.from_pretrained(model_name)\n",
        "    bert_model = BertModel.from_pretrained(model_name)"
      ],
      "execution_count": null,
      "outputs": [
        {
          "output_type": "display_data",
          "data": {
            "application/vnd.jupyter.widget-view+json": {
              "model_id": "f626a380ed974a72916f7fbe445ae8f8",
              "version_minor": 0,
              "version_major": 2
            },
            "text/plain": [
              "HBox(children=(FloatProgress(value=0.0, description='Downloading', max=229513.0, style=ProgressStyle(descripti…"
            ]
          },
          "metadata": {
            "tags": []
          }
        },
        {
          "output_type": "stream",
          "text": [
            "\n"
          ],
          "name": "stdout"
        },
        {
          "output_type": "display_data",
          "data": {
            "application/vnd.jupyter.widget-view+json": {
              "model_id": "79030f794c1e4ed2b4f1f8de819fe1c9",
              "version_minor": 0,
              "version_major": 2
            },
            "text/plain": [
              "HBox(children=(FloatProgress(value=0.0, description='Downloading', max=112.0, style=ProgressStyle(description_…"
            ]
          },
          "metadata": {
            "tags": []
          }
        },
        {
          "output_type": "stream",
          "text": [
            "\n"
          ],
          "name": "stdout"
        },
        {
          "output_type": "display_data",
          "data": {
            "application/vnd.jupyter.widget-view+json": {
              "model_id": "8474ccc8f20a4402b133c0fe0e6e00a4",
              "version_minor": 0,
              "version_major": 2
            },
            "text/plain": [
              "HBox(children=(FloatProgress(value=0.0, description='Downloading', max=62.0, style=ProgressStyle(description_w…"
            ]
          },
          "metadata": {
            "tags": []
          }
        },
        {
          "output_type": "stream",
          "text": [
            "\n"
          ],
          "name": "stdout"
        },
        {
          "output_type": "display_data",
          "data": {
            "application/vnd.jupyter.widget-view+json": {
              "model_id": "bce4fd25788c4c7a986b9d5d84d89de8",
              "version_minor": 0,
              "version_major": 2
            },
            "text/plain": [
              "HBox(children=(FloatProgress(value=0.0, description='Downloading', max=473.0, style=ProgressStyle(description_…"
            ]
          },
          "metadata": {
            "tags": []
          }
        },
        {
          "output_type": "stream",
          "text": [
            "\n"
          ],
          "name": "stdout"
        },
        {
          "output_type": "display_data",
          "data": {
            "application/vnd.jupyter.widget-view+json": {
              "model_id": "d394eeef99f24672814e5278ac5777a5",
              "version_minor": 0,
              "version_major": 2
            },
            "text/plain": [
              "HBox(children=(FloatProgress(value=0.0, description='Downloading', max=272513919.0, style=ProgressStyle(descri…"
            ]
          },
          "metadata": {
            "tags": []
          }
        },
        {
          "output_type": "stream",
          "text": [
            "\n"
          ],
          "name": "stdout"
        }
      ]
    },
    {
      "cell_type": "code",
      "metadata": {
        "colab": {
          "base_uri": "https://localhost:8080/"
        },
        "id": "PoCoqV4lgxwh",
        "outputId": "2e3ea9d5-d1dc-4993-a303-4ff7f2b85697"
      },
      "source": [
        "text = train['title'].values[np.random.randint(0, len(train) - 1, 1)[0]]\n",
        "print(f\"Text of the title: {text}\")\n",
        "encoded_input = tokenizer(text, return_tensors='pt')\n",
        "print(f\"Input tokens: {encoded_input['input_ids']}\")\n",
        "decoded_input = tokenizer.decode(encoded_input['input_ids'][0])\n",
        "print(f\"Decoded tokens: {decoded_input}\")\n",
        "output = bert_model(**encoded_input)\n",
        "print(f\"last layer's output shape: {output.last_hidden_state.shape}\")"
      ],
      "execution_count": null,
      "outputs": [
        {
          "output_type": "stream",
          "text": [
            "Text of the title: Masker Motif Kotak \"BALI\"\n",
            "Input tokens: tensor([[    3, 25713,  8223,  7430,     6,  4019,     6,     1]])\n",
            "Decoded tokens: [CLS] masker motif kotak \" bali \" [SEP]\n",
            "last layer's output shape: torch.Size([1, 8, 768])\n"
          ],
          "name": "stdout"
        }
      ]
    },
    {
      "cell_type": "code",
      "metadata": {
        "id": "Nw3UmbKIgxt8"
      },
      "source": [
        "\n",
        "\n",
        "lbl_encoder = LabelEncoder()\n",
        "train['label_code'] = lbl_encoder.fit_transform(train['label_group'])\n",
        "NUM_CLASSES = train['label_code'].nunique()\n",
        "\n"
      ],
      "execution_count": null,
      "outputs": []
    },
    {
      "cell_type": "code",
      "metadata": {
        "id": "7ZuOqRZ0g3pc"
      },
      "source": [
        "\n",
        "lbl_encoder = LabelEncoder()\n",
        "test['label_code'] = lbl_encoder.fit_transform(test['label_group'])\n",
        "\n"
      ],
      "execution_count": null,
      "outputs": []
    },
    {
      "cell_type": "code",
      "metadata": {
        "colab": {
          "base_uri": "https://localhost:8080/"
        },
        "id": "QRN_JriMg3mY",
        "outputId": "213cd614-7cf2-4fc0-f0ad-8c5e64428d60"
      },
      "source": [
        "class TextDataset(torch.utils.data.Dataset):\n",
        "    def __init__(self, dataframe, tokenizer, mode=\"train\", max_length=None):\n",
        "        self.dataframe = dataframe\n",
        "        if mode != \"test\":\n",
        "            self.targets = dataframe['label_code'].values\n",
        "        texts = list(dataframe['title'].apply(lambda o: str(o)).values)\n",
        "        self.encodings = tokenizer(texts, \n",
        "                                   padding=True, \n",
        "                                   truncation=True, \n",
        "                                   max_length=max_length)\n",
        "        self.mode = mode\n",
        "        \n",
        "        \n",
        "    def __getitem__(self, idx):\n",
        "        item = {key: torch.tensor(values[idx]) for key, values in self.encodings.items()}\n",
        "        if self.mode != \"test\":\n",
        "            item['labels'] = torch.tensor(self.targets[idx]).long()\n",
        "        return item\n",
        "    \n",
        "    def __len__(self):\n",
        "        return len(self.dataframe)\n",
        "dataset = TextDataset(train.sample(1000), tokenizer, max_length=CFG.max_length)\n",
        "dataloader = torch.utils.data.DataLoader(dataset, \n",
        "                                         batch_size=CFG.batch_size, \n",
        "                                         num_workers=CFG.num_workers, \n",
        "                                         shuffle=True)\n",
        "batch = next(iter(dataloader))\n",
        "print(batch['input_ids'].shape, batch['labels'].shape)"
      ],
      "execution_count": null,
      "outputs": [
        {
          "output_type": "stream",
          "text": [
            "/usr/local/lib/python3.7/dist-packages/torch/utils/data/dataloader.py:477: UserWarning: This DataLoader will create 4 worker processes in total. Our suggested max number of worker in current system is 2, which is smaller than what this DataLoader is going to create. Please be aware that excessive worker creation might get DataLoader running slow or even freeze, lower the worker number to avoid potential slowness/freeze if necessary.\n",
            "  cpuset_checked))\n"
          ],
          "name": "stderr"
        },
        {
          "output_type": "stream",
          "text": [
            "torch.Size([64, 30]) torch.Size([64])\n"
          ],
          "name": "stdout"
        }
      ]
    },
    {
      "cell_type": "code",
      "metadata": {
        "colab": {
          "base_uri": "https://localhost:8080/"
        },
        "id": "Z3_jlmfAg3jt",
        "outputId": "bee35883-5f05-44af-f5ca-9a3b7817eee9"
      },
      "source": [
        "dataset = TextDataset(train.sample(1000), tokenizer, max_length=CFG.max_length)\n",
        "dataloader = torch.utils.data.DataLoader(dataset, \n",
        "                                         batch_size=CFG.batch_size, \n",
        "                                         num_workers=CFG.num_workers, \n",
        "                                         shuffle=True)\n",
        "batch = next(iter(dataloader))\n",
        "print(batch['input_ids'].shape, batch['labels'].shape)"
      ],
      "execution_count": null,
      "outputs": [
        {
          "output_type": "stream",
          "text": [
            "/usr/local/lib/python3.7/dist-packages/torch/utils/data/dataloader.py:477: UserWarning: This DataLoader will create 4 worker processes in total. Our suggested max number of worker in current system is 2, which is smaller than what this DataLoader is going to create. Please be aware that excessive worker creation might get DataLoader running slow or even freeze, lower the worker number to avoid potential slowness/freeze if necessary.\n",
            "  cpuset_checked))\n"
          ],
          "name": "stderr"
        },
        {
          "output_type": "stream",
          "text": [
            "torch.Size([64, 30]) torch.Size([64])\n"
          ],
          "name": "stdout"
        }
      ]
    },
    {
      "cell_type": "code",
      "metadata": {
        "colab": {
          "base_uri": "https://localhost:8080/",
          "height": 232,
          "referenced_widgets": [
            "93443aff151a43e78484b52db2bedd9e",
            "c8956981ee1a4955a9e545c2ddd7cdb2",
            "23510497a05846d89b1d07cffc35f830",
            "6314fb94efe34018bd94bf47b754c981",
            "979e4b85340e4bd5bef65656e65aad18",
            "e07df277f6ac4cdc8f957f7dd3fd1ef4",
            "57b61d54ce384b76bcb617166af4b1b7",
            "cc90f43e070b43e4b133e59087719c24",
            "36f96c96bd6748dfacf4543d6c9d4272",
            "f29f1cd6e80a4eb391d731e685dd4077",
            "aa09d532569942939c25f38ab4f06614",
            "9a64c2e0887c45f08ce2ddbc3f597c2f",
            "e61569b33a41464d81d928d0e39d1c56",
            "9db701204fc4441993a09ce96b402697",
            "2ae6be39ce794822b2cb3de767a4a28a",
            "752e0d37cf75441c8c733ab816805369"
          ]
        },
        "id": "fTruEtBog3gj",
        "outputId": "4973b44f-4e4a-4ec2-a37a-0d674b749d01"
      },
      "source": [
        "def f1_score(y_true, y_pred):\n",
        "    y_true = y_true.apply(lambda x: set(x.split()))\n",
        "    y_pred = y_pred.apply(lambda x: set(x.split()))\n",
        "    intersection = np.array([len(x[0] & x[1]) for x in zip(y_true, y_pred)])\n",
        "    len_y_pred = y_pred.apply(lambda x: len(x)).values\n",
        "    len_y_true = y_true.apply(lambda x: len(x)).values\n",
        "    f1 = 2 * intersection / (len_y_pred + len_y_true)\n",
        "    return f1\n",
        "\n",
        "class ArcMarginProduct(nn.Module):\n",
        "    r\"\"\"Implement of large margin arc distance: :\n",
        "        Args:\n",
        "            in_features: size of each input sample\n",
        "            out_features: size of each output sample\n",
        "            s: norm of input feature\n",
        "            m: margin\n",
        "            cos(theta + m)\n",
        "        \"\"\"\n",
        "    def __init__(self, in_features, out_features, s=30.0, m=0.50, easy_margin=False):\n",
        "        super(ArcMarginProduct, self).__init__()\n",
        "        self.in_features = in_features\n",
        "        self.out_features = out_features\n",
        "        self.s = s\n",
        "        self.m = m\n",
        "        self.weight = nn.Parameter(torch.FloatTensor(out_features, in_features))\n",
        "        nn.init.xavier_uniform_(self.weight)\n",
        "\n",
        "        self.easy_margin = easy_margin\n",
        "        self.cos_m = math.cos(m)\n",
        "        self.sin_m = math.sin(m)\n",
        "        self.th = math.cos(math.pi - m)\n",
        "        self.mm = math.sin(math.pi - m) * m\n",
        "\n",
        "    def forward(self, input, label):\n",
        "        # --------------------------- cos(theta) & phi(theta) ---------------------------\n",
        "        cosine = F.linear(F.normalize(input), F.normalize(self.weight))\n",
        "        sine = torch.sqrt((1.0 - torch.pow(cosine, 2)).clamp(0, 1))\n",
        "        phi = cosine * self.cos_m - sine * self.sin_m\n",
        "        if self.easy_margin:\n",
        "            phi = torch.where(cosine > 0, phi, cosine)\n",
        "        else:\n",
        "            phi = torch.where(cosine > self.th, phi, cosine - self.mm)\n",
        "        # --------------------------- convert label to one-hot ---------------------------\n",
        "        # one_hot = torch.zeros(cosine.size(), requires_grad=True, device='cuda')\n",
        "        one_hot = torch.zeros(cosine.size(), device=CFG.device)\n",
        "        one_hot.scatter_(1, label.view(-1, 1).long(), 1)\n",
        "        # -------------torch.where(out_i = {x_i if condition_i else y_i) -------------\n",
        "        output = (one_hot * phi) + ((1.0 - one_hot) * cosine)  # you can use torch.where if your torch.__version__ is 0.4\n",
        "        output *= self.s\n",
        "        # print(output)\n",
        "\n",
        "        return output\n",
        "class Model(nn.Module):\n",
        "    def __init__(self, \n",
        "                 bert_model, \n",
        "                 num_classes=NUM_CLASSES, \n",
        "                 last_hidden_size=CFG.bert_hidden_size):\n",
        "        \n",
        "        super().__init__()\n",
        "        self.bert_model = bert_model\n",
        "        self.arc_margin = ArcMarginProduct(256, \n",
        "                                           num_classes, \n",
        "                                           s=30.0, \n",
        "                                           m=0.70, \n",
        "                                           easy_margin=False)\n",
        "    \n",
        "        self.dropout = nn.Dropout(p=0.3)\n",
        "        self.fc = nn.Linear(768,256)\n",
        "        self.bn = nn.BatchNorm1d(256)\n",
        "    def get_bert_features(self, batch):\n",
        "        output = self.bert_model(input_ids=batch['input_ids'], attention_mask=batch['attention_mask'])\n",
        "        last_hidden_state = output.last_hidden_state # shape: (batch_size, seq_length, bert_hidden_dim)\n",
        "        CLS_token_state = last_hidden_state[:, 0, :] # obtaining CLS token state which is the first token.\n",
        "        return CLS_token_state\n",
        "    \n",
        "    def forward(self, batch):\n",
        "        CLS_hidden_state = self.get_bert_features(batch)\n",
        "        x = self.dropout(CLS_hidden_state)\n",
        "        x = self.fc(x)\n",
        "        x = self.bn(x)\n",
        "        output = self.arc_margin(x, batch['labels'])\n",
        "        return output,CLS_hidden_state\n",
        "class AvgMeter:\n",
        "    def __init__(self, name=\"Metric\"):\n",
        "        self.name = name\n",
        "        self.reset()\n",
        "    \n",
        "    def reset(self):\n",
        "        self.avg, self.sum, self.count = [0]*3\n",
        "    \n",
        "    def update(self, val, count=1):\n",
        "        self.count += count\n",
        "        self.sum += val * count\n",
        "        self.avg = self.sum / self.count\n",
        "    \n",
        "    def __repr__(self):\n",
        "        text = f\"{self.name}: {self.avg:.4f}\"\n",
        "        return text\n",
        "\n",
        "def one_epoch(model, \n",
        "              criterion, \n",
        "              loader,\n",
        "              optimizer=None, \n",
        "              lr_scheduler=None, \n",
        "              mode=\"train\", \n",
        "              step=\"batch\"):\n",
        "    \n",
        "    loss_meter = AvgMeter()\n",
        "    acc_meter = AvgMeter()\n",
        "    \n",
        "    tqdm_object = tqdm(loader, total=len(loader))\n",
        "    for batch in tqdm_object:\n",
        "        batch = {k: v.to(CFG.device) for k, v in batch.items()}\n",
        "        preds,_ = model(batch)\n",
        "        loss = criterion(preds, batch['labels'])\n",
        "        if mode == \"train\":\n",
        "            optimizer.zero_grad()\n",
        "            loss.backward()\n",
        "            optimizer.step()\n",
        "            if step == \"batch\":\n",
        "                lr_scheduler.step()\n",
        "                \n",
        "        count = batch['input_ids'].size(0)\n",
        "        loss_meter.update(loss.item(), count)\n",
        "        \n",
        "        accuracy = get_accuracy(preds.detach(), batch['labels'])\n",
        "        acc_meter.update(accuracy.item(), count)\n",
        "        if mode == \"train\":\n",
        "            tqdm_object.set_postfix(train_loss=loss_meter.avg, accuracy=acc_meter.avg, lr=get_lr(optimizer))\n",
        "        else:\n",
        "            tqdm_object.set_postfix(valid_loss=loss_meter.avg, accuracy=acc_meter.avg)\n",
        "    \n",
        "    return loss_meter, acc_meter\n",
        "\n",
        "def get_lr(optimizer):\n",
        "    for param_group in optimizer.param_groups:\n",
        "        return param_group[\"lr\"]\n",
        "\n",
        "def get_accuracy(preds, targets):\n",
        "    \"\"\"\n",
        "    preds shape: (batch_size, num_labels)\n",
        "    targets shape: (batch_size)\n",
        "    \"\"\"\n",
        "    preds = preds.argmax(dim=1)\n",
        "    acc = (preds == targets).float().mean()\n",
        "    return acc\n",
        "def train_eval(epochs, model, train_loader,test,\n",
        "               criterion, optimizer, lr_scheduler=None):\n",
        "    \n",
        "    best_loss = float('inf')\n",
        "    best_model_weights = copy.deepcopy(model.state_dict())\n",
        "    best_val=0\n",
        "    best_epoch=0\n",
        "    for epoch in range(epochs):\n",
        "        print(\"*\" * 30)\n",
        "        print(f\"Epoch {epoch + 1}\")\n",
        "        current_lr = get_lr(optimizer)\n",
        "        \n",
        "        model.train()\n",
        "        train_loss, train_acc = one_epoch(model, \n",
        "                                          criterion, \n",
        "                                          train_loader, \n",
        "                                          optimizer=optimizer,\n",
        "                                          lr_scheduler=lr_scheduler,\n",
        "                                          mode=\"train\",\n",
        "                                          step=CFG.step)   \n",
        "#         if epoch%5==0:\n",
        "#             image_embeddings = []\n",
        "#             tqdm_object = tqdm(valid_loader, total=len(valid_loader))\n",
        "#             for batch in tqdm_object:\n",
        "#                 batch = {k: v.to(CFG.device) for k, v in batch.items()}\n",
        "#                 image_embeddings.append(bert_model(input_ids=batch['input_ids'], attention_mask=batch['attention_mask']).last_hidden_state[:,0,:].detach().cpu())\n",
        "        \n",
        "#             image_embeddings=torch.cat(image_embeddings).numpy()\n",
        "#             KNN=50\n",
        "#             knn = NearestNeighbors(n_neighbors = KNN,metric='cosine')\n",
        "#             knn.fit(image_embeddings)\n",
        "#             distances, indices = knn.kneighbors(image_embeddings)\n",
        "    \n",
        "#             thresholds = list(np.arange(0,1.0, 0.01))\n",
        "#             scores = []\n",
        "#             best_s=0\n",
        "#             best_e=0\n",
        "#             best_t=0\n",
        "#             for en,threshold in enumerate(thresholds):\n",
        "#                 predictions = []\n",
        "#                 for k in range(image_embeddings.shape[0]):\n",
        "#                     idx = np.where(distances[k,] < threshold)[0]\n",
        "#                     ids = indices[k,idx]\n",
        "#                     posting_ids = ' '.join(test['posting_id'].iloc[ids].values)\n",
        "#                     predictions.append(posting_ids)\n",
        "#                 test['pred_matches'] = predictions\n",
        "#                 test['f1'] = f1_score(test['matches'], test['pred_matches'])\n",
        "#                 score = test['f1'].mean()\n",
        "#                 scores.append(score)\n",
        "#                 if best_s<score:\n",
        "#                     best_s=score\n",
        "#                     best_e=en\n",
        "#                     best_t=threshold\n",
        "#                 if en-best_e>10:\n",
        "#                     break\n",
        "# #             thresholds_scores = pd.DataFrame({'thresholds': thresholds, 'scores': scores})\n",
        "# #             max_score = thresholds_scores[thresholds_scores['scores'] == thresholds_scores['scores'].max()]\n",
        "# #             best_threshold = max_score['thresholds'].values[0]\n",
        "# #             best_score = max_score['scores'].values[0]\n",
        "#             print(f'Our best score is {best_s} and has a threshold {best_t}')\n",
        "#             if best_val<best_s:\n",
        "#                 best_epoch=epoch\n",
        "#                 best_val=best_s\n",
        "#             if epoch-best_epoch>10:\n",
        "#                 break\n",
        "#             del knn, distances, indices\n",
        "#             gc.collect()\n",
        "    torch.save(model.state_dict(),'weights')\n",
        "\n",
        "train_dataset = TextDataset(train, tokenizer, max_length=CFG.max_length)\n",
        "train_loader = torch.utils.data.DataLoader(train_dataset, \n",
        "                                           batch_size=CFG.batch_size, \n",
        "                                           num_workers=CFG.num_workers, \n",
        "                                           shuffle=True)\n",
        "\n",
        "valid_dataset = TextDataset(test, tokenizer, max_length=CFG.max_length)\n",
        "valid_loader = torch.utils.data.DataLoader(valid_dataset, \n",
        "                                           batch_size=CFG.batch_size, \n",
        "                                           num_workers=CFG.num_workers, \n",
        "                                           shuffle=False)\n",
        "\n",
        "model = Model(bert_model).to(CFG.device)\n",
        "criterion = nn.CrossEntropyLoss()\n",
        "optimizer = torch.optim.Adam(model.parameters(), lr=CFG.learning_rate)\n",
        "if CFG.scheduler == \"ReduceLROnPlateau\":\n",
        "    lr_scheduler = torch.optim.lr_scheduler.ReduceLROnPlateau(optimizer, \n",
        "                                                              mode=\"min\", \n",
        "                                                              factor=CFG.factor, \n",
        "                                                              patience=CFG.patience)\n",
        "tmp = test.groupby(['label_group'])['posting_id'].unique().to_dict()\n",
        "test['matches'] = test['label_group'].map(tmp)\n",
        "test['matches'] = test['matches'].apply(lambda x: ' '.join(x))\n",
        "train_eval(100, model, train_loader,test,\n",
        "           criterion, optimizer, lr_scheduler=lr_scheduler)\n",
        "\n"
      ],
      "execution_count": null,
      "outputs": [
        {
          "output_type": "stream",
          "text": [
            "/usr/local/lib/python3.7/dist-packages/torch/utils/data/dataloader.py:477: UserWarning: This DataLoader will create 4 worker processes in total. Our suggested max number of worker in current system is 2, which is smaller than what this DataLoader is going to create. Please be aware that excessive worker creation might get DataLoader running slow or even freeze, lower the worker number to avoid potential slowness/freeze if necessary.\n",
            "  cpuset_checked))\n"
          ],
          "name": "stderr"
        },
        {
          "output_type": "stream",
          "text": [
            "******************************\n",
            "Epoch 1\n"
          ],
          "name": "stdout"
        },
        {
          "output_type": "display_data",
          "data": {
            "application/vnd.jupyter.widget-view+json": {
              "model_id": "93443aff151a43e78484b52db2bedd9e",
              "version_minor": 0,
              "version_major": 2
            },
            "text/plain": [
              "HBox(children=(FloatProgress(value=0.0, max=421.0), HTML(value='')))"
            ]
          },
          "metadata": {
            "tags": []
          }
        },
        {
          "output_type": "stream",
          "text": [
            "\n",
            "******************************\n",
            "Epoch 2\n"
          ],
          "name": "stdout"
        },
        {
          "output_type": "display_data",
          "data": {
            "application/vnd.jupyter.widget-view+json": {
              "model_id": "36f96c96bd6748dfacf4543d6c9d4272",
              "version_minor": 0,
              "version_major": 2
            },
            "text/plain": [
              "HBox(children=(FloatProgress(value=0.0, max=421.0), HTML(value='')))"
            ]
          },
          "metadata": {
            "tags": []
          }
        }
      ]
    },
    {
      "cell_type": "code",
      "metadata": {
        "id": "LAzTsiXKH_J_"
      },
      "source": [
        ""
      ],
      "execution_count": null,
      "outputs": []
    }
  ]
}