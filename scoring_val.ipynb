{
  "nbformat": 4,
  "nbformat_minor": 0,
  "metadata": {
    "colab": {
      "name": "scoring_val.ipynb",
      "provenance": [],
      "authorship_tag": "ABX9TyNz3SI+p6OA5ycJQQOKrLaI",
      "include_colab_link": true
    },
    "kernelspec": {
      "name": "python3",
      "display_name": "Python 3"
    },
    "language_info": {
      "name": "python"
    }
  },
  "cells": [
    {
      "cell_type": "markdown",
      "metadata": {
        "id": "view-in-github",
        "colab_type": "text"
      },
      "source": [
        "<a href=\"https://colab.research.google.com/github/greyhound101/shopee/blob/main/scoring_val.ipynb\" target=\"_parent\"><img src=\"https://colab.research.google.com/assets/colab-badge.svg\" alt=\"Open In Colab\"/></a>"
      ]
    },
    {
      "cell_type": "code",
      "metadata": {
        "id": "h757Lh3cLDbF"
      },
      "source": [
        ""
      ],
      "execution_count": null,
      "outputs": []
    },
    {
      "cell_type": "code",
      "metadata": {
        "id": "ywtK1vOfrNDD"
      },
      "source": [
        "def f1_score(y_true, y_pred):\n",
        "    y_true = y_true.apply(lambda x: set(x.split()))\n",
        "    y_pred = y_pred.apply(lambda x: set(x.split()))\n",
        "    intersection = np.array([len(x[0] & x[1]) for x in zip(y_true, y_pred)])\n",
        "    len_y_pred = y_pred.apply(lambda x: len(x)).values\n",
        "    len_y_true = y_true.apply(lambda x: len(x)).values\n",
        "    f1 = 2 * intersection / (len_y_pred + len_y_true)\n",
        "    return f1\n",
        "def get_neighbors(df, embeddings, KNN = 50, image = True):\n",
        "    model = NearestNeighbors(n_neighbors = KNN)\n",
        "    model.fit(embeddings)\n",
        "    distances, indices = model.kneighbors(embeddings)\n",
        "    \n",
        "    # Iterate through different thresholds to maximize cv, run this in interactive mode, then replace else clause with a solid threshold\n",
        "    thresholds = list(np.arange(4.0, 6.0, 0.1))\n",
        "    scores = []\n",
        "    for threshold in thresholds:\n",
        "            predictions = []\n",
        "            for k in range(embeddings.shape[0]):\n",
        "                idx = np.where(distances[k,] < threshold)[0]\n",
        "                ids = indices[k,idx]\n",
        "                posting_ids = ' '.join(df['posting_id'].iloc[ids].values)\n",
        "                predictions.append(posting_ids)\n",
        "            df['pred_matches'] = predictions\n",
        "            df['f1'] = f1_score(df['matches'], df['pred_matches'])\n",
        "            score = df['f1'].mean()\n",
        "            print(f'Our f1 score for threshold {threshold} is {score}')\n",
        "            scores.append(score)\n",
        "    thresholds_scores = pd.DataFrame({'thresholds': thresholds, 'scores': scores})\n",
        "    max_score = thresholds_scores[thresholds_scores['scores'] == thresholds_scores['scores'].max()]\n",
        "    best_threshold = max_score['thresholds'].values[0]\n",
        "    best_score = max_score['scores'].values[0]\n",
        "    print(f'Our best score is {best_score} and has a threshold {best_threshold}')\n",
        "    del model, distances, indices\n",
        "    gc.collect()\n",
        "\n",
        "class check(Callback):\n",
        "    def __init__(self, X_seq):\n",
        "        super(Callback, self).__init__()\n",
        "\n",
        "        self.X_seq = X_seq\n",
        "    \n",
        "    def on_epoch_end(self, epoch, logs={}):\n",
        "        if epoch % self.interval == 0:\n",
        "            y_pred = self.model.predict_generator(self.X_seq, steps=len(self.X_seq), \n",
        "                                                            use_multiprocessing=False, workers=1, \n",
        "                                                            max_queue_size=2*4)\n",
        "            get_neighbors(self.df,y_pred)\n",
        "            \n",
        "kappa_metric = KappaEvaluationSeq(val_seq, Y, Y2, smpls, 'val')"
      ],
      "execution_count": null,
      "outputs": []
    }
  ]
}