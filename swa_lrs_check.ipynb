{
  "nbformat": 4,
  "nbformat_minor": 0,
  "metadata": {
    "colab": {
      "name": "swa_lrs_check.ipynb",
      "provenance": [],
      "authorship_tag": "ABX9TyOo6m3t+Px+LFc+qhWDr8Ai",
      "include_colab_link": true
    },
    "kernelspec": {
      "name": "python3",
      "display_name": "Python 3"
    },
    "language_info": {
      "name": "python"
    }
  },
  "cells": [
    {
      "cell_type": "markdown",
      "metadata": {
        "id": "view-in-github",
        "colab_type": "text"
      },
      "source": [
        "<a href=\"https://colab.research.google.com/github/greyhound101/shopee/blob/main/swa_lrs_check.ipynb\" target=\"_parent\"><img src=\"https://colab.research.google.com/assets/colab-badge.svg\" alt=\"Open In Colab\"/></a>"
      ]
    },
    {
      "cell_type": "code",
      "metadata": {
        "id": "6NWPpUiEMGig"
      },
      "source": [
        "class stocasticensembling():\n",
        "  def __init__(self):\n",
        "    #save_se_weights: save after each epoch ?\n",
        "\n",
        "    self.lr_start   = 0.000001\n",
        "    self.lr_max     = 0.000005 * 128\n",
        "    self.lr_min     = 0.000001\n",
        "    self.lr_ramp_ep = 5\n",
        "    self.lr_sus_ep  = 0\n",
        "    self.model_count = 0\n",
        "    self.clr_iterations = 0\n",
        "    self.lr_decay   = 0.8\n",
        "    self.cycle_len=2\n",
        "    self.swa_cycle_start_inx=15\n",
        "    self.iter_per_epoch=108\n",
        "    self.alpha1=alpha1=lr_min\n",
        "    self.iter_per_cycle = self.cycle_len * self.iter_per_epoch\n",
        "    self.alpha2=alpha2=lr_min*10\n",
        "    self.cycle_num=0\n",
        "\n",
        "  def on_train_end(self,logs={}):\n",
        "    self.weight_update()\n",
        "    self.model.set_weights(self.swa_weights)\n",
        "    \n",
        "  \n",
        "  \n",
        "  def on_epoch_end(self,epoch,logs=None):\n",
        "    self.cycle_num+=1\n",
        "    if (self._t_cycle() !=1) or (epoch<self.swa_cycle_start_inx):\n",
        "      return\n",
        "    self.model_count+=1\n",
        "    print('updating for lr = '+str(self.lr)+' at epoch '+str(self.cycle_num))\n",
        "  \n",
        "  \n",
        "  def on_batch_begin(self,batch,logs=None):\n",
        "      self.clr_iterations+=1\n",
        "      lr=self._clr_schedule()\n",
        "      self.lr=lr\n",
        "      return lr\n",
        "  \n",
        "  \n",
        "  \n",
        "  def weight_update(self):\n",
        "    weights=self.model.get_weights()\n",
        "    if self.model_count==0:\n",
        "      self.swa_weights=weights\n",
        "    for i in range(0,len(weights)):\n",
        "      self.swa_weights[i]=(self.swa_weights[i]*self.model_count+weights[i])/(self.model_count+1)\n",
        "  \n",
        "  \n",
        "  def _t_cycle(self):\n",
        "        return (((self.clr_iterations - 1) % self.iter_per_cycle) + 1) / self.iter_per_cycle\n",
        "  \n",
        "  \n",
        "  def _clr_schedule(self):\n",
        "    if self.cycle_num>self.swa_cycle_start_inx:\n",
        "      return ((1.0 - 1.0 *self._t_cycle()) * self.alpha2) + (1.0 *self._t_cycle() *self.alpha1)\n",
        "    else:\n",
        "      if self.cycle_num < self.lr_ramp_ep:\n",
        "            lr = (self.lr_max - self.lr_start) / self.lr_ramp_ep * self.cycle_num + self.lr_start   \n",
        "      elif self.cycle_num < self.lr_ramp_ep + self.lr_sus_ep:\n",
        "            lr = self.lr_max    \n",
        "      else:\n",
        "            lr = (self.lr_max - self.lr_min) * self.lr_decay**(self.cycle_num - self.lr_ramp_ep - self.lr_sus_ep) + self.lr_min   \n",
        "      return lr"
      ],
      "execution_count": 95,
      "outputs": []
    },
    {
      "cell_type": "code",
      "metadata": {
        "id": "uEhoZS-NNesq",
        "colab": {
          "base_uri": "https://localhost:8080/"
        },
        "outputId": "f0b4f80e-aaff-40b4-8a30-a205c12c38e9"
      },
      "source": [
        "cll=stocasticensembling()\n",
        "ls=[]\n",
        "for epoch in range(20):\n",
        "  for itr in range(108):\n",
        "\n",
        "    ls.append(cll.on_batch_begin(itr))\n",
        "  cll.on_epoch_end(epoch)"
      ],
      "execution_count": 96,
      "outputs": [
        {
          "output_type": "stream",
          "text": [
            "updating for lr = 6.961210255360004e-05 at epoch 16\n",
            "updating for lr = 1e-06 at epoch 18\n",
            "updating for lr = 1e-06 at epoch 20\n"
          ],
          "name": "stdout"
        }
      ]
    },
    {
      "cell_type": "code",
      "metadata": {
        "id": "KG4bxtH5PBCt",
        "colab": {
          "base_uri": "https://localhost:8080/",
          "height": 284
        },
        "outputId": "de3668b2-2f51-49bc-cd45-a0cbd2131200"
      },
      "source": [
        "from matplotlib import pyplot as plt\n",
        "plt.plot(ls)"
      ],
      "execution_count": 97,
      "outputs": [
        {
          "output_type": "execute_result",
          "data": {
            "text/plain": [
              "[<matplotlib.lines.Line2D at 0x7f34a1051310>]"
            ]
          },
          "metadata": {
            "tags": []
          },
          "execution_count": 97
        },
        {
          "output_type": "display_data",
          "data": {
            "image/png": "[encoded data removed]",
            "text/plain": [
              "<Figure size 432x288 with 1 Axes>"
            ]
          },
          "metadata": {
            "tags": [],
            "needs_background": "light"
          }
        }
      ]
    },
    {
      "cell_type": "code",
      "metadata": {
        "id": "5nStbBQl8Bqx"
      },
      "source": [
        ""
      ],
      "execution_count": null,
      "outputs": []
    }
  ]
}