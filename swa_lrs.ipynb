{
  "nbformat": 4,
  "nbformat_minor": 0,
  "metadata": {
    "colab": {
      "name": "swa_lrs.ipynb",
      "provenance": [],
      "authorship_tag": "ABX9TyMQEh6eCM/ex2gDkqszJiUa",
      "include_colab_link": true
    },
    "kernelspec": {
      "name": "python3",
      "display_name": "Python 3"
    },
    "language_info": {
      "name": "python"
    }
  },
  "cells": [
    {
      "cell_type": "markdown",
      "metadata": {
        "id": "view-in-github",
        "colab_type": "text"
      },
      "source": [
        "<a href=\"https://colab.research.google.com/github/greyhound101/shopee/blob/main/swa_lrs.ipynb\" target=\"_parent\"><img src=\"https://colab.research.google.com/assets/colab-badge.svg\" alt=\"Open In Colab\"/></a>"
      ]
    },
    {
      "cell_type": "code",
      "metadata": {
        "id": "6NWPpUiEMGig"
      },
      "source": [
        "class stocasticensembling(Callback):\n",
        "  def __init__(self,model_name,alpha1,alpha2,iter_per_epoch,cycle_len,seqs_dict,start_inx=0,save_se_weights=False,folder='/content',**kwargs):\n",
        "    #save_se_weights: save after each epoch ?\n",
        "\n",
        "    super(stocasticensembling,self).__init__()\n",
        "    self.alpha1=alpha1\n",
        "    self.alpha2=alpha2\n",
        "    self.clr_iterations=0\n",
        "    self.cycle_num=cycle_len\n",
        "    self.cycle_len=cycle_len\n",
        "    self.iter_per_epoch=iter_per_epoch\n",
        "    self.iter_per_cycle = self.cycle_len * self.iter_per_epoch\n",
        "    self.start_inx=start_inx\n",
        "    \n",
        "  def on_train_end(self,logs={}):\n",
        "    self.weight_update()\n",
        "    self.model.set_weights(self.swa_weights)\n",
        "    \n",
        "  \n",
        "  \n",
        "  def on_epoch_end(self,epoch,logs=None):\n",
        "    self.cycle_num+=1\n",
        "    if (self._t_cycle() !=1) or (epoch<self.start_inx):\n",
        "      return\n",
        "    self.weight_update()\n",
        "    self.model_count+=1\n",
        "  \n",
        "  \n",
        "  def on_batch_begin(self,batch,logs=None):\n",
        "    if self.cycle_num<self.start_inx:\n",
        "      self.clr_iterations+=1\n",
        "      lr=self._clr_schedule()\n",
        "      K.set_value(self.model.optimizer.lr,lr)\n",
        "  \n",
        "  \n",
        "  \n",
        "  def weight_update(self):\n",
        "    weights=self.model.get_weights()\n",
        "    if self.model_count==0:\n",
        "      self.swa_weights=weights\n",
        "    for i in range(0,len(weights)):\n",
        "      self.swa_weights[i]=(self.swa_weights[i]*self.model_count+weights[i])/(self.model_count+1)\n",
        "  \n",
        "  \n",
        "  def _t_cycle(self):\n",
        "        return (((self.clr_iterations - 1) % self.iter_per_cycle) + 1) / self.iter_per_cycle\n",
        "  \n",
        "  \n",
        "  def _clr_schedule(self):\n",
        "    return ((1.0 - 1.0 *self._t_cycle()) * self.alpha2) + (1.0 *self._t_cycle() *self.alpha1)"
      ],
      "execution_count": null,
      "outputs": []
    },
    {
      "cell_type": "code",
      "metadata": {
        "id": "uEhoZS-NNesq"
      },
      "source": [
        "cycle_len=2\n",
        "iter_per_epoch=108\n",
        "alpha1=5e-4\n",
        "alpha2=5e-3"
      ],
      "execution_count": 64,
      "outputs": []
    },
    {
      "cell_type": "code",
      "metadata": {
        "colab": {
          "base_uri": "https://localhost:8080/"
        },
        "id": "S7JcygRbOsNb",
        "outputId": "92857e14-e978-41ce-f577-d8f883b8c235"
      },
      "source": [
        "iter_per_cycle = cycle_len * iter_per_epoch\n",
        "iter_per_cycle"
      ],
      "execution_count": 65,
      "outputs": [
        {
          "output_type": "execute_result",
          "data": {
            "text/plain": [
              "216"
            ]
          },
          "metadata": {
            "tags": []
          },
          "execution_count": 65
        }
      ]
    },
    {
      "cell_type": "code",
      "metadata": {
        "id": "lzLJWQ2zM6bX"
      },
      "source": [
        "def _t_cycle():\n",
        "        return (((clr_iterations - 1) % iter_per_cycle) + 1) /iter_per_cycle\n",
        "  \n",
        "  \n",
        "def _clr_schedule():\n",
        "    if cycle_num>swa_cycle_start_inx:\n",
        "      decay = 1 / (2 ** cycle_num)\n",
        "      return ((1.0 - 1.0 *_t_cycle()) * alpha2) + (1.0 *_t_cycle() *alpha1)*decay\n",
        "    else:\n",
        "      return 1"
      ],
      "execution_count": 76,
      "outputs": []
    },
    {
      "cell_type": "code",
      "metadata": {
        "id": "J_7lRYHPNs4C"
      },
      "source": [
        "ls=[]\n",
        "swa_cycle_start_inx=16\n",
        "for cycle_num in range(20):\n",
        "  for clr_iterations in range(108):\n",
        "    ls.append(_clr_schedule())"
      ],
      "execution_count": 77,
      "outputs": []
    },
    {
      "cell_type": "code",
      "metadata": {
        "colab": {
          "base_uri": "https://localhost:8080/",
          "height": 284
        },
        "id": "rcOXHGArOA-x",
        "outputId": "a9a08924-b313-405d-ff3f-018ae2e997ef"
      },
      "source": [
        "import seaborn as sns\n",
        "from matplotlib import pyplot as plt\n",
        "plt.plot(ls)"
      ],
      "execution_count": 78,
      "outputs": [
        {
          "output_type": "execute_result",
          "data": {
            "text/plain": [
              "[<matplotlib.lines.Line2D at 0x7f924217d1d0>]"
            ]
          },
          "metadata": {
            "tags": []
          },
          "execution_count": 78
        },
        {
          "output_type": "display_data",
          "data": {
            "image/png": "[encoded data removed]",
            "text/plain": [
              "<Figure size 432x288 with 1 Axes>"
            ]
          },
          "metadata": {
            "tags": [],
            "needs_background": "light"
          }
        }
      ]
    },
    {
      "cell_type": "code",
      "metadata": {
        "id": "YjeHEn0hQdxh"
      },
      "source": [
        "a=[]\n",
        "for i in range(4):\n",
        "  a.append(ls[i*108])"
      ],
      "execution_count": 73,
      "outputs": []
    },
    {
      "cell_type": "code",
      "metadata": {
        "colab": {
          "base_uri": "https://localhost:8080/",
          "height": 284
        },
        "id": "_QVHisAyQh7y",
        "outputId": "91966952-632b-42c2-f7be-888938a092e4"
      },
      "source": [
        "\n",
        "plt.plot(a)"
      ],
      "execution_count": 74,
      "outputs": [
        {
          "output_type": "execute_result",
          "data": {
            "text/plain": [
              "[<matplotlib.lines.Line2D at 0x7f9242192450>]"
            ]
          },
          "metadata": {
            "tags": []
          },
          "execution_count": 74
        },
        {
          "output_type": "display_data",
          "data": {
            "image/png": "[encoded data removed]",
            "text/plain": [
              "<Figure size 432x288 with 1 Axes>"
            ]
          },
          "metadata": {
            "tags": [],
            "needs_background": "light"
          }
        }
      ]
    },
    {
      "cell_type": "code",
      "metadata": {
        "colab": {
          "base_uri": "https://localhost:8080/"
        },
        "id": "WhazPY4GP1CT",
        "outputId": "0abb9506-e75b-4186-be0f-04368c20f507"
      },
      "source": [
        "min(ls),max(ls)"
      ],
      "execution_count": 75,
      "outputs": [
        {
          "output_type": "execute_result",
          "data": {
            "text/plain": [
              "(6.25e-05, 0.004979166666666667)"
            ]
          },
          "metadata": {
            "tags": []
          },
          "execution_count": 75
        }
      ]
    },
    {
      "cell_type": "code",
      "metadata": {
        "colab": {
          "base_uri": "https://localhost:8080/"
        },
        "id": "c7lzcRNhOAED",
        "outputId": "cc594d5d-005f-40ce-c69f-aeb6d1d84c20"
      },
      "source": [
        "ls[924]"
      ],
      "execution_count": 51,
      "outputs": [
        {
          "output_type": "execute_result",
          "data": {
            "text/plain": [
              "0.00025"
            ]
          },
          "metadata": {
            "tags": []
          },
          "execution_count": 51
        }
      ]
    },
    {
      "cell_type": "code",
      "metadata": {
        "colab": {
          "base_uri": "https://localhost:8080/"
        },
        "id": "HeV8q-BOO6qv",
        "outputId": "b305de50-fe3f-4f98-f52e-65bc39ab38ec"
      },
      "source": [
        "ls[0]"
      ],
      "execution_count": 52,
      "outputs": [
        {
          "output_type": "execute_result",
          "data": {
            "text/plain": [
              "0.0005"
            ]
          },
          "metadata": {
            "tags": []
          },
          "execution_count": 52
        }
      ]
    },
    {
      "cell_type": "code",
      "metadata": {
        "colab": {
          "base_uri": "https://localhost:8080/"
        },
        "id": "7I_GHyrZO_VO",
        "outputId": "52628a57-c646-42e4-be93-cbb6851906d2"
      },
      "source": [
        "ls[0]"
      ],
      "execution_count": 20,
      "outputs": [
        {
          "output_type": "execute_result",
          "data": {
            "text/plain": [
              "0.0005"
            ]
          },
          "metadata": {
            "tags": []
          },
          "execution_count": 20
        }
      ]
    },
    {
      "cell_type": "code",
      "metadata": {
        "id": "KG4bxtH5PBCt"
      },
      "source": [
        ""
      ],
      "execution_count": null,
      "outputs": []
    }
  ]
}