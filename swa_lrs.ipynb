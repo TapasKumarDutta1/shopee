{
  "nbformat": 4,
  "nbformat_minor": 0,
  "metadata": {
    "colab": {
      "name": "swa_lrs.ipynb",
      "provenance": [],
      "authorship_tag": "ABX9TyPLJqHUijeCO658qNVHzp6U",
      "include_colab_link": true
    },
    "kernelspec": {
      "name": "python3",
      "display_name": "Python 3"
    },
    "language_info": {
      "name": "python"
    }
  },
  "cells": [
    {
      "cell_type": "markdown",
      "metadata": {
        "id": "view-in-github",
        "colab_type": "text"
      },
      "source": [
        "<a href=\"https://colab.research.google.com/github/greyhound101/shopee/blob/main/swa_lrs.ipynb\" target=\"_parent\"><img src=\"https://colab.research.google.com/assets/colab-badge.svg\" alt=\"Open In Colab\"/></a>"
      ]
    },
    {
      "cell_type": "code",
      "metadata": {
        "id": "6NWPpUiEMGig"
      },
      "source": [
        "class stocasticensembling(Callback):\n",
        "  def __init__(self,model_name,alpha1,alpha2,iter_per_epoch,cycle_len,seqs_dict,start_inx=0,save_se_weights=False,folder='/content',**kwargs):\n",
        "    #save_se_weights: save after each epoch ?\n",
        "\n",
        "    super(stocasticensembling,self).__init__()\n",
        "    self.alpha1=alpha1\n",
        "    self.alpha2=alpha2\n",
        "    self.clr_iterations=0\n",
        "    self.cycle_num=cycle_len\n",
        "    self.cycle_len=cycle_len\n",
        "    self.iter_per_epoch=iter_per_epoch\n",
        "    self.iter_per_cycle = self.cycle_len * self.iter_per_epoch\n",
        "    self.start_inx=start_inx\n",
        "    \n",
        "  def on_train_end(self,logs={}):\n",
        "    self.weight_update()\n",
        "    self.model.set_weights(self.swa_weights)\n",
        "    \n",
        "  \n",
        "  \n",
        "  def on_epoch_end(self,epoch,logs=None):\n",
        "    self.cycle_num+=1\n",
        "    if (self._t_cycle() !=1) or (epoch<self.start_inx):\n",
        "      return\n",
        "    self.weight_update()\n",
        "    self.model_count+=1\n",
        "  \n",
        "  \n",
        "  def on_batch_begin(self,batch,logs=None):\n",
        "    if self.cycle_num<self.start_inx:\n",
        "      self.clr_iterations+=1\n",
        "      lr=self._clr_schedule()\n",
        "      K.set_value(self.model.optimizer.lr,lr)\n",
        "  \n",
        "  \n",
        "  \n",
        "  def weight_update(self):\n",
        "    weights=self.model.get_weights()\n",
        "    if self.model_count==0:\n",
        "      self.swa_weights=weights\n",
        "    for i in range(0,len(weights)):\n",
        "      self.swa_weights[i]=(self.swa_weights[i]*self.model_count+weights[i])/(self.model_count+1)\n",
        "  \n",
        "  \n",
        "  def _t_cycle(self):\n",
        "        return (((self.clr_iterations - 1) % self.iter_per_cycle) + 1) / self.iter_per_cycle\n",
        "  \n",
        "  \n",
        "  def _clr_schedule(self):\n",
        "    return ((1.0 - 1.0 *self._t_cycle()) * self.alpha2) + (1.0 *self._t_cycle() *self.alpha1)"
      ],
      "execution_count": null,
      "outputs": []
    },
    {
      "cell_type": "code",
      "metadata": {
        "id": "uEhoZS-NNesq"
      },
      "source": [
        "lr_start   = 0.000001\n",
        "lr_max     = 0.000005 * 128\n",
        "lr_min     = 0.000001\n",
        "lr_ramp_ep = 5\n",
        "lr_sus_ep  = 0\n",
        "lr_decay   = 0.8\n",
        "cycle_len=2\n",
        "iter_per_epoch=108\n",
        "alpha1=lr_min\n",
        "alpha2=lr_min*10"
      ],
      "execution_count": 65,
      "outputs": []
    },
    {
      "cell_type": "code",
      "metadata": {
        "colab": {
          "base_uri": "https://localhost:8080/"
        },
        "id": "S7JcygRbOsNb",
        "outputId": "fe6b3a92-3a36-467f-c6fd-a8a321b03a54"
      },
      "source": [
        "iter_per_cycle = cycle_len * iter_per_epoch\n",
        "iter_per_cycle"
      ],
      "execution_count": 66,
      "outputs": [
        {
          "output_type": "execute_result",
          "data": {
            "text/plain": [
              "216"
            ]
          },
          "metadata": {
            "tags": []
          },
          "execution_count": 66
        }
      ]
    },
    {
      "cell_type": "code",
      "metadata": {
        "id": "lzLJWQ2zM6bX"
      },
      "source": [
        "def _t_cycle():\n",
        "        return (((clr_iterations - 1) % iter_per_cycle) + 1) /iter_per_cycle\n",
        "  \n",
        "  \n",
        "def _clr_schedule():\n",
        "    if cycle_num>swa_cycle_start_inx:\n",
        "      return ((1.0 - 1.0 *_t_cycle()) * alpha2) + (1.0 *_t_cycle() *alpha1)\n",
        "    else:\n",
        "      if cycle_num < lr_ramp_ep:\n",
        "            lr = (lr_max - lr_start) / lr_ramp_ep * cycle_num + lr_start   \n",
        "      elif cycle_num < lr_ramp_ep + lr_sus_ep:\n",
        "            lr = lr_max    \n",
        "      else:\n",
        "            lr = (lr_max - lr_min) * lr_decay**(cycle_num - lr_ramp_ep - lr_sus_ep) + lr_min   \n",
        "      return lr"
      ],
      "execution_count": 70,
      "outputs": []
    },
    {
      "cell_type": "code",
      "metadata": {
        "id": "J_7lRYHPNs4C"
      },
      "source": [
        "ls=[]\n",
        "swa_cycle_start_inx=15\n",
        "for cycle_num in range(20):\n",
        "  for x in range(108):\n",
        "    clr_iterations = x+108 *cycle_num\n",
        "    lr=_clr_schedule()\n",
        "    ls.append(lr)"
      ],
      "execution_count": 71,
      "outputs": []
    },
    {
      "cell_type": "code",
      "metadata": {
        "colab": {
          "base_uri": "https://localhost:8080/",
          "height": 284
        },
        "id": "rcOXHGArOA-x",
        "outputId": "cb5d698e-750f-44f3-8677-5b0863093812"
      },
      "source": [
        "import seaborn as sns\n",
        "from matplotlib import pyplot as plt\n",
        "plt.plot(ls)"
      ],
      "execution_count": 72,
      "outputs": [
        {
          "output_type": "execute_result",
          "data": {
            "text/plain": [
              "[<matplotlib.lines.Line2D at 0x7f34a1480fd0>]"
            ]
          },
          "metadata": {
            "tags": []
          },
          "execution_count": 72
        },
        {
          "output_type": "display_data",
          "data": {
            "image/png": "[encoded data removed]",
            "text/plain": [
              "<Figure size 432x288 with 1 Axes>"
            ]
          },
          "metadata": {
            "tags": [],
            "needs_background": "light"
          }
        }
      ]
    },
    {
      "cell_type": "code",
      "metadata": {
        "id": "KG4bxtH5PBCt"
      },
      "source": [
        ""
      ],
      "execution_count": null,
      "outputs": []
    }
  ]
}